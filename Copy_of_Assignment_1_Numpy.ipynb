{
  "nbformat": 4,
  "nbformat_minor": 0,
  "metadata": {
    "kernelspec": {
      "display_name": "Python 3",
      "language": "python",
      "name": "python3"
    },
    "language_info": {
      "codemirror_mode": {
        "name": "ipython",
        "version": 3
      },
      "file_extension": ".py",
      "mimetype": "text/x-python",
      "name": "python",
      "nbconvert_exporter": "python",
      "pygments_lexer": "ipython3",
      "version": "3.8.3"
    },
    "colab": {
      "name": "Copy of Assignment_1_Numpy.ipynb",
      "provenance": []
    }
  },
  "cells": [
    {
      "cell_type": "markdown",
      "metadata": {
        "id": "HYBjnKxJoC8E"
      },
      "source": [
        "# Numpy\n",
        "\n"
      ]
    },
    {
      "cell_type": "markdown",
      "metadata": {
        "id": "et7_bAf4oC8K"
      },
      "source": [
        "#### 1. Import the numpy package under the name `np` (★☆☆) \n",
        "(**hint**: import … as …)"
      ]
    },
    {
      "cell_type": "code",
      "metadata": {
        "collapsed": true,
        "id": "3KQOrCBmoC8M"
      },
      "source": [
        "import numpy as np"
      ],
      "execution_count": null,
      "outputs": []
    },
    {
      "cell_type": "markdown",
      "metadata": {
        "id": "sj49-rmjoC8N"
      },
      "source": [
        "#### 2. Print the numpy version and the configuration (★☆☆) \n",
        "(**hint**: np.\\_\\_version\\_\\_, np.show\\_config)"
      ]
    },
    {
      "cell_type": "code",
      "metadata": {
        "id": "ZF3fWvjkoC8O",
        "colab": {
          "base_uri": "https://localhost:8080/"
        },
        "outputId": "4c53ce1d-85d5-4729-bf3a-e2c3f3b50b67"
      },
      "source": [
        "print(np.__version__,np.show_config)"
      ],
      "execution_count": null,
      "outputs": [
        {
          "output_type": "stream",
          "name": "stdout",
          "text": [
            "1.19.5 <function show at 0x7fe7445d8ef0>\n"
          ]
        }
      ]
    },
    {
      "cell_type": "markdown",
      "metadata": {
        "id": "SlOQO-EMoC8O"
      },
      "source": [
        "#### 3. Create a null vector of size 10 (★☆☆) \n",
        "(**hint**: np.zeros)"
      ]
    },
    {
      "cell_type": "code",
      "metadata": {
        "id": "_FITkU60oC8P",
        "colab": {
          "base_uri": "https://localhost:8080/"
        },
        "outputId": "de306dfa-3df0-4646-9f1e-7004be0eb6e6"
      },
      "source": [
        "x = np.zeros(10)\n",
        "print(x)"
      ],
      "execution_count": null,
      "outputs": [
        {
          "output_type": "stream",
          "name": "stdout",
          "text": [
            "[0. 0. 0. 0. 0. 0. 0. 0. 0. 0.]\n"
          ]
        }
      ]
    },
    {
      "cell_type": "markdown",
      "metadata": {
        "id": "V-NSV2kvoC8P"
      },
      "source": [
        "#### 4.  How to find the memory size of any array (★☆☆) \n",
        "(**hint**: size, itemsize)"
      ]
    },
    {
      "cell_type": "code",
      "metadata": {
        "id": "9YPQHiKpoC8R",
        "colab": {
          "base_uri": "https://localhost:8080/"
        },
        "outputId": "3afb8fe7-9ce1-4328-cc7b-3f2d78009bf2"
      },
      "source": [
        "x = np.array([20,34,50,45,89,100])\n",
        "print(x.size,x.itemsize)"
      ],
      "execution_count": null,
      "outputs": [
        {
          "output_type": "stream",
          "name": "stdout",
          "text": [
            "6 8\n"
          ]
        }
      ]
    },
    {
      "cell_type": "markdown",
      "metadata": {
        "id": "XI1Q9Pd6oC8R"
      },
      "source": [
        "#### 5.  How to get the documentation of the numpy add function from the command line? (★☆☆) \n",
        "(**hint**: np.info)"
      ]
    },
    {
      "cell_type": "code",
      "metadata": {
        "collapsed": true,
        "id": "HpAeUtBAoC8S"
      },
      "source": [
        "import numpy\n",
        "numpy.info(numpy.add)"
      ],
      "execution_count": null,
      "outputs": []
    },
    {
      "cell_type": "markdown",
      "metadata": {
        "id": "bOk_4Lj6oC8S"
      },
      "source": [
        "#### 6.  Create a null vector of size 10 but the fifth value which is 1 (★☆☆) \n",
        "(**hint**: array\\[4\\])"
      ]
    },
    {
      "cell_type": "code",
      "metadata": {
        "id": "qQdLE_SOoC8T",
        "colab": {
          "base_uri": "https://localhost:8080/"
        },
        "outputId": "69d774be-e4d0-4aea-92a2-ceff5e155de3"
      },
      "source": [
        "a= np.zeros(10)\n",
        "a[4]= 1\n",
        "print (a)"
      ],
      "execution_count": null,
      "outputs": [
        {
          "output_type": "stream",
          "name": "stdout",
          "text": [
            "[0. 0. 0. 0. 1. 0. 0. 0. 0. 0.]\n"
          ]
        }
      ]
    },
    {
      "cell_type": "markdown",
      "metadata": {
        "id": "8Q26GFIeoC8T"
      },
      "source": [
        "#### 7.  Create a vector with values ranging from 10 to 49 (★☆☆) \n",
        "(**hint**: np.arange)"
      ]
    },
    {
      "cell_type": "code",
      "metadata": {
        "id": "rqgejtqnoC8U",
        "colab": {
          "base_uri": "https://localhost:8080/"
        },
        "outputId": "c23dcc85-1739-44d1-ca7d-bf5a8a63e3d6"
      },
      "source": [
        "a=np.arange(10,50)\n",
        "print (a)"
      ],
      "execution_count": null,
      "outputs": [
        {
          "output_type": "stream",
          "name": "stdout",
          "text": [
            "[10 11 12 13 14 15 16 17 18 19 20 21 22 23 24 25 26 27 28 29 30 31 32 33\n",
            " 34 35 36 37 38 39 40 41 42 43 44 45 46 47 48 49]\n"
          ]
        }
      ]
    },
    {
      "cell_type": "markdown",
      "metadata": {
        "id": "oyhqYqH1oC8U"
      },
      "source": [
        "#### 8.  Reverse a vector (first element becomes last) (★☆☆) \n",
        "(**hint**: array\\[::-1\\])"
      ]
    },
    {
      "cell_type": "code",
      "metadata": {
        "id": "h2u39rJBoC8V",
        "colab": {
          "base_uri": "https://localhost:8080/"
        },
        "outputId": "d81a711a-f268-4274-8443-7f718be1ba15"
      },
      "source": [
        "a = np.arange(10,50)\n",
        "a= a[::-1]\n",
        "print (a)"
      ],
      "execution_count": null,
      "outputs": [
        {
          "output_type": "stream",
          "name": "stdout",
          "text": [
            "[49 48 47 46 45 44 43 42 41 40 39 38 37 36 35 34 33 32 31 30 29 28 27 26\n",
            " 25 24 23 22 21 20 19 18 17 16 15 14 13 12 11 10]\n"
          ]
        }
      ]
    },
    {
      "cell_type": "markdown",
      "metadata": {
        "id": "8hHtxh-ToC8V"
      },
      "source": [
        "#### 9.  Create a 3x3 matrix with values ranging from 0 to 8 (★☆☆) \n",
        "(**hint**: reshape)"
      ]
    },
    {
      "cell_type": "code",
      "metadata": {
        "id": "cAY-Cm5roC8V",
        "colab": {
          "base_uri": "https://localhost:8080/"
        },
        "outputId": "890e0259-e449-475f-d5b3-b12ca9b0f480"
      },
      "source": [
        "a = np.arange(9).reshape(3,3)\n",
        "print (a)"
      ],
      "execution_count": null,
      "outputs": [
        {
          "output_type": "stream",
          "name": "stdout",
          "text": [
            "[[0 1 2]\n",
            " [3 4 5]\n",
            " [6 7 8]]\n"
          ]
        }
      ]
    },
    {
      "cell_type": "markdown",
      "metadata": {
        "id": "6HICX_R1oC8W"
      },
      "source": [
        "#### 10. Find indices of non-zero elements from \\[1,2,0,0,4,0\\] (★☆☆) \n",
        "(**hint**: np.nonzero)"
      ]
    },
    {
      "cell_type": "code",
      "metadata": {
        "id": "ta61FrwkoC8W",
        "colab": {
          "base_uri": "https://localhost:8080/"
        },
        "outputId": "77becb8d-3bcb-40c6-9ffc-f9a4c83ee139"
      },
      "source": [
        "a = np.nonzero([1,2,0,0,4,0])\n",
        "print(a)"
      ],
      "execution_count": null,
      "outputs": [
        {
          "output_type": "stream",
          "name": "stdout",
          "text": [
            "(array([0, 1, 4]),)\n"
          ]
        }
      ]
    },
    {
      "cell_type": "markdown",
      "metadata": {
        "id": "Kc3NZRtLoC8W"
      },
      "source": [
        "#### 11. Create a 3x3 identity matrix (★☆☆) \n",
        "(**hint**: np.eye)"
      ]
    },
    {
      "cell_type": "code",
      "metadata": {
        "id": "msHcQKi8oC8X",
        "colab": {
          "base_uri": "https://localhost:8080/"
        },
        "outputId": "1ef8b524-b1ce-4a38-977a-4aa6e8db43de"
      },
      "source": [
        "a = np.eye(3)\n",
        "print (a)"
      ],
      "execution_count": null,
      "outputs": [
        {
          "output_type": "stream",
          "name": "stdout",
          "text": [
            "[[1. 0. 0.]\n",
            " [0. 1. 0.]\n",
            " [0. 0. 1.]]\n"
          ]
        }
      ]
    },
    {
      "cell_type": "markdown",
      "metadata": {
        "id": "oyTOhWjwoC8X"
      },
      "source": [
        "#### 12. Create a 3x3x3 array with random values (★☆☆) \n",
        "(**hint**: np.random.random)"
      ]
    },
    {
      "cell_type": "code",
      "metadata": {
        "collapsed": true,
        "id": "pofkLneIoC8X",
        "colab": {
          "base_uri": "https://localhost:8080/"
        },
        "outputId": "564d964f-008c-4398-c7cb-44f46c2a35ec"
      },
      "source": [
        "a = np.random.uniform((3,3,3))\n",
        "print (a)"
      ],
      "execution_count": null,
      "outputs": [
        {
          "output_type": "stream",
          "name": "stdout",
          "text": [
            "[2.58608508 1.38325666 2.01747408]\n"
          ]
        }
      ]
    },
    {
      "cell_type": "markdown",
      "metadata": {
        "id": "4RITTXvtoC8X"
      },
      "source": [
        "#### 13. Create a 10x10 array with random values and find the minimum and maximum values (★☆☆) \n",
        "(**hint**: min, max)"
      ]
    },
    {
      "cell_type": "code",
      "metadata": {
        "id": "dGog8gACoC8Y",
        "colab": {
          "base_uri": "https://localhost:8080/"
        },
        "outputId": "4889df07-4e44-4d9d-8686-9e535e07f482"
      },
      "source": [
        "a = np.random.random((10,10))\n",
        "mininum, maximum = a.min(), a.max()\n",
        "print(mininum, maximum)"
      ],
      "execution_count": null,
      "outputs": [
        {
          "output_type": "stream",
          "name": "stdout",
          "text": [
            "0.0009605626966066039 0.9842037926141379\n"
          ]
        }
      ]
    },
    {
      "cell_type": "markdown",
      "metadata": {
        "id": "SYiTBDQ0oC8Y"
      },
      "source": [
        "#### 14. Create a random vector of size 30 and find the mean value (★☆☆) \n",
        "(**hint**: mean)"
      ]
    },
    {
      "cell_type": "code",
      "metadata": {
        "id": "S9xWCjz2oC8Y",
        "colab": {
          "base_uri": "https://localhost:8080/"
        },
        "outputId": "f1c0cb47-0f3b-499a-c77c-891d440a06fc"
      },
      "source": [
        "a = np.random.random(30)\n",
        "mean_value = a.mean()\n",
        "print (mean_value)"
      ],
      "execution_count": null,
      "outputs": [
        {
          "output_type": "stream",
          "name": "stdout",
          "text": [
            "0.45446345776632335\n"
          ]
        }
      ]
    },
    {
      "cell_type": "markdown",
      "metadata": {
        "id": "kAYoIqyioC8Y"
      },
      "source": [
        "#### 15. Create a 2d array with 1 on the border and 0 inside (★☆☆) \n",
        "(**hint**: array\\[1:-1, 1:-1\\])"
      ]
    },
    {
      "cell_type": "code",
      "metadata": {
        "id": "ZjXNYr9SoC8Y"
      },
      "source": [
        "a = np.ones((50,100))\n",
        "a[1:-1,1:-1]=0"
      ],
      "execution_count": null,
      "outputs": []
    },
    {
      "cell_type": "markdown",
      "metadata": {
        "id": "R6T4DjZAoC8Y"
      },
      "source": [
        "#### 16. How to add a border (filled with 0's) around an existing array? (★☆☆) \n",
        "(**hint**: np.pad)"
      ]
    },
    {
      "cell_type": "code",
      "metadata": {
        "id": "IlTzgVKroC8Z",
        "colab": {
          "base_uri": "https://localhost:8080/"
        },
        "outputId": "625774d3-3477-41a8-a0bd-2a95ac2ac26e"
      },
      "source": [
        "a = np.ones((3,3))\n",
        "a = np.pad(a, pad_width=1, mode='constant', constant_values=0)\n",
        "print(a)"
      ],
      "execution_count": null,
      "outputs": [
        {
          "output_type": "stream",
          "name": "stdout",
          "text": [
            "[[0. 0. 0. 0. 0.]\n",
            " [0. 1. 1. 1. 0.]\n",
            " [0. 1. 1. 1. 0.]\n",
            " [0. 1. 1. 1. 0.]\n",
            " [0. 0. 0. 0. 0.]]\n"
          ]
        }
      ]
    },
    {
      "cell_type": "markdown",
      "metadata": {
        "id": "JTdxT2DToC8Z"
      },
      "source": [
        "#### 17. What is the result of the following expression? (★☆☆) \n",
        "(**hint**: NaN = not a number, inf = infinity)"
      ]
    },
    {
      "cell_type": "markdown",
      "metadata": {
        "id": "ZUgSITbgoC8Z"
      },
      "source": [
        "```python\n",
        "0 * np.nan\n",
        "np.nan == np.nan\n",
        "np.inf > np.nan\n",
        "np.nan - np.nan\n",
        "0.3 == 3 * 0.1\n",
        "```"
      ]
    },
    {
      "cell_type": "code",
      "metadata": {
        "id": "PzrWqrhAoC8Z",
        "colab": {
          "base_uri": "https://localhost:8080/"
        },
        "outputId": "5771ee36-2486-4bb6-8323-1f0d46ec0b1b"
      },
      "source": [
        "print(0 * np.nan)\n",
        "print(np.nan == np.nan)\n",
        "print(np.inf > np.nan)\n",
        "print(np.nan - np.nan)\n",
        "print(0.3 == 3 * 0.1)"
      ],
      "execution_count": null,
      "outputs": [
        {
          "output_type": "stream",
          "name": "stdout",
          "text": [
            "nan\n",
            "False\n",
            "False\n",
            "nan\n",
            "False\n"
          ]
        }
      ]
    },
    {
      "cell_type": "markdown",
      "metadata": {
        "id": "_1KYbydjoC8a"
      },
      "source": [
        "#### 18. Create a 5x5 matrix with values 1,2,3,4 just below the diagonal (★☆☆) \n",
        "(**hint**: np.diag)"
      ]
    },
    {
      "cell_type": "code",
      "metadata": {
        "id": "2NTL9bCPoC8a",
        "colab": {
          "base_uri": "https://localhost:8080/"
        },
        "outputId": "b00fa67e-16af-413e-9819-869fbc916353"
      },
      "source": [
        "a = np.diag(1+np.arange(4), k = -1)\n",
        "print (a)"
      ],
      "execution_count": null,
      "outputs": [
        {
          "output_type": "stream",
          "name": "stdout",
          "text": [
            "[[0 0 0 0 0]\n",
            " [1 0 0 0 0]\n",
            " [0 2 0 0 0]\n",
            " [0 0 3 0 0]\n",
            " [0 0 0 4 0]]\n"
          ]
        }
      ]
    },
    {
      "cell_type": "markdown",
      "metadata": {
        "id": "KE334u-ooC8a"
      },
      "source": [
        "#### 19. Create a 8x8 matrix and fill it with a checkerboard pattern (★☆☆) \n",
        "(**hint**: array\\[::2\\])"
      ]
    },
    {
      "cell_type": "code",
      "metadata": {
        "id": "f6S4OMDooC8a",
        "colab": {
          "base_uri": "https://localhost:8080/"
        },
        "outputId": "05fdfa67-ab11-4ce6-a267-45b2a7476b67"
      },
      "source": [
        "a = np.zeros ((8,8), dtype=int)\n",
        "a[1::2, ::2]= 1\n",
        "a[::2, 1::2] = 1\n",
        "print (a)"
      ],
      "execution_count": null,
      "outputs": [
        {
          "output_type": "stream",
          "name": "stdout",
          "text": [
            "[[0 1 0 1 0 1 0 1]\n",
            " [1 0 1 0 1 0 1 0]\n",
            " [0 1 0 1 0 1 0 1]\n",
            " [1 0 1 0 1 0 1 0]\n",
            " [0 1 0 1 0 1 0 1]\n",
            " [1 0 1 0 1 0 1 0]\n",
            " [0 1 0 1 0 1 0 1]\n",
            " [1 0 1 0 1 0 1 0]]\n"
          ]
        }
      ]
    },
    {
      "cell_type": "markdown",
      "metadata": {
        "id": "Pr533kPvoC8a"
      },
      "source": [
        "#### 20. Consider a (6,7,8) shape array, what is the index (x,y,z) of the 100th element? \n",
        "(**hint**: np.unravel_index)"
      ]
    },
    {
      "cell_type": "code",
      "metadata": {
        "id": "m5X0qm5QoC8b",
        "colab": {
          "base_uri": "https://localhost:8080/"
        },
        "outputId": "73583c2d-fa7b-4942-9637-cc3e93d8b616"
      },
      "source": [
        "print (np.unravel_index(100, (6,7,8)))"
      ],
      "execution_count": null,
      "outputs": [
        {
          "output_type": "stream",
          "name": "stdout",
          "text": [
            "(1, 5, 4)\n"
          ]
        }
      ]
    },
    {
      "cell_type": "markdown",
      "metadata": {
        "id": "eueAQanHoC8b"
      },
      "source": [
        "#### 21. Create a checkerboard 8x8 matrix using the tile function (★☆☆) \n",
        "(**hint**: np.tile)"
      ]
    },
    {
      "cell_type": "code",
      "metadata": {
        "id": "5mOyLH7uoC8b",
        "colab": {
          "base_uri": "https://localhost:8080/"
        },
        "outputId": "38025f85-6495-4cbe-dcf3-25074e91eaf3"
      },
      "source": [
        "func= np.array([[0,1], [1,0]])\n",
        "a = np.tile(func,(4,4))\n",
        "print (a)"
      ],
      "execution_count": null,
      "outputs": [
        {
          "output_type": "stream",
          "name": "stdout",
          "text": [
            "[[0 1 0 1 0 1 0 1]\n",
            " [1 0 1 0 1 0 1 0]\n",
            " [0 1 0 1 0 1 0 1]\n",
            " [1 0 1 0 1 0 1 0]\n",
            " [0 1 0 1 0 1 0 1]\n",
            " [1 0 1 0 1 0 1 0]\n",
            " [0 1 0 1 0 1 0 1]\n",
            " [1 0 1 0 1 0 1 0]]\n"
          ]
        }
      ]
    },
    {
      "cell_type": "markdown",
      "metadata": {
        "id": "cfjnlS-yoC8b"
      },
      "source": [
        "#### 22. Normalize a 5x5 random matrix (★☆☆) \n",
        "(**hint**: (x - min) / (max - min))"
      ]
    },
    {
      "cell_type": "code",
      "metadata": {
        "id": "S_GqhmmioC8c",
        "colab": {
          "base_uri": "https://localhost:8080/"
        },
        "outputId": "77c07933-be89-4d57-a65c-69c85077cfd8"
      },
      "source": [
        "a = np.random.random((5,5))\n",
        "maximum,minimum = a.max(), a.min()\n",
        "a= (a-minimum)/(maximum-minimum)\n",
        "print (a)"
      ],
      "execution_count": null,
      "outputs": [
        {
          "output_type": "stream",
          "name": "stdout",
          "text": [
            "[[0.00211245 0.0211907  0.3214685  0.54835587 0.        ]\n",
            " [0.90287122 0.18741791 0.02383874 0.84985452 0.05672911]\n",
            " [0.6191336  0.33206322 1.         0.07305406 0.8497594 ]\n",
            " [0.39137007 0.21076932 0.64244231 0.46506762 0.19769506]\n",
            " [0.54894064 0.38207326 0.01185636 0.88749774 0.31245694]]\n"
          ]
        }
      ]
    },
    {
      "cell_type": "markdown",
      "metadata": {
        "id": "cQayUj6yoC8c"
      },
      "source": [
        "#### 23. Create a custom dtype that describes a color as four unsigned bytes (RGBA) (★☆☆) \n",
        "(**hint**: np.dtype)"
      ]
    },
    {
      "cell_type": "code",
      "metadata": {
        "collapsed": true,
        "id": "SL1TbKIXoC8c"
      },
      "source": [
        "color = np.dtype([(\"R\", np.ubyte),\n",
        "                  (\"G\", np.ubyte),\n",
        "                  (\"B\", np.ubyte),\n",
        "                  (\"A\", np.ubyte)])"
      ],
      "execution_count": null,
      "outputs": []
    },
    {
      "cell_type": "markdown",
      "metadata": {
        "id": "0y5t_2D4oC8c"
      },
      "source": [
        "#### 24. Multiply a 5x3 matrix by a 3x2 matrix (real matrix product) (★☆☆) \n",
        "(**hint**: np.dot | @)"
      ]
    },
    {
      "cell_type": "code",
      "metadata": {
        "id": "BfbzUoVqoC8c",
        "colab": {
          "base_uri": "https://localhost:8080/"
        },
        "outputId": "2f075b78-708d-4d3f-d41b-79fd0827841c"
      },
      "source": [
        "a= np.dot(np.ones((5,3)), np.ones((3,2)))\n",
        "print (a)"
      ],
      "execution_count": null,
      "outputs": [
        {
          "output_type": "stream",
          "name": "stdout",
          "text": [
            "[[3. 3.]\n",
            " [3. 3.]\n",
            " [3. 3.]\n",
            " [3. 3.]\n",
            " [3. 3.]]\n"
          ]
        }
      ]
    },
    {
      "cell_type": "markdown",
      "metadata": {
        "id": "yaXRf636oC8c"
      },
      "source": [
        "#### 25. Given a 1D array, negate all elements which are between 3 and 8, in place. (★☆☆) \n",
        "(**hint**: >, <=)"
      ]
    },
    {
      "cell_type": "code",
      "metadata": {
        "id": "Q44UYQU_oC8d",
        "colab": {
          "base_uri": "https://localhost:8080/"
        },
        "outputId": "ef7170d0-b159-48a8-eed2-813e61208879"
      },
      "source": [
        "a = np.arange(11)\n",
        "a[(3 < a) & (a <= 8)] *= -1\n",
        "print(a)"
      ],
      "execution_count": null,
      "outputs": [
        {
          "output_type": "stream",
          "name": "stdout",
          "text": [
            "[ 0  1  2  3 -4 -5 -6 -7 -8  9 10]\n"
          ]
        }
      ]
    },
    {
      "cell_type": "markdown",
      "metadata": {
        "id": "YMeTlmaIoC8d"
      },
      "source": [
        "#### 26. What is the output of the following script? (★☆☆) \n",
        "(**hint**: np.sum)"
      ]
    },
    {
      "cell_type": "markdown",
      "metadata": {
        "id": "1j7_cNY2oC8d"
      },
      "source": [
        "```python\n",
        "# Author: Jake VanderPlas\n",
        "\n",
        "print(sum(range(5),-1))\n",
        "from numpy import *\n",
        "print(sum(range(5),-1))\n",
        "```"
      ]
    },
    {
      "cell_type": "code",
      "metadata": {
        "id": "VIdGCGjmoC8e",
        "colab": {
          "base_uri": "https://localhost:8080/"
        },
        "outputId": "829dfb11-20ce-42e5-d860-7d3c710f0650"
      },
      "source": [
        "9\n",
        "10"
      ],
      "execution_count": null,
      "outputs": [
        {
          "output_type": "execute_result",
          "data": {
            "text/plain": [
              "10"
            ]
          },
          "metadata": {},
          "execution_count": 39
        }
      ]
    },
    {
      "cell_type": "markdown",
      "metadata": {
        "id": "oxtMZXXxoC8e"
      },
      "source": [
        "#### 27. Consider an integer vector Z, which of these expressions are legal? (★☆☆)"
      ]
    },
    {
      "cell_type": "markdown",
      "metadata": {
        "id": "zTK69Nz3oC8e"
      },
      "source": [
        "```python\n",
        "Z**Z\n",
        "2 << Z >> 2\n",
        "Z <- Z\n",
        "1j*Z\n",
        "Z/1/1\n",
        "Z<Z>Z\n",
        "```"
      ]
    },
    {
      "cell_type": "code",
      "metadata": {
        "id": "arCvi3nxoC8e",
        "colab": {
          "base_uri": "https://localhost:8080/"
        },
        "outputId": "c911618c-7025-4b65-d08e-2619727ebed8"
      },
      "source": [
        "Z= 0\n",
        "Z**Z\n",
        "2 << Z >> 2\n",
        "Z <- Z\n",
        "1j*Z\n",
        "Z/1/1\n",
        "Z<Z>Z"
      ],
      "execution_count": null,
      "outputs": [
        {
          "output_type": "execute_result",
          "data": {
            "text/plain": [
              "False"
            ]
          },
          "metadata": {},
          "execution_count": 52
        }
      ]
    },
    {
      "cell_type": "markdown",
      "metadata": {
        "id": "xQxUYahboC8e"
      },
      "source": [
        "#### 28. What are the result of the following expressions?"
      ]
    },
    {
      "cell_type": "markdown",
      "metadata": {
        "id": "pJqPWXQaoC8f"
      },
      "source": [
        "```python\n",
        "np.array(0) / np.array(0)\n",
        "np.array(0) // np.array(0)\n",
        "np.array([np.nan]).astype(int).astype(float)\n",
        "```"
      ]
    },
    {
      "cell_type": "code",
      "metadata": {
        "id": "hgGCGQU3oC8f",
        "colab": {
          "base_uri": "https://localhost:8080/"
        },
        "outputId": "144059f0-5dac-46dc-c857-3c9a34acc78c"
      },
      "source": [
        "print(np.array(0) / np.array(0))\n",
        "print(np.array(0) // np.array(0))\n",
        "print(np.array([np.nan]).astype(int).astype(float))"
      ],
      "execution_count": null,
      "outputs": [
        {
          "output_type": "stream",
          "name": "stdout",
          "text": [
            "nan\n",
            "0\n",
            "[-9.22337204e+18]\n"
          ]
        },
        {
          "output_type": "stream",
          "name": "stderr",
          "text": [
            "/usr/local/lib/python3.7/dist-packages/ipykernel_launcher.py:1: RuntimeWarning: invalid value encountered in true_divide\n",
            "  \"\"\"Entry point for launching an IPython kernel.\n",
            "/usr/local/lib/python3.7/dist-packages/ipykernel_launcher.py:2: RuntimeWarning: divide by zero encountered in floor_divide\n",
            "  \n"
          ]
        }
      ]
    },
    {
      "cell_type": "markdown",
      "metadata": {
        "id": "7zoQGWouoC8f"
      },
      "source": [
        "#### 29. How to round away from zero a float array ? (★☆☆) \n",
        "(**hint**: np.uniform, np.copysign, np.ceil, np.abs)"
      ]
    },
    {
      "cell_type": "code",
      "metadata": {
        "id": "NjvIjr_5oC8f",
        "colab": {
          "base_uri": "https://localhost:8080/"
        },
        "outputId": "4414a00b-2466-47f8-b7ce-485711710a4c"
      },
      "source": [
        "print(np.where(Z>0, np.ceil(Z), np.floor(Z)))"
      ],
      "execution_count": null,
      "outputs": [
        {
          "output_type": "stream",
          "name": "stdout",
          "text": [
            "0.0\n"
          ]
        }
      ]
    },
    {
      "cell_type": "markdown",
      "metadata": {
        "id": "X508YtqtoC8f"
      },
      "source": [
        "#### 30. How to find common values between two arrays? (★☆☆) \n",
        "(**hint**: np.intersect1d)"
      ]
    },
    {
      "cell_type": "code",
      "metadata": {
        "id": "GkJ9TWuVoC8g",
        "colab": {
          "base_uri": "https://localhost:8080/"
        },
        "outputId": "fd9e8bd1-e3fd-47cf-8518-0eef6f0c96d5"
      },
      "source": [
        "a = np.random.randint(0,50,100)\n",
        "b = np.random.randint(0,50,100)\n",
        "print(np.intersect1d(a,b))"
      ],
      "execution_count": null,
      "outputs": [
        {
          "output_type": "stream",
          "name": "stdout",
          "text": [
            "[ 0  1  4  5  6  7  8  9 11 12 14 16 17 18 20 21 22 23 25 26 28 29 30 31\n",
            " 32 34 35 36 37 38 39 40 41 42 43 45 47 48 49]\n"
          ]
        }
      ]
    },
    {
      "cell_type": "markdown",
      "metadata": {
        "id": "3tvdeluToC8g"
      },
      "source": [
        "#### 31. How to ignore all numpy warnings (not recommended)? (★☆☆) \n",
        "(**hint**: np.seterr, np.errstate)"
      ]
    },
    {
      "cell_type": "code",
      "metadata": {
        "id": "y4qLkfxroC8g"
      },
      "source": [
        "defaults = np.seterr(all=\"ignore\")\n",
        "a = np.ones(1) / 0\n",
        "\n",
        "# Back to sanity\n",
        "_ = np.seterr(**defaults)\n",
        "\n",
        "# Equivalently with a context manager\n",
        "with np.errstate(all=\"ignore\"):\n",
        "    np.arange(3) / 0"
      ],
      "execution_count": null,
      "outputs": []
    },
    {
      "cell_type": "markdown",
      "metadata": {
        "id": "8Zjrw7F5oC8g"
      },
      "source": [
        "#### 32. Is the following expressions true? (★☆☆) \n",
        "(**hint**: imaginary number)"
      ]
    },
    {
      "cell_type": "markdown",
      "metadata": {
        "id": "0NlfpQZjoC8g"
      },
      "source": [
        "```python\n",
        "np.sqrt(-1) == np.emath.sqrt(-1)\n",
        "```"
      ]
    },
    {
      "cell_type": "code",
      "metadata": {
        "id": "hqpy52NYoC8g",
        "colab": {
          "base_uri": "https://localhost:8080/"
        },
        "outputId": "a0720ade-cdf7-4b84-fbf5-7406e5f065da"
      },
      "source": [
        "np.sqrt(-1) == np.emath.sqrt(-1)"
      ],
      "execution_count": null,
      "outputs": [
        {
          "output_type": "stream",
          "name": "stderr",
          "text": [
            "/usr/local/lib/python3.7/dist-packages/ipykernel_launcher.py:1: RuntimeWarning: invalid value encountered in sqrt\n",
            "  \"\"\"Entry point for launching an IPython kernel.\n"
          ]
        },
        {
          "output_type": "execute_result",
          "data": {
            "text/plain": [
              "False"
            ]
          },
          "metadata": {},
          "execution_count": 58
        }
      ]
    },
    {
      "cell_type": "markdown",
      "metadata": {
        "id": "sxiMVLeloC8h"
      },
      "source": [
        "#### 33. How to get the dates of yesterday, today and tomorrow? (★☆☆) \n",
        "(**hint**: np.datetime64, np.timedelta64)"
      ]
    },
    {
      "cell_type": "code",
      "metadata": {
        "collapsed": true,
        "id": "IqbNB88soC8h"
      },
      "source": [
        "yesterday = np.datetime64('today') - np.timedelta64(1)\n",
        "today     = np.datetime64('today')\n",
        "tomorrow  = np.datetime64('today') + np.timedelta64(1)\n"
      ],
      "execution_count": null,
      "outputs": []
    },
    {
      "cell_type": "markdown",
      "metadata": {
        "id": "fD4Vgz6goC8h"
      },
      "source": [
        "#### 34. How to get all the dates corresponding to the month of July 2016? (★★☆) \n",
        "(**hint**: np.arange(dtype=datetime64\\['D'\\]))"
      ]
    },
    {
      "cell_type": "code",
      "metadata": {
        "id": "vxfyqedIoC8h",
        "colab": {
          "base_uri": "https://localhost:8080/"
        },
        "outputId": "1e83d039-712b-4309-910c-9d02871119c0"
      },
      "source": [
        "a = np.arange('2016-07', '2016-08', dtype='datetime64[D]')\n",
        "print(a)"
      ],
      "execution_count": null,
      "outputs": [
        {
          "output_type": "stream",
          "name": "stdout",
          "text": [
            "['2016-07-01' '2016-07-02' '2016-07-03' '2016-07-04' '2016-07-05'\n",
            " '2016-07-06' '2016-07-07' '2016-07-08' '2016-07-09' '2016-07-10'\n",
            " '2016-07-11' '2016-07-12' '2016-07-13' '2016-07-14' '2016-07-15'\n",
            " '2016-07-16' '2016-07-17' '2016-07-18' '2016-07-19' '2016-07-20'\n",
            " '2016-07-21' '2016-07-22' '2016-07-23' '2016-07-24' '2016-07-25'\n",
            " '2016-07-26' '2016-07-27' '2016-07-28' '2016-07-29' '2016-07-30'\n",
            " '2016-07-31']\n"
          ]
        }
      ]
    },
    {
      "cell_type": "markdown",
      "metadata": {
        "id": "Zw_SK4PboC8h"
      },
      "source": [
        "#### 35. How to compute ((A+B)\\*(-A/2)) in place (without copy)? (★★☆) \n",
        "(**hint**: np.add(out=), np.negative(out=), np.multiply(out=), np.divide(out=))"
      ]
    },
    {
      "cell_type": "code",
      "metadata": {
        "id": "8NM4lfvDoC8i",
        "colab": {
          "base_uri": "https://localhost:8080/"
        },
        "outputId": "e13799d4-a91a-4dcb-e881-2e3faca89fa5"
      },
      "source": [
        "A = np.ones(3)*1\n",
        "B = np.ones(3)*2\n",
        "np.add(A,B,out=B)\n",
        "np.divide(A,2,out=A)\n",
        "np.negative(A,out=A)\n",
        "np.multiply(A,B,out=A)"
      ],
      "execution_count": null,
      "outputs": [
        {
          "output_type": "execute_result",
          "data": {
            "text/plain": [
              "array([-1.5, -1.5, -1.5])"
            ]
          },
          "metadata": {},
          "execution_count": 64
        }
      ]
    },
    {
      "cell_type": "markdown",
      "metadata": {
        "id": "SQArqFlToC8i"
      },
      "source": [
        "#### 36. Extract the integer part of a random array using 5 different methods (★★☆) \n",
        "(**hint**: %, np.floor, np.ceil, astype, np.trunc)"
      ]
    },
    {
      "cell_type": "code",
      "metadata": {
        "id": "ABc0tkYXoC8i",
        "colab": {
          "base_uri": "https://localhost:8080/"
        },
        "outputId": "07e68da1-efee-4efe-a659-d66eaaa8acc0"
      },
      "source": [
        "Z = np.random.uniform(0,50,100)\n",
        "\n",
        "print(Z - Z%1)\n",
        "print(Z // 1)\n",
        "print(np.floor(Z))\n",
        "print(Z.astype(int))\n",
        "print(np.trunc(Z))"
      ],
      "execution_count": null,
      "outputs": [
        {
          "output_type": "stream",
          "name": "stdout",
          "text": [
            "[40. 12. 28. 42. 43. 45.  0.  8. 13. 42.  6. 35. 10. 34.  1. 39. 49. 14.\n",
            " 36. 24. 47. 49. 43. 12.  0. 35. 45.  9.  2. 36. 24. 41. 40.  8. 49. 33.\n",
            " 26. 16. 32. 36. 30. 39. 25.  7. 16. 19.  3. 25. 14. 15.  7. 16. 24.  9.\n",
            "  6. 12. 16. 18. 24. 47.  3. 24. 14. 40. 31. 31. 37. 12. 19. 30. 19. 40.\n",
            " 33. 35.  4. 33. 15. 40. 46. 32.  7. 32. 22.  0. 19. 20.  0. 44. 49. 36.\n",
            " 25. 36.  5. 15. 24.  8.  9. 18. 13. 39.]\n",
            "[40. 12. 28. 42. 43. 45.  0.  8. 13. 42.  6. 35. 10. 34.  1. 39. 49. 14.\n",
            " 36. 24. 47. 49. 43. 12.  0. 35. 45.  9.  2. 36. 24. 41. 40.  8. 49. 33.\n",
            " 26. 16. 32. 36. 30. 39. 25.  7. 16. 19.  3. 25. 14. 15.  7. 16. 24.  9.\n",
            "  6. 12. 16. 18. 24. 47.  3. 24. 14. 40. 31. 31. 37. 12. 19. 30. 19. 40.\n",
            " 33. 35.  4. 33. 15. 40. 46. 32.  7. 32. 22.  0. 19. 20.  0. 44. 49. 36.\n",
            " 25. 36.  5. 15. 24.  8.  9. 18. 13. 39.]\n",
            "[40. 12. 28. 42. 43. 45.  0.  8. 13. 42.  6. 35. 10. 34.  1. 39. 49. 14.\n",
            " 36. 24. 47. 49. 43. 12.  0. 35. 45.  9.  2. 36. 24. 41. 40.  8. 49. 33.\n",
            " 26. 16. 32. 36. 30. 39. 25.  7. 16. 19.  3. 25. 14. 15.  7. 16. 24.  9.\n",
            "  6. 12. 16. 18. 24. 47.  3. 24. 14. 40. 31. 31. 37. 12. 19. 30. 19. 40.\n",
            " 33. 35.  4. 33. 15. 40. 46. 32.  7. 32. 22.  0. 19. 20.  0. 44. 49. 36.\n",
            " 25. 36.  5. 15. 24.  8.  9. 18. 13. 39.]\n",
            "[40 12 28 42 43 45  0  8 13 42  6 35 10 34  1 39 49 14 36 24 47 49 43 12\n",
            "  0 35 45  9  2 36 24 41 40  8 49 33 26 16 32 36 30 39 25  7 16 19  3 25\n",
            " 14 15  7 16 24  9  6 12 16 18 24 47  3 24 14 40 31 31 37 12 19 30 19 40\n",
            " 33 35  4 33 15 40 46 32  7 32 22  0 19 20  0 44 49 36 25 36  5 15 24  8\n",
            "  9 18 13 39]\n",
            "[40. 12. 28. 42. 43. 45.  0.  8. 13. 42.  6. 35. 10. 34.  1. 39. 49. 14.\n",
            " 36. 24. 47. 49. 43. 12.  0. 35. 45.  9.  2. 36. 24. 41. 40.  8. 49. 33.\n",
            " 26. 16. 32. 36. 30. 39. 25.  7. 16. 19.  3. 25. 14. 15.  7. 16. 24.  9.\n",
            "  6. 12. 16. 18. 24. 47.  3. 24. 14. 40. 31. 31. 37. 12. 19. 30. 19. 40.\n",
            " 33. 35.  4. 33. 15. 40. 46. 32.  7. 32. 22.  0. 19. 20.  0. 44. 49. 36.\n",
            " 25. 36.  5. 15. 24.  8.  9. 18. 13. 39.]\n"
          ]
        }
      ]
    },
    {
      "cell_type": "markdown",
      "metadata": {
        "id": "bsKIb1NxoC8i"
      },
      "source": [
        "#### 37. Create a 5x5 matrix with row values ranging from 0 to 4 (★★☆) \n",
        "(**hint**: np.arange)"
      ]
    },
    {
      "cell_type": "code",
      "metadata": {
        "id": "AQ_wCfkqoC8i",
        "colab": {
          "base_uri": "https://localhost:8080/"
        },
        "outputId": "5729282d-9531-4604-d6cb-2dad85f2b36b"
      },
      "source": [
        "a = np.zeros((5,5))\n",
        "a += np.arange(5)\n",
        "print(a)\n"
      ],
      "execution_count": null,
      "outputs": [
        {
          "output_type": "stream",
          "name": "stdout",
          "text": [
            "[[0. 1. 2. 3. 4.]\n",
            " [0. 1. 2. 3. 4.]\n",
            " [0. 1. 2. 3. 4.]\n",
            " [0. 1. 2. 3. 4.]\n",
            " [0. 1. 2. 3. 4.]]\n"
          ]
        }
      ]
    },
    {
      "cell_type": "markdown",
      "metadata": {
        "id": "g6QI39dQoC8i"
      },
      "source": [
        "#### 38. Consider a generator function that generates 10 integers and use it to build an array (★☆☆) \n",
        "(**hint**: np.fromiter)"
      ]
    },
    {
      "cell_type": "code",
      "metadata": {
        "id": "uFPcrGwDoC8j",
        "colab": {
          "base_uri": "https://localhost:8080/"
        },
        "outputId": "6042aaca-86d8-455a-98e4-bdfe817bb7d0"
      },
      "source": [
        "def generate():\n",
        "    for x in range(10):\n",
        "        yield x\n",
        "a = np.fromiter(generate(),dtype=float,count=-1)\n",
        "print(a)"
      ],
      "execution_count": null,
      "outputs": [
        {
          "output_type": "stream",
          "name": "stdout",
          "text": [
            "[0. 1. 2. 3. 4. 5. 6. 7. 8. 9.]\n"
          ]
        }
      ]
    },
    {
      "cell_type": "markdown",
      "metadata": {
        "id": "uTAftaeHoC8j"
      },
      "source": [
        "#### 39. Create a vector of size 10 with values ranging from 0 to 1, both excluded (★★☆) \n",
        "(**hint**: np.linspace)"
      ]
    },
    {
      "cell_type": "code",
      "metadata": {
        "id": "jFoRddTnoC8j",
        "colab": {
          "base_uri": "https://localhost:8080/"
        },
        "outputId": "73db7405-fbc1-4537-b3c4-fb5f8c34c76c"
      },
      "source": [
        "a = np.linspace(0,1,11,endpoint=False)[1:]\n",
        "print(a)"
      ],
      "execution_count": null,
      "outputs": [
        {
          "output_type": "stream",
          "name": "stdout",
          "text": [
            "[0.09090909 0.18181818 0.27272727 0.36363636 0.45454545 0.54545455\n",
            " 0.63636364 0.72727273 0.81818182 0.90909091]\n"
          ]
        }
      ]
    },
    {
      "cell_type": "markdown",
      "metadata": {
        "id": "U12tYKXXoC8j"
      },
      "source": [
        "#### 40. Create a random vector of size 10 and sort it (★★☆) \n",
        "(**hint**: sort)"
      ]
    },
    {
      "cell_type": "code",
      "metadata": {
        "id": "5cld5HbGoC8j",
        "colab": {
          "base_uri": "https://localhost:8080/"
        },
        "outputId": "46fbfedc-2249-4267-feef-175b3237483d"
      },
      "source": [
        "a = np.random.random(10)\n",
        "a.sort()\n",
        "print(a)"
      ],
      "execution_count": null,
      "outputs": [
        {
          "output_type": "stream",
          "name": "stdout",
          "text": [
            "[0.0213438  0.05923644 0.06416304 0.34896573 0.40999447 0.42176724\n",
            " 0.54699151 0.58144818 0.801943   0.83244497]\n"
          ]
        }
      ]
    },
    {
      "cell_type": "markdown",
      "metadata": {
        "id": "-m7Mi0gcoC8j"
      },
      "source": [
        "#### 41. How to sum a small array faster than np.sum? (★★☆) \n",
        "(**hint**: np.add.reduce)"
      ]
    },
    {
      "cell_type": "code",
      "metadata": {
        "id": "ELFO8stXoC8j",
        "colab": {
          "base_uri": "https://localhost:8080/"
        },
        "outputId": "f086f19c-7c49-4715-d1fa-78b6de349650"
      },
      "source": [
        "a = np.arange(5)\n",
        "np.add.reduce(a)"
      ],
      "execution_count": null,
      "outputs": [
        {
          "output_type": "execute_result",
          "data": {
            "text/plain": [
              "10"
            ]
          },
          "metadata": {},
          "execution_count": 71
        }
      ]
    },
    {
      "cell_type": "markdown",
      "metadata": {
        "id": "CxwgQamfoC8k"
      },
      "source": [
        "#### 42. Consider two random array A and B, check if they are equal (★★☆) \n",
        "(**hint**: np.allclose, np.array\\_equal)"
      ]
    },
    {
      "cell_type": "code",
      "metadata": {
        "id": "3ghs2v7-oC8k",
        "colab": {
          "base_uri": "https://localhost:8080/"
        },
        "outputId": "57ed6156-aa69-4dfb-b454-59118833b7ae"
      },
      "source": [
        "A = np.random.randint(0,2,5)\n",
        "B = np.random.randint(0,2,5)\n",
        "x = np.allclose(A,B)\n",
        "print(x)\n",
        "y = np.array_equal(A,B)\n",
        "print(y)"
      ],
      "execution_count": null,
      "outputs": [
        {
          "output_type": "stream",
          "name": "stdout",
          "text": [
            "False\n",
            "False\n"
          ]
        }
      ]
    },
    {
      "cell_type": "markdown",
      "metadata": {
        "id": "vg3EvjSooC8k"
      },
      "source": [
        "#### 43. Make an array immutable (read-only) (★★☆) \n",
        "(**hint**: flags.writeable)"
      ]
    },
    {
      "cell_type": "code",
      "metadata": {
        "id": "L3B28c-DoC8k"
      },
      "source": [
        "a = np.zeros(10)\n",
        "a.flags.writeable = False"
      ],
      "execution_count": null,
      "outputs": []
    },
    {
      "cell_type": "markdown",
      "metadata": {
        "id": "mxrMBCtWoC8k"
      },
      "source": [
        "#### 44. Consider a random 10x2 matrix representing cartesian coordinates, convert them to polar coordinates (★★☆) \n",
        "(**hint**: np.sqrt, np.arctan2)"
      ]
    },
    {
      "cell_type": "code",
      "metadata": {
        "id": "0Yj1IN29oC8k",
        "colab": {
          "base_uri": "https://localhost:8080/"
        },
        "outputId": "203a44b2-d98f-489c-afb6-d02d58b91350"
      },
      "source": [
        "Z = np.random.random((10,2))\n",
        "X,Y = Z[:,0], Z[:,1]\n",
        "R = np.sqrt(X**2+Y**2)\n",
        "T = np.arctan2(Y,X)\n",
        "print(R)\n",
        "print(T)"
      ],
      "execution_count": null,
      "outputs": [
        {
          "output_type": "stream",
          "name": "stdout",
          "text": [
            "[0.52716366 0.96519523 0.66464018 1.09460028 0.58858204 0.9668227\n",
            " 0.75582218 0.99032107 0.17755698 0.21272027]\n",
            "[0.09012777 0.75911675 0.21587048 0.46591704 0.60615388 1.23661011\n",
            " 0.06518926 1.45010978 0.02474415 1.20957147]\n"
          ]
        }
      ]
    },
    {
      "cell_type": "markdown",
      "metadata": {
        "id": "sWSepZguoC8k"
      },
      "source": [
        "#### 45. Create random vector of size 10 and replace the maximum value by 0 (★★☆) \n",
        "(**hint**: argmax)"
      ]
    },
    {
      "cell_type": "code",
      "metadata": {
        "id": "8HF8oi2HoC8l",
        "colab": {
          "base_uri": "https://localhost:8080/"
        },
        "outputId": "f09f113f-85f7-498c-9acd-67dc43d92f1a"
      },
      "source": [
        "a = np.random.random(10)\n",
        "a[a.argmax()] = 0\n",
        "print(a)"
      ],
      "execution_count": null,
      "outputs": [
        {
          "output_type": "stream",
          "name": "stdout",
          "text": [
            "[0.36119979 0.94143453 0.37914252 0.83806679 0.03727707 0.10223762\n",
            " 0.01825014 0.         0.48049437 0.66570395]\n"
          ]
        }
      ]
    },
    {
      "cell_type": "markdown",
      "metadata": {
        "id": "oYm9SyWdoC8l"
      },
      "source": [
        "#### 46. Create a structured array with `x` and `y` coordinates covering the \\[0,1\\]x\\[0,1\\] area (★★☆) \n",
        "(**hint**: np.meshgrid)"
      ]
    },
    {
      "cell_type": "code",
      "metadata": {
        "id": "Xb5SOE9joC8l",
        "colab": {
          "base_uri": "https://localhost:8080/"
        },
        "outputId": "6e974ee4-2f9d-4143-87c5-4dce9527ee1e"
      },
      "source": [
        "a = np.zeros((2,2), [('x',float),('y',float)])\n",
        "a['x'], a['y'] = np.meshgrid(np.linspace(0,1,2),\n",
        "                             np.linspace(0,1,2))\n",
        "print(a)\n"
      ],
      "execution_count": null,
      "outputs": [
        {
          "output_type": "stream",
          "name": "stdout",
          "text": [
            "[[(0., 0.) (1., 0.)]\n",
            " [(0., 1.) (1., 1.)]]\n"
          ]
        }
      ]
    },
    {
      "cell_type": "markdown",
      "metadata": {
        "id": "rb0Qv8x4oC8l"
      },
      "source": [
        "####  47. Given two arrays, X and Y, construct the Cauchy matrix C (Cij =1/(xi - yj)) \n",
        "(**hint**: np.subtract.outer)"
      ]
    },
    {
      "cell_type": "code",
      "metadata": {
        "id": "GHVUuy9EoC8l",
        "colab": {
          "base_uri": "https://localhost:8080/"
        },
        "outputId": "723b0b30-ddec-4583-ea04-9c665864bd87"
      },
      "source": [
        "X = np.arange(8)\n",
        "Y = X + 0.5\n",
        "C = 1.0 / np.subtract.outer(X, Y)\n",
        "print(np.linalg.det(C))"
      ],
      "execution_count": null,
      "outputs": [
        {
          "output_type": "stream",
          "name": "stdout",
          "text": [
            "3638.1636371179666\n"
          ]
        }
      ]
    },
    {
      "cell_type": "markdown",
      "metadata": {
        "id": "8xtv8q9ZoC8l"
      },
      "source": [
        "#### 48. Print the minimum and maximum representable value for each numpy scalar type (★★☆) \n",
        "(**hint**: np.iinfo, np.finfo, eps)"
      ]
    },
    {
      "cell_type": "code",
      "metadata": {
        "id": "r1DUO3zfoC8m"
      },
      "source": [
        ""
      ],
      "execution_count": null,
      "outputs": []
    },
    {
      "cell_type": "markdown",
      "metadata": {
        "id": "Zq634yMUoC8m"
      },
      "source": [
        "#### 49. How to print all the values of an array? (★★☆) \n",
        "(**hint**: np.set\\_printoptions)"
      ]
    },
    {
      "cell_type": "code",
      "metadata": {
        "id": "G4cUd8wloC8m",
        "colab": {
          "base_uri": "https://localhost:8080/"
        },
        "outputId": "c262dfd2-86b9-4ae0-c075-e30585f899cf"
      },
      "source": [
        "np.set_printoptions(threshold=float(\"inf\"))\n",
        "a = np.zeros((5,5))\n",
        "print(a)\n"
      ],
      "execution_count": null,
      "outputs": [
        {
          "output_type": "stream",
          "name": "stdout",
          "text": [
            "[[0. 0. 0. 0. 0.]\n",
            " [0. 0. 0. 0. 0.]\n",
            " [0. 0. 0. 0. 0.]\n",
            " [0. 0. 0. 0. 0.]\n",
            " [0. 0. 0. 0. 0.]]\n"
          ]
        }
      ]
    },
    {
      "cell_type": "markdown",
      "metadata": {
        "id": "lyNDzZUHoC8m"
      },
      "source": [
        "#### 50. How to find the closest value (to a given scalar) in a vector? (★★☆) \n",
        "(**hint**: argmin)"
      ]
    },
    {
      "cell_type": "code",
      "metadata": {
        "id": "5UsouDhqoC8m",
        "colab": {
          "base_uri": "https://localhost:8080/"
        },
        "outputId": "57f1b359-faa5-4bab-fde1-9c1a8088ff02"
      },
      "source": [
        "a = np.arange(10)\n",
        "b = np.random.uniform(0,10)\n",
        "index = (np.abs(a-b)).argmin()\n",
        "print(a[index])"
      ],
      "execution_count": null,
      "outputs": [
        {
          "output_type": "stream",
          "name": "stdout",
          "text": [
            "9\n"
          ]
        }
      ]
    },
    {
      "cell_type": "markdown",
      "metadata": {
        "id": "VKlk-knuoC8m"
      },
      "source": [
        "#### 51. Create a structured array representing a position (x,y) and a color (r,g,b) (★★☆) \n",
        "(**hint**: dtype)"
      ]
    },
    {
      "cell_type": "code",
      "metadata": {
        "id": "DDh-ywvGoC8n",
        "colab": {
          "base_uri": "https://localhost:8080/"
        },
        "outputId": "c6119c59-a3a8-4b63-c17f-6285d028dfb4"
      },
      "source": [
        "a = np.zeros(10, [ ('position', [ ('x', float, 1),\n",
        "                                  ('y', float, 1)]),\n",
        "                   ('color',    [ ('r', float, 1),\n",
        "                                  ('g', float, 1),\n",
        "                                  ('b', float, 1)])])\n",
        "print(a)"
      ],
      "execution_count": null,
      "outputs": [
        {
          "output_type": "stream",
          "name": "stdout",
          "text": [
            "[((0., 0.), (0., 0., 0.)) ((0., 0.), (0., 0., 0.))\n",
            " ((0., 0.), (0., 0., 0.)) ((0., 0.), (0., 0., 0.))\n",
            " ((0., 0.), (0., 0., 0.)) ((0., 0.), (0., 0., 0.))\n",
            " ((0., 0.), (0., 0., 0.)) ((0., 0.), (0., 0., 0.))\n",
            " ((0., 0.), (0., 0., 0.)) ((0., 0.), (0., 0., 0.))]\n"
          ]
        },
        {
          "output_type": "stream",
          "name": "stderr",
          "text": [
            "/usr/local/lib/python3.7/dist-packages/ipykernel_launcher.py:5: FutureWarning: Passing (type, 1) or '1type' as a synonym of type is deprecated; in a future version of numpy, it will be understood as (type, (1,)) / '(1,)type'.\n",
            "  \"\"\"\n"
          ]
        }
      ]
    },
    {
      "cell_type": "markdown",
      "metadata": {
        "id": "t5ShwAVMoC8n"
      },
      "source": [
        "#### 52. Consider a random vector with shape (100,2) representing coordinates, find point by point distances (★★☆) \n",
        "(**hint**: np.atleast\\_2d, T, np.sqrt)"
      ]
    },
    {
      "cell_type": "code",
      "metadata": {
        "id": "ur_8IuV4oC8n",
        "colab": {
          "base_uri": "https://localhost:8080/"
        },
        "outputId": "8fa751ad-698b-434a-cfa7-f1cdede73045"
      },
      "source": [
        "Z = np.random.random((100,2))\n",
        "X,Y = np.atleast_2d(Z[:,0], Z[:,1])\n",
        "D = np.sqrt( (X-X.T)**2 + (Y-Y.T)**2)\n",
        "print(D)\n"
      ],
      "execution_count": null,
      "outputs": [
        {
          "output_type": "stream",
          "name": "stdout",
          "text": [
            "[[0.         0.58482778 0.51644672 0.39504839 0.40169844 0.32855353\n",
            "  0.62077467 0.90519499 0.63823191 0.8336616  0.68847824 0.81477518\n",
            "  0.65654311 0.39405703 0.50443    0.3620629  0.40264043 0.7953531\n",
            "  0.94740387 0.81748871 0.12672822 0.81495478 0.24419851 0.39352473\n",
            "  0.51343085 0.15528635 0.67719454 0.81136321 0.04361114 0.09800424\n",
            "  0.28835728 0.29539748 0.92578904 0.38708098 0.5118716  0.92350523\n",
            "  0.16983167 0.76767849 0.18236671 0.28841669 0.74315728 0.765154\n",
            "  0.17353251 0.31920883 0.58180789 0.42767515 0.6255236  0.86996886\n",
            "  0.99999973 0.54753834 0.54047817 0.53246604 0.54410513 0.50100832\n",
            "  0.53045749 0.04177102 0.50504533 0.34651025 0.43676309 0.36485172\n",
            "  0.58205859 0.2452097  0.62677553 0.26055444 0.8496048  0.46805466\n",
            "  0.51907271 0.69064822 0.40491905 0.19044604 0.43944876 0.95927843\n",
            "  0.46386643 0.56467874 0.47811994 0.06826394 0.82934907 0.16847371\n",
            "  0.71666193 0.10454461 0.81871846 0.78098002 0.72929992 0.62956593\n",
            "  0.62472321 0.53437594 0.9132692  0.42879407 0.74597841 0.12406962\n",
            "  0.43862065 0.34233232 0.31140198 0.59397787 0.58011732 0.65354238\n",
            "  0.43329859 0.15876907 0.84232507 0.4223303 ]\n",
            " [0.58482778 0.         0.06910257 0.49669639 0.26045787 0.34656598\n",
            "  0.16766938 0.37756038 0.46006406 0.66949334 0.12732946 0.37912502\n",
            "  0.85508237 0.19517425 0.6758663  0.29491277 0.49324454 0.23577754\n",
            "  0.42174018 0.82087241 0.4719428  0.48727849 0.59512001 0.42867575\n",
            "  0.13469689 0.46965259 0.27184796 0.83161906 0.61824018 0.56554487\n",
            "  0.82654847 0.51639695 0.52097898 0.22138976 0.69141589 0.42110159\n",
            "  0.41833294 0.49916963 0.45299137 0.34785811 0.5329439  0.22548597\n",
            "  0.70284045 0.37318313 0.82283426 0.45404911 0.06878146 0.73880063\n",
            "  0.48078602 0.09049531 0.12551191 0.73271491 0.21186059 0.16930266\n",
            "  0.69340312 0.54307267 0.49606667 0.24430184 0.78531652 0.37987812\n",
            "  0.30735697 0.37861701 0.78208839 0.55631472 0.78734247 0.16012974\n",
            "  0.77178715 0.78987018 0.23871684 0.73483479 0.202095   0.41882335\n",
            "  0.70209178 0.31952141 0.12709627 0.63773008 0.44081935 0.7530185\n",
            "  0.32728805 0.67459848 0.82268785 0.3879277  0.84591695 0.32760416\n",
            "  0.53560436 0.85956981 0.52187043 0.17712372 0.84892472 0.61730265\n",
            "  0.28404773 0.5499879  0.73931837 0.47987665 0.28103668 0.41725922\n",
            "  0.55733264 0.51150266 0.28827763 0.43121375]\n",
            " [0.51644672 0.06910257 0.         0.44116382 0.21527127 0.2833083\n",
            "  0.19442094 0.43718521 0.45561903 0.67400574 0.18984232 0.41935668\n",
            "  0.82038797 0.13107042 0.63797695 0.24424468 0.43845978 0.30030772\n",
            "  0.48159492 0.80761375 0.40526106 0.51102788 0.53752052 0.37378455\n",
            "  0.11664871 0.40502701 0.29784898 0.81657181 0.55042766 0.50001854\n",
            "  0.76233014 0.45334157 0.56004986 0.16449395 0.65334895 0.47638877\n",
            "  0.35093587 0.51290421 0.38437745 0.28103088 0.53858487 0.28469197\n",
            "  0.6379745  0.3210594  0.78297256 0.40249629 0.125662   0.74090075\n",
            "  0.54014612 0.09247665 0.10363547 0.694126   0.20667063 0.13001187\n",
            "  0.65715993 0.47467734 0.45195721 0.17525491 0.73461113 0.33473213\n",
            "  0.28682603 0.31042549 0.74989675 0.50054102 0.78153834 0.12184401\n",
            "  0.72932302 0.76418356 0.17841461 0.66947662 0.16018511 0.48146003\n",
            "  0.6586132  0.3127944  0.08321595 0.57027187 0.47404344 0.68447334\n",
            "  0.35422883 0.60559415 0.80940745 0.41955112 0.81988922 0.33461727\n",
            "  0.52247687 0.812631   0.55853079 0.12368596 0.82453386 0.54835822\n",
            "  0.23380112 0.50142308 0.68136455 0.46650558 0.26226738 0.41968935\n",
            "  0.51795993 0.44848127 0.35223738 0.39447421]\n",
            " [0.39504839 0.49669639 0.44116382 0.         0.50719892 0.17618592\n",
            "  0.62870505 0.87421259 0.81197566 1.0369285  0.62389801 0.85631176\n",
            "  1.00315237 0.40620488 0.82709466 0.49377272 0.00893089 0.72989467\n",
            "  0.91832054 1.09908299 0.3957649  0.92583248 0.59823186 0.0681066\n",
            "  0.52377415 0.43388458 0.72538708 1.09979146 0.43719242 0.46519879\n",
            "  0.67612913 0.10381164 0.99438663 0.44334064 0.83876359 0.9167414\n",
            "  0.36290608 0.90863563 0.23206467 0.21167307 0.91373155 0.72214658\n",
            "  0.56829672 0.51801334 0.93754485 0.05764544 0.56354147 1.09260907\n",
            "  0.97742535 0.52512875 0.38276456 0.86971044 0.60398162 0.33204105\n",
            "  0.85281522 0.37299224 0.11332486 0.31761083 0.81442334 0.56602904\n",
            "  0.28859617 0.22586883 0.95563583 0.59171924 1.10392876 0.49294036\n",
            "  0.87389429 1.0028242  0.26382041 0.58188993 0.49742003 0.91374178\n",
            "  0.80806702 0.68494503 0.47137915 0.46111469 0.90342762 0.49936308\n",
            "  0.78004732 0.40793359 1.10064974 0.84845615 1.05111497 0.73185254\n",
            "  0.84318567 0.91165579 0.99035278 0.45344776 1.06365242 0.3146332\n",
            "  0.21446552 0.65153548 0.69985995 0.79432565 0.30365438 0.79780449\n",
            "  0.72269214 0.47858965 0.78253927 0.64620122]\n",
            " [0.40169844 0.26045787 0.21527127 0.50719892 0.         0.33177217\n",
            "  0.22607482 0.5077655  0.30483657 0.53029419 0.31932412 0.41430529\n",
            "  0.60678057 0.11859777 0.42331267 0.0422881  0.50833958 0.4142424\n",
            "  0.54877977 0.62034157 0.27508612 0.43685169 0.34379647 0.45140698\n",
            "  0.13722923 0.25456837 0.27579566 0.62601606 0.42304353 0.34978963\n",
            "  0.59399244 0.47288256 0.53279715 0.07040197 0.43859794 0.52244225\n",
            "  0.23866497 0.40732634 0.34567499 0.29735869 0.40694211 0.37712909\n",
            "  0.47669399 0.1169212  0.56774719 0.49052963 0.26736071 0.58823441\n",
            "  0.5997651  0.18367195 0.30588568 0.47917187 0.14255257 0.30605771\n",
            "  0.44315146 0.36379052 0.56155424 0.1940404  0.52511338 0.1199274\n",
            "  0.46470013 0.29758142 0.53812283 0.30195671 0.60948594 0.10062253\n",
            "  0.51417201 0.55871526 0.27975398 0.51098703 0.0585823  0.56368069\n",
            "  0.44364479 0.18361607 0.13471184 0.43665528 0.43613594 0.5641638\n",
            "  0.31805462 0.5046228  0.62206496 0.38479509 0.61358351 0.24112386\n",
            "  0.34466668 0.59943222 0.52275716 0.09383786 0.62011546 0.4782234\n",
            "  0.35572452 0.28954205 0.4870249  0.2920496  0.44494573 0.29322583\n",
            "  0.30305239 0.28280487 0.45561022 0.18198682]\n",
            " [0.32855353 0.34656598 0.2833083  0.17618592 0.33177217 0.\n",
            "  0.46093311 0.72042797 0.63659143 0.86199648 0.47251186 0.68783107\n",
            "  0.86011446 0.23061655 0.67842778 0.32086264 0.17680659 0.58221382\n",
            "  0.76484583 0.93378103 0.27595798 0.75089873 0.47524778 0.12072465\n",
            "  0.35233442 0.30525113 0.55400374 0.9359633  0.3715221  0.36601621\n",
            "  0.6149199  0.17006558 0.82381196 0.2671777  0.69131176 0.75801539\n",
            "  0.22778638 0.73252733 0.14860683 0.04906854 0.73779957 0.56798508\n",
            "  0.49356553 0.35375614 0.8005726  0.1613093  0.40890839 0.91885504\n",
            "  0.82328372 0.35919283 0.25301877 0.72552588 0.42941651 0.20330074\n",
            "  0.70328635 0.29285787 0.23833925 0.14157947 0.69600952 0.39903077\n",
            "  0.25351716 0.08742992 0.80602643 0.45863077 0.9337829  0.31886898\n",
            "  0.73803585 0.84663544 0.10932279 0.51609118 0.32145229 0.76448654\n",
            "  0.66888853 0.50876025 0.30028266 0.39588802 0.73137838 0.47688195\n",
            "  0.60775427 0.38567337 0.93540125 0.67654912 0.89725814 0.55621578\n",
            "  0.67110785 0.79021581 0.81875124 0.27831254 0.90823266 0.3057367\n",
            "  0.11190031 0.50572951 0.59757949 0.62099635 0.25256638 0.62163936\n",
            "  0.56721175 0.35533659 0.63456729 0.47939506]\n",
            " [0.62077467 0.16766938 0.19442094 0.62870505 0.22607482 0.46093311\n",
            "  0.         0.28442817 0.30824411 0.5062479  0.12234336 0.2276077\n",
            "  0.74457906 0.24475907 0.577212   0.26835107 0.62681762 0.19289715\n",
            "  0.32691332 0.67368639 0.49576601 0.32026033 0.56208785 0.56263991\n",
            "  0.11322891 0.47918724 0.1048839  0.68669668 0.6455844  0.57531791\n",
            "  0.81863985 0.62731267 0.3666885  0.23572719 0.59269615 0.30727288\n",
            "  0.45223193 0.332325   0.53061268 0.44637853 0.36994429 0.15220757\n",
            "  0.70259142 0.33782793 0.72512433 0.59379759 0.11269597 0.57680946\n",
            "  0.38093376 0.10402714 0.28785176 0.63405926 0.09551059 0.32332044\n",
            "  0.59023144 0.58099053 0.64607766 0.32843591 0.71964625 0.32129547\n",
            "  0.47291232 0.46504217 0.66760049 0.518019   0.63185401 0.15642985\n",
            "  0.68202656 0.66243835 0.36525071 0.73696843 0.18134593 0.33891017\n",
            "  0.6171296  0.17985652 0.16224666 0.66054553 0.27962294 0.78641825\n",
            "  0.16105012 0.7210515  0.6755113  0.22519053 0.71819317 0.16775782\n",
            "  0.39335343 0.78030294 0.36440178 0.19947947 0.7182529  0.68253348\n",
            "  0.42704168 0.48684388 0.70204011 0.34002968 0.44696492 0.25891733\n",
            "  0.46739711 0.50887943 0.2304458  0.34340284]\n",
            " [0.90519499 0.37756038 0.43718521 0.87421259 0.5077655  0.72042797\n",
            "  0.28442817 0.         0.45588675 0.55693199 0.25031698 0.16777739\n",
            "  0.93016074 0.52348958 0.79022581 0.54966028 0.87065903 0.1495318\n",
            "  0.04442168 0.7808338  0.77999901 0.31821754 0.83048521 0.80615906\n",
            "  0.39438904 0.76220007 0.25083504 0.8000239  0.92958739 0.85747947\n",
            "  1.093328   0.89037556 0.2440928  0.51957792 0.80457422 0.06367839\n",
            "  0.73657914 0.38319259 0.80839773 0.71474506 0.44955699 0.15256205\n",
            "  0.98114053 0.61371163 0.93071251 0.83053764 0.3118992  0.62682143\n",
            "  0.10322716 0.36909918 0.49570136 0.84338712 0.36721723 0.54425249\n",
            "  0.79633795 0.86540442 0.86698503 0.60034524 0.9607354  0.58843227\n",
            "  0.6561173  0.7389733  0.85115727 0.78520862 0.71111621 0.43922354\n",
            "  0.89986746 0.82202871 0.61484052 1.01585873 0.46574857 0.05863922\n",
            "  0.84381694 0.39713157 0.43755246 0.94406471 0.23504737 1.07055328\n",
            "  0.24342917 1.00535311 0.78253475 0.22595388 0.87324635 0.34065681\n",
            "  0.54986702 1.005857   0.2600355  0.48111406 0.86681407 0.96450383\n",
            "  0.66088483 0.7402779  0.96442356 0.51262307 0.62977472 0.39774884\n",
            "  0.69880437 0.7893003  0.10098464 0.58869283]\n",
            " [0.63823191 0.46006406 0.45561903 0.81197566 0.30483657 0.63659143\n",
            "  0.30824411 0.45588675 0.         0.22605741 0.42627353 0.29336854\n",
            "  0.47431896 0.4143859  0.34357461 0.3213388  0.81317062 0.45632273\n",
            "  0.47969904 0.36549627 0.52082769 0.20136118 0.46521816 0.75595223\n",
            "  0.33897134 0.48455564 0.2369766  0.37897128 0.64330045 0.55550276\n",
            "  0.72722454 0.77301388 0.33522997 0.3711514  0.35670046 0.43122592\n",
            "  0.50709772 0.13580724 0.63589107 0.60149227 0.10643086 0.40902497\n",
            "  0.64058281 0.32613153 0.47745162 0.79467722 0.41855801 0.28783591\n",
            "  0.50689701 0.37229883 0.55925326 0.39305146 0.25015713 0.57806037\n",
            "  0.34570579 0.60965306 0.86381506 0.49764729 0.53160676 0.27628782\n",
            "  0.73968374 0.59801275 0.39528934 0.42245176 0.32735355 0.3452462\n",
            "  0.45265483 0.37084917 0.57658372 0.67432612 0.32433701 0.5120112\n",
            "  0.40516487 0.142825   0.38070055 0.6475416  0.25551366 0.77465717\n",
            "  0.21658468 0.74125386 0.36732093 0.23553574 0.42453062 0.14267705\n",
            "  0.09476572 0.56104076 0.31604156 0.37303325 0.42115732 0.74142396\n",
            "  0.65140992 0.34985732 0.57049459 0.06255128 0.71628004 0.05879125\n",
            "  0.27727312 0.48363191 0.46739704 0.21817358]\n",
            " [0.8336616  0.66949334 0.67400574 1.0369285  0.53029419 0.86199648\n",
            "  0.5062479  0.55693199 0.22605741 0.         0.61162981 0.39409118\n",
            "  0.46764851 0.64036944 0.42173612 0.54417008 1.03832782 0.61032106\n",
            "  0.56402363 0.23805408 0.72518142 0.23880733 0.6274674  0.98167129\n",
            "  0.55808674 0.68583869 0.41235164 0.26052756 0.83160549 0.74302871\n",
            "  0.86798188 0.9943203  0.3448442  0.59716186 0.4283665  0.51004857\n",
            "  0.71945126 0.18362252 0.85330474 0.82585041 0.13656386 0.56669525\n",
            "  0.80345135 0.53796014 0.50721702 1.02056941 0.61888253 0.07249781\n",
            "  0.56812464 0.58620531 0.77719227 0.44913867 0.46743086 0.79968078\n",
            "  0.40927348 0.81004546 1.08986584 0.72357949 0.62081686 0.48687183\n",
            "  0.96031344 0.82026003 0.40077869 0.5911782  0.15644082 0.56886889\n",
            "  0.5110653  0.33661725 0.80232373 0.83446602 0.54997067 0.6023997\n",
            "  0.49263612 0.36438396 0.60294268 0.83154788 0.32190067 0.95254611\n",
            "  0.36816666 0.93286672 0.23949667 0.34212399 0.37169956 0.34197975\n",
            "  0.20900368 0.614386   0.32256887 0.59845167 0.35745908 0.94521338\n",
            "  0.87687536 0.50853287 0.69941428 0.24687878 0.93616686 0.254317\n",
            "  0.4181557  0.67507775 0.60421547 0.41520714]\n",
            " [0.68847824 0.12732946 0.18984232 0.62389801 0.31932412 0.47251186\n",
            "  0.12234336 0.25031698 0.42627353 0.61162981 0.         0.27236341\n",
            "  0.86661644 0.29485548 0.69757984 0.36025628 0.62034775 0.11074097\n",
            "  0.29444137 0.79137369 0.56879304 0.40264167 0.66297141 0.55584213\n",
            "  0.18342459 0.55949779 0.19933426 0.80523325 0.71837673 0.65677591\n",
            "  0.91053357 0.64255747 0.41218223 0.30519378 0.71312199 0.2957217\n",
            "  0.51893848 0.43096013 0.57098958 0.47061199 0.47743411 0.0989054\n",
            "  0.79015803 0.4360293  0.84571717 0.58051386 0.0650414  0.68353072\n",
            "  0.35352747 0.14207758 0.24710956 0.75458969 0.21188614 0.29451696\n",
            "  0.71129703 0.64716232 0.61946496 0.36079805 0.8329963  0.42822179\n",
            "  0.41785649 0.49846168 0.78981121 0.6205296  0.74496804 0.22667886\n",
            "  0.80114086 0.78452451 0.36554165 0.82361243 0.26431001 0.2920062\n",
            "  0.73501211 0.30211661 0.21051259 0.73594977 0.34262497 0.85677713\n",
            "  0.24644362 0.78329879 0.7931962  0.29461175 0.84020723 0.28376867\n",
            "  0.51393217 0.89745562 0.41638407 0.26115631 0.83997071 0.73256718\n",
            "  0.4106971  0.59788957 0.80567759 0.46139142 0.39115574 0.37370292\n",
            "  0.58559072 0.59566681 0.16240158 0.45992215]\n",
            " [0.81477518 0.37912502 0.41935668 0.85631176 0.41430529 0.68783107\n",
            "  0.2276077  0.16777739 0.29336854 0.39409118 0.27236341 0.\n",
            "  0.7660682  0.4657148  0.63398782 0.45280732 0.85440019 0.22899847\n",
            "  0.1867618  0.6137581  0.68807802 0.15656551 0.70457461 0.79016838\n",
            "  0.3363155  0.66333656 0.13950601 0.6326712  0.83307939 0.75366692\n",
            "  0.97119888 0.85272991 0.14185664 0.44678875 0.64776597 0.138014\n",
            "  0.65282362 0.21625345 0.74778434 0.67097808 0.28194287 0.19355041\n",
            "  0.866701   0.50362524 0.77070194 0.82089789 0.31159831 0.46537179\n",
            "  0.21537181 0.33135508 0.50451714 0.6853009  0.27459872 0.54518314\n",
            "  0.63798279 0.77770068 0.87098054 0.55264905 0.81316716 0.4690083\n",
            "  0.68486479 0.68643858 0.68729261 0.65905128 0.54619578 0.37466108\n",
            "  0.74367288 0.65539013 0.59278465 0.90163679 0.38767693 0.22076759\n",
            "  0.69151365 0.26343002 0.3877745  0.84433149 0.07757796 0.97352843\n",
            "  0.10021693 0.91838578 0.61547332 0.0587217  0.70608509 0.19887971\n",
            "  0.38580024 0.85118819 0.14414958 0.41807778 0.69933305 0.89109913\n",
            "  0.65310182 0.60395722 0.83057278 0.35280473 0.6582635  0.23691249\n",
            "  0.55144771 0.68211801 0.21270543 0.45262804]\n",
            " [0.65654311 0.85508237 0.82038797 1.00315237 0.60678057 0.86011446\n",
            "  0.74457906 0.93016074 0.47431896 0.46764851 0.86661644 0.7660682\n",
            "  0.         0.71684718 0.18538856 0.58613605 1.00832779 0.91951328\n",
            "  0.9528286  0.27467509 0.60916686 0.64522271 0.41479252 0.97206281\n",
            "  0.72049779 0.56962463 0.70136761 0.25399359 0.63049523 0.56147064\n",
            "  0.5352586  0.92199329 0.77794981 0.6694393  0.17099448 0.90293074\n",
            "  0.6409098  0.56931013 0.77342834 0.8118244  0.5020918  0.87225206\n",
            "  0.53540804 0.52185229 0.08075392 1.01319624 0.83820274 0.44333547\n",
            "  0.97598977 0.76661641 0.91239622 0.13459879 0.65751595 0.90792991\n",
            "  0.16376176 0.65670257 1.09417443 0.76197523 0.24916354 0.4916573\n",
            "  1.0591213  0.78351654 0.07907721 0.41260781 0.35927051 0.69964766\n",
            "  0.13847795 0.13180815 0.85816092 0.55269258 0.66020289 0.98596001\n",
            "  0.19589824 0.56654476 0.73756631 0.61672801 0.71778491 0.69713674\n",
            "  0.68978854 0.72361307 0.27456804 0.70751721 0.11677166 0.60277557\n",
            "  0.38043101 0.18433953 0.75588081 0.70060094 0.13817934 0.77999239\n",
            "  0.92954327 0.35441292 0.38019027 0.41990686 1.04257156 0.53273617\n",
            "  0.30515464 0.52777806 0.93710035 0.42591523]\n",
            " [0.39405703 0.19517425 0.13107042 0.40620488 0.11859777 0.23061655\n",
            "  0.24475907 0.52348958 0.4143859  0.64036944 0.29485548 0.4657148\n",
            "  0.71684718 0.         0.53181207 0.13075271 0.40614462 0.40319952\n",
            "  0.56723306 0.73888019 0.277458   0.52037114 0.40835256 0.34560384\n",
            "  0.13154096 0.27458239 0.32833388 0.74461349 0.4253742  0.37037755\n",
            "  0.63172653 0.38858251 0.59774982 0.0487847  0.54670343 0.55144056\n",
            "  0.22521667 0.50289017 0.28601266 0.20658965 0.51194945 0.37659369\n",
            "  0.50774841 0.2004488  0.67239404 0.38272521 0.23148454 0.70105789\n",
            "  0.62319382 0.15598551 0.1996381  0.58620539 0.1994656  0.19115661\n",
            "  0.55319808 0.35258126 0.44964313 0.0894351  0.61094968 0.22521311\n",
            "  0.34705818 0.22094918 0.6508752  0.37298531 0.72642024 0.09112509\n",
            "  0.61564699 0.67525514 0.1628925  0.53966403 0.0917509  0.5742591\n",
            "  0.54421309 0.28046718 0.08627835 0.44405665 0.50369671 0.56250686\n",
            "  0.3802424  0.48852788 0.74060683 0.44926318 0.72966841 0.32566876\n",
            "  0.46157276 0.69281041 0.59137729 0.04830532 0.73688515 0.44138996\n",
            "  0.2385715  0.38204395 0.55169486 0.40787976 0.32813982 0.39395559\n",
            "  0.41169298 0.31744162 0.45188125 0.29683637]\n",
            " [0.50443    0.6758663  0.63797695 0.82709466 0.42331267 0.67842778\n",
            "  0.577212   0.79022581 0.34357461 0.42173612 0.69757984 0.63398782\n",
            "  0.18538856 0.53181207 0.         0.40120743 0.83180303 0.76052441\n",
            "  0.81811469 0.32248311 0.43844669 0.53787639 0.26145404 0.79252408\n",
            "  0.54200747 0.39724636 0.54827117 0.31256408 0.4857293  0.40653289\n",
            "  0.45633726 0.75098131 0.67382998 0.48467461 0.01560976 0.77187908\n",
            "  0.46426565 0.46390533 0.60071455 0.6306501  0.40423619 0.71407869\n",
            "  0.41642405 0.33653821 0.14822954 0.83386272 0.66393386 0.42729248\n",
            "  0.84898763 0.58895663 0.72823718 0.05715724 0.48597832 0.72279416\n",
            "  0.0262854  0.49730327 0.91433669 0.57690937 0.20015451 0.30677972\n",
            "  0.87375095 0.60442512 0.12854315 0.24638532 0.37494037 0.51830139\n",
            "  0.10975347 0.18624113 0.67306973 0.44196562 0.47802046 0.84798174\n",
            "  0.07090019 0.40513507 0.55567094 0.47668954 0.59886969 0.57778843\n",
            "  0.546802   0.58530931 0.32343964 0.57744095 0.22709753 0.4515755\n",
            "  0.26145458 0.21751395 0.65324072 0.51694439 0.2424343  0.62821711\n",
            "  0.7448819  0.17567804 0.28597706 0.28194192 0.85718885 0.39740999\n",
            "  0.12040044 0.36066657 0.78383559 0.24467603]\n",
            " [0.3620629  0.29491277 0.24424468 0.49377272 0.0422881  0.32086264\n",
            "  0.26835107 0.54966028 0.3213388  0.54417008 0.36025628 0.45280732\n",
            "  0.58613605 0.13075271 0.40120743 0.         0.49561991 0.45628552\n",
            "  0.59047217 0.61798927 0.23533572 0.46692167 0.3038348  0.44154326\n",
            "  0.17725167 0.21311418 0.31520806 0.62208355 0.38215544 0.30781921\n",
            "  0.55196118 0.45171946 0.56790221 0.08361557 0.41616559 0.56338935\n",
            "  0.20235813 0.43232958 0.31790579 0.28217747 0.42605432 0.41938935\n",
            "  0.43441743 0.07835715 0.54280634 0.48172086 0.30669488 0.59883987\n",
            "  0.64103976 0.22259167 0.3278879  0.45589804 0.18352425 0.32190652\n",
            "  0.4224602  0.32495331 0.55569928 0.19047282 0.49104986 0.09447895\n",
            "  0.47628094 0.27668239 0.52026023 0.26294822 0.6134344  0.13753944\n",
            "  0.48714944 0.54649844 0.2826761  0.46870069 0.09665981 0.60573517\n",
            "  0.41596831 0.21214478 0.16784552 0.39527294 0.47114041 0.52322297\n",
            "  0.35530048 0.46558117 0.61966782 0.42092738 0.60042499 0.2733935\n",
            "  0.35024754 0.56842715 0.55697615 0.1205691  0.60830281 0.44297717\n",
            "  0.35808123 0.25717841 0.44759107 0.30056336 0.45817709 0.31674273\n",
            "  0.28099432 0.24053082 0.49787041 0.16806067]\n",
            " [0.40264043 0.49324454 0.43845978 0.00893089 0.50833958 0.17680659\n",
            "  0.62681762 0.87065903 0.81317062 1.03832782 0.62034775 0.85440019\n",
            "  1.00832779 0.40614462 0.83180303 0.49561991 0.         0.72595046\n",
            "  0.91471691 1.10233363 0.40149759 0.92531233 0.6042287  0.06470808\n",
            "  0.52255197 0.43931211 0.72402079 1.10322103 0.44490504 0.47194762\n",
            "  0.68423515 0.11233463 0.99277785 0.44393744 0.84356531 0.91362542\n",
            "  0.36777382 0.908837   0.23817275 0.21379972 0.91460001 0.71872869\n",
            "  0.57597687 0.5211179  0.94306824 0.04983604 0.56033601 1.09438954\n",
            "  0.97385242 0.5231063  0.37835949 0.87475222 0.60342239 0.32783565\n",
            "  0.8574736  0.3801244  0.10478495 0.3178821  0.8208208  0.56885682\n",
            "  0.2810644  0.22954997 0.96033346 0.59720069 1.10647557 0.49230543\n",
            "  0.8794511  1.00700293 0.26166651 0.58981117 0.49753847 0.90979302\n",
            "  0.81339132 0.68537083 0.47015377 0.46888474 0.90212986 0.50799537\n",
            "  0.77884036 0.41647031 1.1039074  0.84714528 1.05550949 0.73168787\n",
            "  0.84532666 0.91797141 0.98894086 0.45316762 1.06791712 0.32319684\n",
            "  0.21030224 0.65631948 0.70681644 0.79617856 0.29650342 0.79837062\n",
            "  0.72680524 0.48438088 0.77857437 0.64910712]\n",
            " [0.7953531  0.23577754 0.30030772 0.72989467 0.4142424  0.58221382\n",
            "  0.19289715 0.1495318  0.45632273 0.61032106 0.11074097 0.22899847\n",
            "  0.91951328 0.40319952 0.76052441 0.45628552 0.72595046 0.\n",
            "  0.1917045  0.81235437 0.67382957 0.38077466 0.75430488 0.66179269\n",
            "  0.28394911 0.66197287 0.21985432 0.8286772  0.82390948 0.75910536\n",
            "  1.00822925 0.75213572 0.35417406 0.40936144 0.77576771 0.20459938\n",
            "  0.62553621 0.42682526 0.68154999 0.58124864 0.48407153 0.04743989\n",
            "  0.89002413 0.52879721 0.90708762 0.68453446 0.17574364 0.68275122\n",
            "  0.25071201 0.24790214 0.34872658 0.81662248 0.28814817 0.3983231\n",
            "  0.77132788 0.75431319 0.71857351 0.47139272 0.91091478 0.51413693\n",
            "  0.50659292 0.60918458 0.84105945 0.71051098 0.75520746 0.32895186\n",
            "  0.86758136 0.82582741 0.4744725  0.92398506 0.36312939 0.18384764\n",
            "  0.80481049 0.35552348 0.31761217 0.8406926  0.30637281 0.96326362\n",
            "  0.24683264 0.89158312 0.81414744 0.27063929 0.88025567 0.31784573\n",
            "  0.54970757 0.96842254 0.36370707 0.36662345 0.87742051 0.8425947\n",
            "  0.51567869 0.67930063 0.89480395 0.50223838 0.48024329 0.39874436\n",
            "  0.65533104 0.69547496 0.05267104 0.5337609 ]\n",
            " [0.94740387 0.42174018 0.48159492 0.91832054 0.54877977 0.76484583\n",
            "  0.32691332 0.04442168 0.47969904 0.56402363 0.29444137 0.1867618\n",
            "  0.9528286  0.56723306 0.81811469 0.59047217 0.91471691 0.1917045\n",
            "  0.         0.79272826 0.82189888 0.32725193 0.86766658 0.85025167\n",
            "  0.43768653 0.80334337 0.28643096 0.81264514 0.97122831 0.89819315\n",
            "  1.13155666 0.93479658 0.23593586 0.56245451 0.83218717 0.05399323\n",
            "  0.77913137 0.39651756 0.8523859  0.75910481 0.46421163 0.1969431\n",
            "  1.02054375 0.65305614 0.95656634 0.87437912 0.35627096 0.63229582\n",
            "  0.05922717 0.41317799 0.53924053 0.87034511 0.40739385 0.58804145\n",
            "  0.82311184 0.90780771 0.91007222 0.64455778 0.99240047 0.62621684\n",
            "  0.69768589 0.78317003 0.87404036 0.82226064 0.71966746 0.48234351\n",
            "  0.92786686 0.84147205 0.65919706 1.05533411 0.50802026 0.03927328\n",
            "  0.87354964 0.43101892 0.48141823 0.9853721  0.24479947 1.11227823\n",
            "  0.27266442 1.0479588  0.79439078 0.24537727 0.89156096 0.37202997\n",
            "  0.57252331 1.03467022 0.25442933 0.52447844 0.88418243 1.00801129\n",
            "  0.70483321 0.7749707  1.00006512 0.53823796 0.67145291 0.42251267\n",
            "  0.73019602 0.82946951 0.14111357 0.62305491]\n",
            " [0.81748871 0.82087241 0.80761375 1.09908299 0.62034157 0.93378103\n",
            "  0.67368639 0.7808338  0.36549627 0.23805408 0.79137369 0.6137581\n",
            "  0.27467509 0.73888019 0.32248311 0.61798927 1.10233363 0.81235437\n",
            "  0.79272826 0.         0.73396731 0.46567044 0.57969065 1.05382636\n",
            "  0.69283791 0.69185367 0.597611   0.02379951 0.80307996 0.71982832\n",
            "  0.77079494 1.03654794 0.58158745 0.69066992 0.32015811 0.73917622\n",
            "  0.74662559 0.39765496 0.88674768 0.89030064 0.33240308 0.76601142\n",
            "  0.73887806 0.58130224 0.33866651 1.09489881 0.78327139 0.18841894\n",
            "  0.80173424 0.73118324 0.90995765 0.31875643 0.60901539 0.92093219\n",
            "  0.29907882 0.8048034  1.17148217 0.80846072 0.49091689 0.53475578\n",
            "  1.08228194 0.87342103 0.23442613 0.55704255 0.09201733 0.68904639\n",
            "  0.36855148 0.15372309 0.89921021 0.76394546 0.65865046 0.83009655\n",
            "  0.38333408 0.50156559 0.72719406 0.79596789 0.54795738 0.90019021\n",
            "  0.56566242 0.90412492 0.00182493 0.55724168 0.15987    0.50762352\n",
            "  0.28558693 0.45148576 0.55915432 0.7067129  0.14004759 0.93949506\n",
            "  0.97508336 0.47568974 0.60239879 0.34156358 1.06091946 0.4181464\n",
            "  0.38770668 0.66458856 0.81510476 0.45438816]\n",
            " [0.12672822 0.4719428  0.40526106 0.3957649  0.27508612 0.27595798\n",
            "  0.49576601 0.77999901 0.52082769 0.72518142 0.56879304 0.68807802\n",
            "  0.60916686 0.277458   0.43844669 0.23533572 0.40149759 0.67382957\n",
            "  0.82189888 0.73396731 0.         0.69160256 0.20351175 0.3725115\n",
            "  0.39041824 0.04213087 0.55047533 0.73075951 0.15020989 0.09821619\n",
            "  0.36204162 0.31316275 0.80015273 0.26446974 0.44882343 0.7972199\n",
            "  0.05675592 0.64717222 0.16442352 0.22788653 0.62682513 0.64198283\n",
            "  0.23652608 0.19648466 0.54199914 0.41224282 0.50720519 0.76682734\n",
            "  0.87401772 0.42691814 0.44431282 0.47705425 0.41757662 0.41150089\n",
            "  0.46463876 0.09085985 0.49360453 0.24651637 0.42298687 0.24475034\n",
            "  0.51902931 0.18946927 0.56629597 0.19662264 0.75598296 0.34512525\n",
            "  0.47828564 0.62064574 0.32324649 0.26606167 0.31450943 0.83462113\n",
            "  0.41343357 0.43960164 0.35848136 0.16716361 0.70357544 0.29068065\n",
            "  0.59010425 0.23051765 0.73535333 0.65474219 0.66525827 0.50400727\n",
            "  0.51675341 0.51894832 0.78802972 0.30770785 0.67963172 0.22086109\n",
            "  0.37392419 0.26399216 0.32184413 0.48095303 0.51187704 0.53202352\n",
            "  0.34652201 0.08294172 0.71968313 0.31005363]\n",
            " [0.81495478 0.48727849 0.51102788 0.92583248 0.43685169 0.75089873\n",
            "  0.32026033 0.31821754 0.20136118 0.23880733 0.40264167 0.15656551\n",
            "  0.64522271 0.52037114 0.53787639 0.46692167 0.92531233 0.38077466\n",
            "  0.32725193 0.46567044 0.69160256 0.         0.6620788  0.8631934\n",
            "  0.4061536  0.65967533 0.21549557 0.48589068 0.82542427 0.73978846\n",
            "  0.92642688 0.90545259 0.13596868 0.48856291 0.54983724 0.27356317\n",
            "  0.66752638 0.07599192 0.78252325 0.72499902 0.14350322 0.34055224\n",
            "  0.83513174 0.49581522 0.66185439 0.89803454 0.42596859 0.30936106\n",
            "  0.33773318 0.41855135 0.60787359 0.58317291 0.3218928  0.64102672\n",
            "  0.53641798 0.78235529 0.95720401 0.60974361 0.73077798 0.45096309\n",
            "  0.79313789 0.73164059 0.5684016  0.61814202 0.3930971  0.43304629\n",
            "  0.6447834  0.52532831 0.66910646 0.86941364 0.43084448 0.36501879\n",
            "  0.60266533 0.25478545 0.45782211 0.83238596 0.08319179 0.96134381\n",
            "  0.16019084 0.91938191 0.467319   0.11074927 0.5722411  0.19655791\n",
            "  0.27673227 0.75365357 0.11552894 0.47259724 0.56298012 0.90779429\n",
            "  0.73751694 0.54919523 0.77157218 0.26315159 0.76722258 0.16486727\n",
            "  0.47863154 0.66694995 0.36887349 0.40880719]\n",
            " [0.24419851 0.59512001 0.53752052 0.59823186 0.34379647 0.47524778\n",
            "  0.56208785 0.83048521 0.46521816 0.6274674  0.66297141 0.70457461\n",
            "  0.41479252 0.40835256 0.26145404 0.3038348  0.6042287  0.75430488\n",
            "  0.86766658 0.57969065 0.20351175 0.6620788  0.         0.57590608\n",
            "  0.48083163 0.1700356  0.58140938 0.57185131 0.22431879 0.14725207\n",
            "  0.26693037 0.5110035  0.78888531 0.37407468 0.2681447  0.83223576\n",
            "  0.24746886 0.60100361 0.36618092 0.42631062 0.56096926 0.71417348\n",
            "  0.17710624 0.22694773 0.34307122 0.61574451 0.61052736 0.65298642\n",
            "  0.91200444 0.52642278 0.60239761 0.28839928 0.4685895  0.58001994\n",
            "  0.28720921 0.24191351 0.69711465 0.41430973 0.22076184 0.24246624\n",
            "  0.70722772 0.39076253 0.38257768 0.04555697 0.6201387  0.44112012\n",
            "  0.27941324 0.44756533 0.50445569 0.20985501 0.40048885 0.8885871\n",
            "  0.22026884 0.44127131 0.46876222 0.21627739 0.69750843 0.32710987\n",
            "  0.60489873 0.32456314 0.58080831 0.65837729 0.48517228 0.50588418\n",
            "  0.42483633 0.31570912 0.77231011 0.41799639 0.50204488 0.36826767\n",
            "  0.56490116 0.11929378 0.14420734 0.40925235 0.69666828 0.49785533\n",
            "  0.20978099 0.12087723 0.79203558 0.25512619]\n",
            " [0.39352473 0.42867575 0.37378455 0.0681066  0.45140698 0.12072465\n",
            "  0.56263991 0.80615906 0.75595223 0.98167129 0.55584213 0.79016838\n",
            "  0.97206281 0.34560384 0.79252408 0.44154326 0.06470808 0.66179269\n",
            "  0.85025167 1.05382636 0.3725115  0.8631934  0.57590608 0.\n",
            "  0.45929205 0.40733485 0.66045773 1.055669   0.43693555 0.45192345\n",
            "  0.68062641 0.13164396 0.92885325 0.38528648 0.80491071 0.84893822\n",
            "  0.33223962 0.84845693 0.21627264 0.16394174 0.85619583 0.65414709\n",
            "  0.56640313 0.47302757 0.90961543 0.04143913 0.4956662  1.0391444\n",
            "  0.9093663  0.45882194 0.31488562 0.83775207 0.54137363 0.2640431\n",
            "  0.81779378 0.36552555 0.12215277 0.25866441 0.79534817 0.51912402\n",
            "  0.23371015 0.18855377 0.92072691 0.5645283  1.05449678 0.43019446\n",
            "  0.84640515 0.96392881 0.19738991 0.5837068  0.43730588 0.84563928\n",
            "  0.77866962 0.62577973 0.40692525 0.46148365 0.83862843 0.51658812\n",
            "  0.71550222 0.42352697 1.05543558 0.78363479 1.01374069 0.67046338\n",
            "  0.79178968 0.89145946 0.92526612 0.39194621 1.02530225 0.33235945\n",
            "  0.14649191 0.61809127 0.68753764 0.74148957 0.24548411 0.73910125\n",
            "  0.68386725 0.45505415 0.71443927 0.59952944]\n",
            " [0.51343085 0.13469689 0.11664871 0.52377415 0.13722923 0.35233442\n",
            "  0.11322891 0.39438904 0.33897134 0.55808674 0.18342459 0.3363155\n",
            "  0.72049779 0.13154096 0.54200747 0.17725167 0.52255197 0.28394911\n",
            "  0.43768653 0.69283791 0.39041824 0.4061536  0.48083163 0.45929205\n",
            "  0.         0.37807046 0.20179605 0.70245065 0.54062038 0.47525924\n",
            "  0.7271977  0.5164198  0.47148874 0.12635036 0.55758611 0.42021646\n",
            "  0.34381551 0.40098821 0.41740298 0.33477092 0.42321114 0.25175219\n",
            "  0.60731347 0.25411328 0.6894085  0.49285405 0.13024684 0.62452007\n",
            "  0.49285672 0.04772721 0.2202841  0.59898462 0.09080062 0.24213079\n",
            "  0.55913075 0.47291238 0.55107954 0.21647802 0.65935612 0.25205822\n",
            "  0.40222673 0.35209104 0.64739151 0.43918365 0.66509634 0.04537879\n",
            "  0.63954288 0.65601689 0.26339983 0.6409845  0.08091218 0.44683591\n",
            "  0.57056298 0.19614639 0.05239899 0.55698432 0.379669   0.68060799\n",
            "  0.25628928 0.61195873 0.69464026 0.32471356 0.712012   0.22117771\n",
            "  0.40732382 0.72993419 0.46674852 0.08681964 0.71547021 0.5704127\n",
            "  0.33150374 0.42324734 0.62422842 0.35131816 0.37817703 0.30389308\n",
            "  0.42423246 0.41270583 0.32926916 0.29761794]\n",
            " [0.15528635 0.46965259 0.40502701 0.43388458 0.25456837 0.30525113\n",
            "  0.47918724 0.76220007 0.48455564 0.68583869 0.55949779 0.66333656\n",
            "  0.56962463 0.27458239 0.39724636 0.21311418 0.43931211 0.66197287\n",
            "  0.80334337 0.69185367 0.04213087 0.65967533 0.1700356  0.40733485\n",
            "  0.37807046 0.         0.52727898 0.68862907 0.16974565 0.09728195\n",
            "  0.35730873 0.35381123 0.7714191  0.25445763 0.40787905 0.77645405\n",
            "  0.07757107 0.61282565 0.20401702 0.25636429 0.59011086 0.62802221\n",
            "  0.23318793 0.16401487 0.50379105 0.44767111 0.49971363 0.7263782\n",
            "  0.85415144 0.4174875  0.4533115  0.4368813  0.39663819 0.42436066\n",
            "  0.4233884  0.12518745 0.52909891 0.25733557 0.39078134 0.2098103\n",
            "  0.54136506 0.22091186 0.52533194 0.1579132  0.71433827 0.33337214\n",
            "  0.44022802 0.57887465 0.34126493 0.26543825 0.29942834 0.81778508\n",
            "  0.37423664 0.41005717 0.35092943 0.18215881 0.67517873 0.31047863\n",
            "  0.56436711 0.25972282 0.69323775 0.62760609 0.62384708 0.47530194\n",
            "  0.47709096 0.48546427 0.75856348 0.29909995 0.63804076 0.25937839\n",
            "  0.3974621  0.22234724 0.29785768 0.44275039 0.53245778 0.49839947\n",
            "  0.30439114 0.05090124 0.70623995 0.27124451]\n",
            " [0.67719454 0.27184796 0.29784898 0.72538708 0.27579566 0.55400374\n",
            "  0.1048839  0.25083504 0.2369766  0.41235164 0.19933426 0.13950601\n",
            "  0.70136761 0.32833388 0.54827117 0.31520806 0.72402079 0.21985432\n",
            "  0.28643096 0.597611   0.55047533 0.21549557 0.58140938 0.66045773\n",
            "  0.20179605 0.52727898 0.         0.61281037 0.69689075 0.61943146\n",
            "  0.84603933 0.71660008 0.26989536 0.30751471 0.56316582 0.25193259\n",
            "  0.51390443 0.23291049 0.60865419 0.53457503 0.27822814 0.17243231\n",
            "  0.73714274 0.37068612 0.69278224 0.69312654 0.21210839 0.48420014\n",
            "  0.33132089 0.20582512 0.39272454 0.60328297 0.1351182  0.42743821\n",
            "  0.55707605 0.63956938 0.74807564 0.41641301 0.71162203 0.34069085\n",
            "  0.57777902 0.54838105 0.62262024 0.53595756 0.54704124 0.23725321\n",
            "  0.65701445 0.60597398 0.46364835 0.77204775 0.24828831 0.30943411\n",
            "  0.59777192 0.14701406 0.25411548 0.70905162 0.17818801 0.83775761\n",
            "  0.05639273 0.78038348 0.59942291 0.12319696 0.66042783 0.09859721\n",
            "  0.3299049  0.76095963 0.26498269 0.28028741 0.65777555 0.75170414\n",
            "  0.52843891 0.48944291 0.7138507  0.28269331 0.55180046 0.18032983\n",
            "  0.45057851 0.54886346 0.23625812 0.33792409]\n",
            " [0.81136321 0.83161906 0.81657181 1.09979146 0.62601606 0.9359633\n",
            "  0.68669668 0.8000239  0.37897128 0.26052756 0.80523325 0.6326712\n",
            "  0.25399359 0.74461349 0.31256408 0.62208355 1.10322103 0.8286772\n",
            "  0.81264514 0.02379951 0.73075951 0.48589068 0.57185131 1.055669\n",
            "  0.70245065 0.68862907 0.61281037 0.         0.79579547 0.71350037\n",
            "  0.7569237  1.0354243  0.60328067 0.69618763 0.3092005  0.75921544\n",
            "  0.74518407 0.41688222 0.88526042 0.89190653 0.35087872 0.78212364\n",
            "  0.72832721 0.58270072 0.32015861 1.09685282 0.79551628 0.21211008\n",
            "  0.82254179 0.74163413 0.91846285 0.30510459 0.61981938 0.92820718\n",
            "  0.28837756 0.79982237 1.17399783 0.81247467 0.47526142 0.53709134\n",
            "  1.08918757 0.8739614  0.217879   0.55081255 0.11580841 0.69722585\n",
            "  0.35269213 0.13729674 0.9040625  0.75269415 0.66588072 0.84981468\n",
            "  0.37108965 0.5128632  0.73557024 0.78801745 0.56784785 0.89018927\n",
            "  0.58227123 0.89641292 0.02288599 0.57577796 0.13819528 0.52151451\n",
            "  0.29603626 0.43268917 0.58081658 0.71360153 0.11784893 0.9339221\n",
            "  0.97981462 0.47051263 0.58935472 0.35176062 1.0681685  0.43282126\n",
            "  0.38424271 0.65988867 0.83250114 0.45693852]\n",
            " [0.04361114 0.61824018 0.55042766 0.43719242 0.42304353 0.3715221\n",
            "  0.6455844  0.92958739 0.64330045 0.83160549 0.71837673 0.83307939\n",
            "  0.63049523 0.4253742  0.4857293  0.38215544 0.44490504 0.82390948\n",
            "  0.97122831 0.80307996 0.15020989 0.82542427 0.22431879 0.43693555\n",
            "  0.54062038 0.16974565 0.69689075 0.79579547 0.         0.08866191\n",
            "  0.24475836 0.33657521 0.93989817 0.41458988 0.49207148 0.9454501\n",
            "  0.20019573 0.77502392 0.22588228 0.33060541 0.74689932 0.79218933\n",
            "  0.13113886 0.33199264 0.55414262 0.47079137 0.65625382 0.86465749\n",
            "  1.02276825 0.57670482 0.57888367 0.50992048 0.56551239 0.54062804\n",
            "  0.51139462 0.08028095 0.54774922 0.38324782 0.40390746 0.37451414\n",
            "  0.62495034 0.28741634 0.60501819 0.24746421 0.83951616 0.49531514\n",
            "  0.49226534 0.67171783 0.44544584 0.14687341 0.46448425 0.98449258\n",
            "  0.44060473 0.57853405 0.50789026 0.02465291 0.84393058 0.14112196\n",
            "  0.734045   0.10211048 0.80423973 0.79693806 0.70806284 0.6441189\n",
            "  0.62336459 0.50093088 0.92655413 0.45752595 0.72543889 0.15173856\n",
            "  0.48113082 0.33123509 0.27515032 0.59604615 0.62261847 0.66233923\n",
            "  0.42356496 0.15967484 0.86988822 0.42553419]\n",
            " [0.09800424 0.56554487 0.50001854 0.46519879 0.34978963 0.36601621\n",
            "  0.57531791 0.85747947 0.55550276 0.74302871 0.65677591 0.75366692\n",
            "  0.56147064 0.37037755 0.40653289 0.30781921 0.47194762 0.75910536\n",
            "  0.89819315 0.71982832 0.09821619 0.73978846 0.14725207 0.45192345\n",
            "  0.47525924 0.09728195 0.61943146 0.71350037 0.08866191 0.\n",
            "  0.26413855 0.37200919 0.85653534 0.35169578 0.41415553 0.86995675\n",
            "  0.15496204 0.68791742 0.23597841 0.31958008 0.6586871  0.72478776\n",
            "  0.13872391 0.25018012 0.48824023 0.48966057 0.59685828 0.77667687\n",
            "  0.9481721  0.51475571 0.54233385 0.4356042  0.49088761 0.50969614\n",
            "  0.43259797 0.09638094 0.569968   0.34460237 0.35090341 0.28973467\n",
            "  0.61388374 0.27858649 0.52950019 0.162786   0.75343071 0.43062659\n",
            "  0.42495574 0.59272226 0.42067178 0.16946516 0.39630068 0.91346645\n",
            "  0.36749077 0.49578969 0.44800259 0.09259996 0.76108198 0.22183613\n",
            "  0.65396555 0.19001975 0.72104375 0.715349   0.63179847 0.56172173\n",
            "  0.53471699 0.44867223 0.84260047 0.39625739 0.64829749 0.2216972\n",
            "  0.46846661 0.24533313 0.23568932 0.5075947  0.60780497 0.57602988\n",
            "  0.33703467 0.07287001 0.80308502 0.33748056]\n",
            " [0.28835728 0.82654847 0.76233014 0.67612913 0.59399244 0.6149199\n",
            "  0.81863985 1.093328   0.72722454 0.86798188 0.91053357 0.97119888\n",
            "  0.5352586  0.63172653 0.45633726 0.55196118 0.68423515 1.00822925\n",
            "  1.13155666 0.77079494 0.36204162 0.92642688 0.26693037 0.68062641\n",
            "  0.7271977  0.35730873 0.84603933 0.7569237  0.24475836 0.26413855\n",
            "  0.         0.57319788 1.05487899 0.60835506 0.45475985 1.09759464\n",
            "  0.41874888 0.86277188 0.47057358 0.57217279 0.81795546 0.97058802\n",
            "  0.12551702 0.48104997 0.45481215 0.71324175 0.85320221 0.88167105\n",
            "  1.17722997 0.76966592 0.80635422 0.45205189 0.72782291 0.77274211\n",
            "  0.47598576 0.32206995 0.78835311 0.60855408 0.28675074 0.50541647\n",
            "  0.86773775 0.52929246 0.54126796 0.31231765 0.83071579 0.68409026\n",
            "  0.40719563 0.62032481 0.68141189 0.09887323 0.6464818  1.15097564\n",
            "  0.38919745 0.70778382 0.70551025 0.22011201 0.96415714 0.20367199\n",
            "  0.87134689 0.27733248 0.77147063 0.9253068  0.63918793 0.77266258\n",
            "  0.67637838 0.36251555 1.03789561 0.65342856 0.65987777 0.36755012\n",
            "  0.72299065 0.37741947 0.17038909 0.66867616 0.86412845 0.76309615\n",
            "  0.45654939 0.31571348 1.04900127 0.52173548]\n",
            " [0.29539748 0.51639695 0.45334157 0.10381164 0.47288256 0.17006558\n",
            "  0.62731267 0.89037556 0.77301388 0.9943203  0.64255747 0.85272991\n",
            "  0.92199329 0.38858251 0.75098131 0.45171946 0.11233463 0.75213572\n",
            "  0.93479658 1.03654794 0.31316275 0.90545259 0.5110035  0.13164396\n",
            "  0.5164198  0.35381123 0.71660008 1.0354243  0.33657521 0.37200919\n",
            "  0.57319788 0.         0.98626827 0.4168929  0.76169028 0.92722597\n",
            "  0.29034599 0.8801226  0.15070833 0.18203935 0.87767709 0.73798369\n",
            "  0.46763685 0.46143462 0.85335226 0.15026061 0.57896371 1.04560701\n",
            "  0.99315304 0.52716562 0.41695489 0.79020891 0.58739892 0.36577372\n",
            "  0.77707998 0.27715447 0.21711086 0.30023329 0.72287802 0.51172542\n",
            "  0.3639708  0.17541137 0.8791407  0.50941838 1.04870033 0.47943367\n",
            "  0.78957182 0.93124734 0.2780547  0.47984625 0.47506709 0.9345441\n",
            "  0.726121   0.65590003 0.4653141  0.36007877 0.89224325 0.39574526\n",
            "  0.76882419 0.30413677 1.03803746 0.83784541 0.97726923 0.70902938\n",
            "  0.79359669 0.82059419 0.97993995 0.43685993 0.99104006 0.21086702\n",
            "  0.25509037 0.57567498 0.6040609  0.74823613 0.37374148 0.76601345\n",
            "  0.65312002 0.39426317 0.80453994 0.59002946]\n",
            " [0.92578904 0.52097898 0.56004986 0.99438663 0.53279715 0.82381196\n",
            "  0.3666885  0.2440928  0.33522997 0.3448442  0.41218223 0.14185664\n",
            "  0.77794981 0.59774982 0.67382998 0.56790221 0.99277785 0.35417406\n",
            "  0.23593586 0.58158745 0.80015273 0.13596868 0.78888531 0.92885325\n",
            "  0.47148874 0.7714191  0.26989536 0.60328067 0.93989817 0.85653534\n",
            "  1.05487899 0.98626827 0.         0.57395341 0.68580575 0.18441526\n",
            "  0.77023231 0.21100916 0.87452722 0.80422952 0.276249   0.32640413\n",
            "  0.95911396 0.60792855 0.79701688 0.9604487  0.45340856 0.40800955\n",
            "  0.22711394 0.47071294 0.64635222 0.71902711 0.40052456 0.68668172\n",
            "  0.67233049 0.89087312 1.01196678 0.68618702 0.86615216 0.56694579\n",
            "  0.82654626 0.81680765 0.70196413 0.744201   0.5009034  0.5068369\n",
            "  0.78071559 0.65527612 0.73156138 0.99374296 0.51453517 0.27512505\n",
            "  0.73838311 0.36140967 0.52367164 0.94875603 0.09676194 1.07829104\n",
            "  0.21786252 1.03025721 0.58311402 0.1490495  0.69987934 0.29622337\n",
            "  0.41268879 0.88958209 0.02252399 0.54953707 0.68913259 1.01067074\n",
            "  0.79350554 0.6788723  0.90324201 0.39758173 0.79992328 0.29224907\n",
            "  0.61195789 0.78380704 0.32451328 0.53389418]\n",
            " [0.38708098 0.22138976 0.16449395 0.44334064 0.07040197 0.2671777\n",
            "  0.23572719 0.51957792 0.3711514  0.59716186 0.30519378 0.44678875\n",
            "  0.6694393  0.0487847  0.48467461 0.08361557 0.44393744 0.40936144\n",
            "  0.56245451 0.69066992 0.26446974 0.48856291 0.37407468 0.38528648\n",
            "  0.12635036 0.25445763 0.30751471 0.69618763 0.41458988 0.35169578\n",
            "  0.60835506 0.4168929  0.57395341 0.         0.49967748 0.5422404\n",
            "  0.21751715 0.46595933 0.30118322 0.23698676 0.47093952 0.37809162\n",
            "  0.48628314 0.15739382 0.62639255 0.4236322  0.2453906  0.65651454\n",
            "  0.61664063 0.16311978 0.24432993 0.53948851 0.17352091 0.23917546\n",
            "  0.5057052  0.34660772 0.49304963 0.12664479 0.57055492 0.17789735\n",
            "  0.3958266  0.24380611 0.60281623 0.33627179 0.67956948 0.08097373\n",
            "  0.57048208 0.62653606 0.20945849 0.519302   0.05944097 0.57275691\n",
            "  0.49920427 0.2417581  0.09716483 0.43138443 0.47840488 0.55434144\n",
            "  0.35622069 0.48594234 0.69239032 0.4249046  0.68100927 0.29220892\n",
            "  0.41469415 0.6501729  0.56603461 0.04508952 0.68814563 0.44749478\n",
            "  0.28541137 0.33884318 0.51820447 0.36159677 0.37677674 0.35446437\n",
            "  0.36437446 0.29264255 0.45546212 0.2482229 ]\n",
            " [0.5118716  0.69141589 0.65334895 0.83876359 0.43859794 0.69131176\n",
            "  0.59269615 0.80457422 0.35670046 0.4283665  0.71312199 0.64776597\n",
            "  0.17099448 0.54670343 0.01560976 0.41616559 0.84356531 0.77576771\n",
            "  0.83218717 0.32015811 0.44882343 0.54983724 0.2681447  0.80491071\n",
            "  0.55758611 0.40787905 0.56316582 0.3092005  0.49207148 0.41415553\n",
            "  0.45475985 0.76169028 0.68580575 0.49967748 0.         0.78570993\n",
            "  0.47586037 0.4755291  0.61163591 0.64338746 0.41505044 0.72927759\n",
            "  0.41912672 0.35087365 0.13264645 0.84621303 0.67954246 0.43144235\n",
            "  0.86262734 0.60454824 0.74336562 0.04155153 0.50154524 0.73761768\n",
            "  0.02128386 0.50584029 0.92681622 0.59101419 0.19248635 0.32178303\n",
            "  0.88817259 0.61664954 0.11747278 0.25534637 0.37595624 0.53376899\n",
            "  0.09599153 0.17978321 0.6871946  0.44379586 0.49343376 0.86225191\n",
            "  0.06609882 0.4203248  0.57109568 0.48235326 0.6117525  0.58111407\n",
            "  0.56114588 0.5910089  0.32103903 0.59102903 0.21797776 0.46628599\n",
            "  0.27316412 0.20443283 0.66508114 0.53218467 0.23414399 0.63582459\n",
            "  0.75876436 0.18724751 0.28469325 0.2953642  0.87175007 0.41102863\n",
            "  0.1355841  0.37021878 0.79884698 0.26021261]\n",
            " [0.92350523 0.42110159 0.47638877 0.9167414  0.52244225 0.75801539\n",
            "  0.30727288 0.06367839 0.43122592 0.51004857 0.2957217  0.138014\n",
            "  0.90293074 0.55144056 0.77187908 0.56338935 0.91362542 0.20459938\n",
            "  0.05399323 0.73917622 0.7972199  0.27356317 0.83223576 0.84893822\n",
            "  0.42021646 0.77645405 0.25193259 0.75921544 0.9454501  0.86995675\n",
            "  1.09759464 0.92722597 0.18441526 0.5422404  0.78570993 0.\n",
            "  0.75683323 0.34357675 0.83745249 0.74886179 0.41152163 0.19696912\n",
            "  0.98904912 0.62225597 0.90864248 0.87512738 0.3533342  0.57831032\n",
            "  0.07983744 0.4009755  0.54283089 0.82331091 0.37993778 0.58986078\n",
            "  0.77599496 0.88467077 0.91516989 0.632389   0.94946169 0.5924641\n",
            "  0.70904539 0.77039758 0.82432289 0.78670245 0.66574551 0.4636791\n",
            "  0.88158953 0.79008977 0.65480337 1.0239467  0.48579002 0.09282673\n",
            "  0.82884277 0.39232368 0.46695824 0.95859044 0.19144676 1.08655765\n",
            "  0.23037611 1.02535218 0.74083193 0.1957965  0.83969528 0.33076624\n",
            "  0.52308377 0.98897077 0.20200758 0.50673485 0.83197888 0.98959312\n",
            "  0.70510781 0.73598731 0.96203439 0.49081834 0.68250741 0.37492563\n",
            "  0.68736807 0.80002965 0.16058175 0.58403404]\n",
            " [0.16983167 0.41833294 0.35093587 0.36290608 0.23866497 0.22778638\n",
            "  0.45223193 0.73657914 0.50709772 0.71945126 0.51893848 0.65282362\n",
            "  0.6409098  0.22521667 0.46426565 0.20235813 0.36777382 0.62553621\n",
            "  0.77913137 0.74662559 0.05675592 0.66752638 0.24746886 0.33223962\n",
            "  0.34381551 0.07757107 0.51390443 0.74518407 0.20019573 0.15496204\n",
            "  0.41874888 0.29034599 0.77023231 0.21751715 0.47586037 0.75683323\n",
            "  0.         0.62815049 0.14012292 0.17884375 0.61352567 0.59545754\n",
            "  0.29323225 0.18180974 0.57740862 0.37301684 0.45636096 0.76549185\n",
            "  0.83248883 0.37776449 0.38762575 0.50707477 0.37931769 0.35481655\n",
            "  0.49006051 0.1290969  0.45432752 0.18981156 0.46822966 0.23276527\n",
            "  0.46529263 0.14440829 0.59280692 0.23247431 0.76191092 0.29846123\n",
            "  0.51416613 0.64188156 0.26746525 0.32247504 0.27129369 0.79016764\n",
            "  0.44668651 0.41310573 0.30846709 0.21940232 0.67347105 0.33786784\n",
            "  0.55664576 0.26883341 0.74809631 0.62295002 0.6890588  0.47553238\n",
            "  0.51335609 0.56256807 0.75931612 0.2589624  0.70217257 0.24070567\n",
            "  0.32079315 0.28864745 0.37386294 0.47288891 0.45725578 0.51219974\n",
            "  0.36292431 0.1281343  0.67252564 0.30633668]\n",
            " [0.76767849 0.49916963 0.51290421 0.90863563 0.40732634 0.73252733\n",
            "  0.332325   0.38319259 0.13580724 0.18362252 0.43096013 0.21625345\n",
            "  0.56931013 0.50289017 0.46390533 0.43232958 0.908837   0.42682526\n",
            "  0.39651756 0.39765496 0.64717222 0.07599192 0.60100361 0.84845693\n",
            "  0.40098821 0.61282565 0.23291049 0.41688222 0.77502392 0.68791742\n",
            "  0.86277188 0.8801226  0.21100916 0.46595933 0.4755291  0.34357675\n",
            "  0.62815049 0.         0.7502327  0.70257082 0.06841983 0.38307278\n",
            "  0.77614787 0.45074893 0.58612392 0.88508793 0.44365646 0.25611477\n",
            "  0.41105787 0.42164386 0.61385349 0.50818879 0.31149622 0.64200402\n",
            "  0.46163404 0.73720884 0.94862246 0.59102522 0.65855174 0.40302997\n",
            "  0.79916768 0.70489636 0.49241594 0.55809915 0.33102728 0.42081565\n",
            "  0.57006385 0.45016829 0.65890115 0.80998083 0.41131353 0.43322519\n",
            "  0.52969872 0.2244607  0.4503118  0.78031661 0.15244405 0.90822072\n",
            "  0.18543591 0.871498   0.39935998 0.16089953 0.49787488 0.18009707\n",
            "  0.20245076 0.67889696 0.18981323 0.45675232 0.48924504 0.86632124\n",
            "  0.73048053 0.48551685 0.70469586 0.19474827 0.77399543 0.11599831\n",
            "  0.41046266 0.61550286 0.42240005 0.35194542]\n",
            " [0.18236671 0.45299137 0.38437745 0.23206467 0.34567499 0.14860683\n",
            "  0.53061268 0.80839773 0.63589107 0.85330474 0.57098958 0.74778434\n",
            "  0.77342834 0.28601266 0.60071455 0.31790579 0.23817275 0.68154999\n",
            "  0.8523859  0.88674768 0.16442352 0.78252325 0.36618092 0.21627264\n",
            "  0.41740298 0.20401702 0.60865419 0.88526042 0.22588228 0.23597841\n",
            "  0.47057358 0.15070833 0.87452722 0.30118322 0.61163591 0.83745249\n",
            "  0.14012292 0.7502327  0.         0.11559554 0.74181594 0.65928929\n",
            "  0.35244404 0.31626597 0.70637319 0.25368217 0.50596132 0.90185526\n",
            "  0.9088238  0.43934761 0.38328749 0.64089313 0.47455901 0.33801168\n",
            "  0.62675876 0.15038052 0.33412013 0.210198   0.5828586  0.36721598\n",
            "  0.40143723 0.07597754 0.7290238  0.36100824 0.90112279 0.3750416\n",
            "  0.64263929 0.78055305 0.23920006 0.37224296 0.36055611 0.85774271\n",
            "  0.57778903 0.52862936 0.37108847 0.25050076 0.77851627 0.32877454\n",
            "  0.657091   0.2385898  0.88821893 0.72553129 0.82675019 0.58662375\n",
            "  0.64945917 0.67987668 0.86590584 0.33152781 0.84040759 0.16608614\n",
            "  0.26032456 0.42523298 0.47166607 0.60645039 0.40116184 0.6346136\n",
            "  0.50251026 0.24689818 0.73217093 0.44371522]\n",
            " [0.28841669 0.34785811 0.28103088 0.21167307 0.29735869 0.04906854\n",
            "  0.44637853 0.71474506 0.60149227 0.82585041 0.47061199 0.67097808\n",
            "  0.8118244  0.20658965 0.6306501  0.28217747 0.21379972 0.58124864\n",
            "  0.75910481 0.89030064 0.22788653 0.72499902 0.42631062 0.16394174\n",
            "  0.33477092 0.25636429 0.53457503 0.89190653 0.33060541 0.31958008\n",
            "  0.57217279 0.18203935 0.80422952 0.23698676 0.64338746 0.74886179\n",
            "  0.17884375 0.70257082 0.11559554 0.         0.70428972 0.56321058\n",
            "  0.44954422 0.3092081  0.75180563 0.20529932 0.40588775 0.8810072\n",
            "  0.81683854 0.34790895 0.26889955 0.67726371 0.4056909  0.22266483\n",
            "  0.65565211 0.25086284 0.28437353 0.11832929 0.64706908 0.35586794\n",
            "  0.29575031 0.04320853 0.75848547 0.40957501 0.89281391 0.29739432\n",
            "  0.68918555 0.8003228  0.12386312 0.47330985 0.29416235 0.76126186\n",
            "  0.62018285 0.47813128 0.28414405 0.35462716 0.71028541 0.44300027\n",
            "  0.58682279 0.35383101 0.89189945 0.6558411  0.85049463 0.52896492\n",
            "  0.63155321 0.74117757 0.79796676 0.2548859  0.86179195 0.28030378\n",
            "  0.15082951 0.45741167 0.54971464 0.58269185 0.29216427 0.58989844\n",
            "  0.52047184 0.30659003 0.63296511 0.43625474]\n",
            " [0.74315728 0.5329439  0.53858487 0.91373155 0.40694211 0.73779957\n",
            "  0.36994429 0.44955699 0.10643086 0.13656386 0.47743411 0.28194287\n",
            "  0.5020918  0.51194945 0.40423619 0.42605432 0.91460001 0.48407153\n",
            "  0.46421163 0.33240308 0.62682513 0.14350322 0.56096926 0.85619583\n",
            "  0.42321114 0.59011086 0.27822814 0.35087872 0.74689932 0.6586871\n",
            "  0.81795546 0.87767709 0.276249   0.47093952 0.41505044 0.41152163\n",
            "  0.61352567 0.06841983 0.74181594 0.70428972 0.         0.43885765\n",
            "  0.73770832 0.4325136  0.52145307 0.89422502 0.48262776 0.20693135\n",
            "  0.47947067 0.4500706  0.64149473 0.4459524  0.33241388 0.66524385\n",
            "  0.40005042 0.71528327 0.96131883 0.59753195 0.60161662 0.38251783\n",
            "  0.82524172 0.70241333 0.42575426 0.51981548 0.27118914 0.43642853\n",
            "  0.50835016 0.3819172  0.67233961 0.77081558 0.42053843 0.50056359\n",
            "  0.47182957 0.23236423 0.46933662 0.75022221 0.2207083  0.87624941\n",
            "  0.23800073 0.84568237 0.33414219 0.22490853 0.42945528 0.20551186\n",
            "  0.14497156 0.61690542 0.25443368 0.46825442 0.42088167 0.84754459\n",
            "  0.74601999 0.44298207 0.65602521 0.15226559 0.80085062 0.11964959\n",
            "  0.36194281 0.58741122 0.48360306 0.32141181]\n",
            " [0.765154   0.22548597 0.28469197 0.72214658 0.37712909 0.56798508\n",
            "  0.15220757 0.15256205 0.40902497 0.56669525 0.0989054  0.19355041\n",
            "  0.87225206 0.37659369 0.71407869 0.41938935 0.71872869 0.04743989\n",
            "  0.1969431  0.76601142 0.64198283 0.34055224 0.71417348 0.65414709\n",
            "  0.25175219 0.62802221 0.17243231 0.78212364 0.79218933 0.72478776\n",
            "  0.97058802 0.73798369 0.32640413 0.37809162 0.72927759 0.19696912\n",
            "  0.59545754 0.38307278 0.65928929 0.56321058 0.43885765 0.\n",
            "  0.85379626 0.48997193 0.86038561 0.67926198 0.15933779 0.63918675\n",
            "  0.25569394 0.2207068  0.3459346  0.7700391  0.24613241 0.39339693\n",
            "  0.72459379 0.72453871 0.71822541 0.45004972 0.86663306 0.47285476\n",
            "  0.51376324 0.58863125 0.79375449 0.66996627 0.71004334 0.29712965\n",
            "  0.82144374 0.77839959 0.46228415 0.88802149 0.32860137 0.19850764\n",
            "  0.75918698 0.30895303 0.29032273 0.80818462 0.26961827 0.93233439\n",
            "  0.20103177 0.8631272  0.7678087  0.22983222 0.83285152 0.27041386\n",
            "  0.50231155 0.92283055 0.33365393 0.33696138 0.8300773  0.81784615\n",
            "  0.50935914 0.63619125 0.85361643 0.45480476 0.48712218 0.35157958\n",
            "  0.60990254 0.65962298 0.07848121 0.4893444 ]\n",
            " [0.17353251 0.70284045 0.6379745  0.56829672 0.47669399 0.49356553\n",
            "  0.70259142 0.98114053 0.64058281 0.80345135 0.79015803 0.866701\n",
            "  0.53540804 0.50774841 0.41642405 0.43441743 0.57597687 0.89002413\n",
            "  1.02054375 0.73887806 0.23652608 0.83513174 0.17710624 0.56640313\n",
            "  0.60731347 0.23318793 0.73714274 0.72832721 0.13113886 0.13872391\n",
            "  0.12551702 0.46763685 0.95911396 0.48628314 0.41912672 0.98904912\n",
            "  0.29323225 0.77614787 0.35244404 0.44954422 0.73770832 0.85379626\n",
            "  0.         0.36749595 0.4557863  0.60107121 0.73162217 0.82630058\n",
            "  1.068222   0.64860813 0.68083886 0.42794572 0.61409806 0.64737396\n",
            "  0.44000246 0.2021548  0.67857409 0.48303713 0.29383537 0.39773132\n",
            "  0.74528699 0.40703548 0.52288457 0.21819275 0.78742369 0.5634801\n",
            "  0.39791317 0.59652182 0.55661172 0.03494129 0.52709053 1.03814799\n",
            "  0.35900326 0.60411218 0.58325592 0.10763676 0.86591211 0.16292918\n",
            "  0.7664855  0.19700069 0.73981676 0.8238914  0.62552343 0.66993677\n",
            "  0.60189259 0.387159   0.94340102 0.53123623 0.64463886 0.27435862\n",
            "  0.60012207 0.29628157 0.15918637 0.58573051 0.74083668 0.67033367\n",
            "  0.38529584 0.19462573 0.93227559 0.42635254]\n",
            " [0.31920883 0.37318313 0.3210594  0.51801334 0.1169212  0.35375614\n",
            "  0.33782793 0.61371163 0.32613153 0.53796014 0.4360293  0.50362524\n",
            "  0.52185229 0.2004488  0.33653821 0.07835715 0.5211179  0.52879721\n",
            "  0.65305614 0.58130224 0.19648466 0.49581522 0.22694773 0.47302757\n",
            "  0.25411328 0.16401487 0.37068612 0.58270072 0.33199264 0.25018012\n",
            "  0.48104997 0.46143462 0.60792855 0.15739382 0.35087365 0.62225597\n",
            "  0.18180974 0.45074893 0.31626597 0.3092081  0.4325136  0.48997193\n",
            "  0.36749595 0.         0.47341845 0.51427074 0.38412091 0.58558945\n",
            "  0.70115289 0.30020988 0.40004112 0.38911069 0.24700542 0.38901726\n",
            "  0.35949201 0.2868749  0.59207943 0.24079806 0.41356164 0.05109472\n",
            "  0.53732074 0.29286295 0.46025503 0.18510682 0.58776696 0.21567579\n",
            "  0.41567111 0.49460824 0.33680803 0.40227797 0.17431746 0.67088658\n",
            "  0.34416794 0.24654252 0.24608928 0.34156478 0.51194329 0.47110276\n",
            "  0.40381828 0.42370762 0.58288718 0.46538363 0.54660143 0.31217053\n",
            "  0.33319382 0.49288995 0.59477773 0.19778956 0.55645036 0.41592916\n",
            "  0.40958695 0.1817142  0.37011551 0.29121001 0.52118836 0.33554029\n",
            "  0.21873548 0.17852466 0.56827349 0.12882279]\n",
            " [0.58180789 0.82283426 0.78297256 0.93754485 0.56774719 0.8005726\n",
            "  0.72512433 0.93071251 0.47745162 0.50721702 0.84571717 0.77070194\n",
            "  0.08075392 0.67239404 0.14822954 0.54280634 0.94306824 0.90708762\n",
            "  0.95656634 0.33866651 0.54199914 0.66185439 0.34307122 0.90961543\n",
            "  0.6894085  0.50379105 0.69278224 0.32015861 0.55414262 0.48824023\n",
            "  0.45481215 0.85335226 0.79701688 0.62639255 0.13264645 0.90864248\n",
            "  0.57740862 0.58612392 0.70637319 0.75180563 0.52145307 0.86038561\n",
            "  0.4557863  0.47341845 0.         0.95042422 0.81205153 0.4927574\n",
            "  0.98418162 0.73654409 0.87069294 0.09113213 0.63418518 0.86232384\n",
            "  0.13581433 0.58420067 1.03172919 0.71033693 0.16845437 0.44918755\n",
            "  1.00920799 0.72131816 0.10853827 0.34587914 0.41666764 0.66440132\n",
            "  0.06378168 0.18618052 0.80629602 0.47239897 0.62359872 0.98783141\n",
            "  0.13187425 0.55157702 0.70128677 0.53951351 0.72923334 0.617064\n",
            "  0.68768884 0.64563655 0.33885297 0.7129868  0.18896403 0.59507768\n",
            "  0.38764723 0.1129421  0.77551462 0.6607824  0.21043177 0.70459329\n",
            "  0.87566949 0.29722298 0.29973409 0.41837306 0.9939972  0.53406153\n",
            "  0.26556451 0.45956804 0.92891223 0.39179449]\n",
            " [0.42767515 0.45404911 0.40249629 0.05764544 0.49052963 0.1613093\n",
            "  0.59379759 0.83053764 0.79467722 1.02056941 0.58051386 0.82089789\n",
            "  1.01319624 0.38272521 0.83386272 0.48172086 0.04983604 0.68453446\n",
            "  0.87437912 1.09489881 0.41224282 0.89803454 0.61574451 0.04143913\n",
            "  0.49285405 0.44767111 0.69312654 1.09685282 0.47079137 0.48966057\n",
            "  0.71324175 0.15026061 0.9604487  0.4236322  0.84621303 0.87512738\n",
            "  0.37301684 0.88508793 0.25368217 0.20529932 0.89422502 0.67926198\n",
            "  0.60107121 0.51427074 0.95042422 0.         0.52194889 1.07861526\n",
            "  0.93358939 0.48977675 0.33593485 0.8789333  0.57659144 0.28635878\n",
            "  0.85915599 0.40144567 0.08143013 0.29703672 0.8347329  0.56015508\n",
            "  0.23125104 0.22969669 0.96209346 0.60510898 1.0949479  0.46552744\n",
            "  0.88714597 1.00536512 0.2295531  0.61715119 0.47446892 0.8682176\n",
            "  0.81960608 0.66318313 0.44066216 0.49518985 0.87128031 0.54370862\n",
            "  0.74857508 0.45114299 1.0965124  0.81630636 1.05517583 0.7064443\n",
            "  0.83190307 0.93109974 0.95748642 0.42833564 1.0667411  0.35864486\n",
            "  0.17002278 0.65933133 0.7253477  0.78126267 0.24698379 0.77664233\n",
            "  0.72530636 0.49497212 0.73703655 0.64054944]\n",
            " [0.6255236  0.06878146 0.125662   0.56354147 0.26736071 0.40890839\n",
            "  0.11269597 0.3118992  0.41855801 0.61888253 0.0650414  0.31159831\n",
            "  0.83820274 0.23148454 0.66393386 0.30669488 0.56033601 0.17574364\n",
            "  0.35627096 0.78327139 0.50720519 0.42596859 0.61052736 0.4956662\n",
            "  0.13024684 0.49971363 0.21210839 0.79551628 0.65625382 0.59685828\n",
            "  0.85320221 0.57896371 0.45340856 0.2453906  0.67954246 0.3533342\n",
            "  0.45636096 0.44365646 0.50596132 0.40588775 0.48262776 0.15933779\n",
            "  0.73162217 0.38412091 0.81205153 0.52194889 0.         0.68950391\n",
            "  0.41501512 0.0841727  0.19395847 0.72108977 0.18151213 0.23798874\n",
            "  0.67943548 0.58406539 0.56482948 0.29576592 0.78872066 0.3816071\n",
            "  0.37342771 0.43344094 0.7629601  0.56922768 0.74375991 0.16992715\n",
            "  0.76448084 0.76397854 0.30295058 0.76469211 0.21003854 0.35582712\n",
            "  0.69658694 0.28370111 0.14893456 0.67431733 0.37538685 0.79395271\n",
            "  0.26587447 0.71942636 0.78509548 0.32348655 0.82001179 0.27987625\n",
            "  0.5003941  0.85738699 0.45496589 0.20061369 0.82138813 0.66774478\n",
            "  0.35193873 0.55267392 0.75416528 0.44575409 0.34688452 0.37097823\n",
            "  0.5484959  0.53763756 0.22710842 0.42168843]\n",
            " [0.86996886 0.73880063 0.74090075 1.09260907 0.58823441 0.91885504\n",
            "  0.57680946 0.62682143 0.28783591 0.07249781 0.68353072 0.46537179\n",
            "  0.44333547 0.70105789 0.42729248 0.59883987 1.09438954 0.68275122\n",
            "  0.63229582 0.18841894 0.76682734 0.30936106 0.65298642 1.0391444\n",
            "  0.62452007 0.7263782  0.48420014 0.21211008 0.86465749 0.77667687\n",
            "  0.88167105 1.04560701 0.40800955 0.65651454 0.43144235 0.57831032\n",
            "  0.76549185 0.25611477 0.90185526 0.8810072  0.20693135 0.63918675\n",
            "  0.82630058 0.58558945 0.4927574  1.07861526 0.68950391 0.\n",
            "  0.63365566 0.65432779 0.84437009 0.44600343 0.53425902 0.86520189\n",
            "  0.41101669 0.84895611 1.14952855 0.78222891 0.62147893 0.53468439\n",
            "  1.02644577 0.87298506 0.38429322 0.61987933 0.09793467 0.63295648\n",
            "  0.50561227 0.31184308 0.86370415 0.85587017 0.61180888 0.67096747\n",
            "  0.49733654 0.42924775 0.6679688  0.86271065 0.39209776 0.97998869\n",
            "  0.44057206 0.96660018 0.18954204 0.41415399 0.33773923 0.41124964\n",
            "  0.25239653 0.60363201 0.38616095 0.66063602 0.32078577 0.98495748\n",
            "  0.93882593 0.53594091 0.71154438 0.29835053 1.00265071 0.32200829\n",
            "  0.44361448 0.71128854 0.67615098 0.45919987]\n",
            " [0.99999973 0.48078602 0.54014612 0.97742535 0.5997651  0.82328372\n",
            "  0.38093376 0.10322716 0.50689701 0.56812464 0.35352747 0.21537181\n",
            "  0.97598977 0.62319382 0.84898763 0.64103976 0.97385242 0.25071201\n",
            "  0.05922717 0.80173424 0.87401772 0.33773318 0.91200444 0.9093663\n",
            "  0.49285672 0.85415144 0.33132089 0.82254179 1.02276825 0.9481721\n",
            "  1.17722997 0.99315304 0.22711394 0.61664063 0.86262734 0.07983744\n",
            "  0.83248883 0.41105787 0.9088238  0.81683854 0.47947067 0.25569394\n",
            "  1.068222   0.70115289 0.98418162 0.93358939 0.41501512 0.63365566\n",
            "  0.         0.47008862 0.59846555 0.8997484  0.45752329 0.64725804\n",
            "  0.85240046 0.96079383 0.96920787 0.70172874 1.02826936 0.67198561\n",
            "  0.75615674 0.84024799 0.89773534 0.86647707 0.7245597  0.53710213\n",
            "  0.9585915  0.86053555 0.71796523 1.10310056 0.5611962  0.07742582\n",
            "  0.90688303 0.47215139 0.53773581 1.03630829 0.25913591 1.16388871\n",
            "  0.30994628 1.10126282 0.80333711 0.27161853 0.90889674 0.41037826\n",
            "  0.59737754 1.06632638 0.24816733 0.57966343 0.90024792 1.06321791\n",
            "  0.76401469 0.81574644 1.04184538 0.5673418  0.72999053 0.45160056\n",
            "  0.76631969 0.87860932 0.19960675 0.66381171]\n",
            " [0.54753834 0.09049531 0.09247665 0.52512875 0.18367195 0.35919283\n",
            "  0.10402714 0.36909918 0.37229883 0.58620531 0.14207758 0.33135508\n",
            "  0.76661641 0.15598551 0.58895663 0.22259167 0.5231063  0.24790214\n",
            "  0.41317799 0.73118324 0.42691814 0.41855135 0.52642278 0.45882194\n",
            "  0.04772721 0.4174875  0.20582512 0.74163413 0.57670482 0.51475571\n",
            "  0.76966592 0.52716562 0.47071294 0.16311978 0.60454824 0.4009755\n",
            "  0.37776449 0.42164386 0.43934761 0.34790895 0.4500706  0.2207068\n",
            "  0.64860813 0.30020988 0.73654409 0.48977675 0.0841727  0.65432779\n",
            "  0.47008862 0.         0.19227212 0.64599243 0.12251531 0.2224829\n",
            "  0.60575059 0.50643757 0.54256154 0.23170549 0.70692822 0.29964589\n",
            "  0.37753133 0.37016141 0.69295708 0.48529669 0.69959671 0.08582515\n",
            "  0.68703439 0.6995664  0.2614523  0.68190393 0.12596638 0.41874671\n",
            "  0.61817669 0.2305283  0.06985163 0.59404201 0.38290639 0.71559932\n",
            "  0.2621376  0.64380148 0.73299557 0.32817395 0.75562743 0.24489451\n",
            "  0.44571609 0.77765687 0.46823367 0.11921066 0.75850457 0.59713941\n",
            "  0.32322918 0.47082847 0.67014229 0.38988026 0.35237579 0.33233181\n",
            "  0.47156098 0.45432107 0.2959794  0.34482534]\n",
            " [0.54047817 0.12551191 0.10363547 0.38276456 0.30588568 0.25301877\n",
            "  0.28785176 0.49570136 0.55925326 0.77719227 0.24710956 0.50451714\n",
            "  0.91239622 0.1996381  0.72823718 0.3278879  0.37835949 0.34872658\n",
            "  0.53924053 0.90995765 0.44431282 0.60787359 0.60239761 0.31488562\n",
            "  0.2202841  0.4533115  0.39272454 0.91846285 0.57888367 0.54233385\n",
            "  0.80635422 0.41695489 0.64635222 0.24432993 0.74336562 0.54283089\n",
            "  0.38762575 0.61385349 0.38328749 0.26889955 0.64149473 0.3459346\n",
            "  0.68083886 0.40004112 0.87069294 0.33593485 0.19395847 0.84437009\n",
            "  0.59846555 0.19227212 0.         0.78345737 0.31011377 0.05142788\n",
            "  0.74866372 0.49945939 0.37237851 0.19781775 0.80962109 0.42178188\n",
            "  0.18556373 0.30749947 0.84397986 0.56960544 0.88502672 0.22140164\n",
            "  0.81471876 0.86208369 0.14576744 0.70990586 0.25581273 0.53230766\n",
            "  0.74337552 0.41642907 0.18290649 0.60094974 0.56499446 0.70410887\n",
            "  0.44887722 0.61843744 0.91174462 0.51150894 0.91747538 0.43684862\n",
            "  0.62522694 0.89237414 0.64692082 0.21211196 0.92293305 0.54900139\n",
            "  0.16842271 0.58167928 0.74374161 0.56932128 0.1601505  0.52290058\n",
            "  0.60783732 0.50118524 0.40115952 0.48777449]\n",
            " [0.53246604 0.73271491 0.694126   0.86971044 0.47917187 0.72552588\n",
            "  0.63405926 0.84338712 0.39305146 0.44913867 0.75458969 0.6853009\n",
            "  0.13459879 0.58620539 0.05715724 0.45589804 0.87475222 0.81662248\n",
            "  0.87034511 0.31875643 0.47705425 0.58317291 0.28839928 0.83775207\n",
            "  0.59898462 0.4368813  0.60328297 0.30510459 0.50992048 0.4356042\n",
            "  0.45205189 0.79020891 0.71902711 0.53948851 0.04155153 0.82331091\n",
            "  0.50707477 0.50818879 0.64089313 0.67726371 0.4459524  0.7700391\n",
            "  0.42794572 0.38911069 0.09113213 0.8789333  0.72108977 0.44600343\n",
            "  0.8997484  0.64599243 0.78345737 0.         0.5430558  0.77688604\n",
            "  0.04735063 0.52924934 0.95983071 0.62845195 0.17616699 0.36169149\n",
            "  0.92633202 0.64923668 0.09549822 0.28121962 0.38285716 0.57482913\n",
            "  0.06282873 0.16963712 0.72463414 0.45018544 0.53434482 0.90086852\n",
            "  0.0696408  0.46111091 0.61202987 0.49849874 0.64720604 0.59081881\n",
            "  0.60002771 0.60686986 0.31942288 0.62815381 0.19871914 0.50603062\n",
            "  0.30666559 0.17095332 0.69799539 0.57261628 0.21710157 0.65651388\n",
            "  0.79553775 0.21986174 0.28433151 0.33250722 0.9102867  0.44839113\n",
            "  0.17616649 0.39670234 0.83918574 0.30150358]\n",
            " [0.54410513 0.21186059 0.20667063 0.60398162 0.14255257 0.42941651\n",
            "  0.09551059 0.36721723 0.25015713 0.46743086 0.21188614 0.27459872\n",
            "  0.65751595 0.1994656  0.48597832 0.18352425 0.60342239 0.28814817\n",
            "  0.40739385 0.60901539 0.41757662 0.3218928  0.4685895  0.54137363\n",
            "  0.09080062 0.39663819 0.1351182  0.61981938 0.56551239 0.49088761\n",
            "  0.72782291 0.58739892 0.40052456 0.17352091 0.50154524 0.37993778\n",
            "  0.37931769 0.31149622 0.47455901 0.4056909  0.33241388 0.24613241\n",
            "  0.61409806 0.24700542 0.63418518 0.57659144 0.18151213 0.53425902\n",
            "  0.45752329 0.12251531 0.31011377 0.5430558  0.         0.33290541\n",
            "  0.50026062 0.50584578 0.63786153 0.28885684 0.62430973 0.22676923\n",
            "  0.49293011 0.41643475 0.58179555 0.42411688 0.57728348 0.11117941\n",
            "  0.58925886 0.58278517 0.34848881 0.64876184 0.11407999 0.42405065\n",
            "  0.52337435 0.10801608 0.13881729 0.57879699 0.30531606 0.70662053\n",
            "  0.18271872 0.64669085 0.61083051 0.25149968 0.63884928 0.13139968\n",
            "  0.32378506 0.68615922 0.39302899 0.15128759 0.64063992 0.61660752\n",
            "  0.41913964 0.3913396  0.60749244 0.26814789 0.46873753 0.2131606\n",
            "  0.37381617 0.42214001 0.32358046 0.24873043]\n",
            " [0.50100832 0.16930266 0.13001187 0.33204105 0.30605771 0.20330074\n",
            "  0.32332044 0.54425249 0.57806037 0.79968078 0.29451696 0.54518314\n",
            "  0.90792991 0.19115661 0.72279416 0.32190652 0.32783565 0.3983231\n",
            "  0.58804145 0.92093219 0.41150089 0.64102672 0.58001994 0.2640431\n",
            "  0.24213079 0.42436066 0.42743821 0.92820718 0.54062804 0.50969614\n",
            "  0.77274211 0.36577372 0.68668172 0.23917546 0.73761768 0.58986078\n",
            "  0.35481655 0.64200402 0.33801168 0.22266483 0.66524385 0.39339693\n",
            "  0.64737396 0.38901726 0.86232384 0.28635878 0.23798874 0.86520189\n",
            "  0.64725804 0.2224829  0.05142788 0.77688604 0.33290541 0.\n",
            "  0.74432141 0.4606071  0.32694566 0.16713189 0.79198994 0.41635027\n",
            "  0.1619965  0.26287311 0.84195355 0.54991487 0.90090029 0.23368085\n",
            "  0.80460571 0.86476561 0.09882233 0.67529196 0.26233616 0.58211393\n",
            "  0.73308885 0.43595416 0.19736161 0.56332187 0.6026273  0.66229404\n",
            "  0.48383003 0.57505716 0.92269618 0.54843563 0.91955846 0.46286653\n",
            "  0.63826943 0.87762975 0.68614854 0.21487577 0.92617074 0.50287988\n",
            "  0.11757602 0.56910125 0.71903501 0.58283064 0.13998804 0.5457772\n",
            "  0.60278174 0.47363331 0.45089424 0.48712701]\n",
            " [0.53045749 0.69340312 0.65715993 0.85281522 0.44315146 0.70328635\n",
            "  0.59023144 0.79633795 0.34570579 0.40927348 0.71129703 0.63798279\n",
            "  0.16376176 0.55319808 0.0262854  0.4224602  0.8574736  0.77132788\n",
            "  0.82311184 0.29907882 0.46463876 0.53641798 0.28720921 0.81779378\n",
            "  0.55913075 0.4233884  0.55707605 0.28837756 0.51139462 0.43259797\n",
            "  0.47598576 0.77707998 0.67233049 0.5057052  0.02128386 0.77599496\n",
            "  0.49006051 0.46163404 0.62675876 0.65565211 0.40005042 0.72459379\n",
            "  0.44000246 0.35949201 0.13581433 0.85915599 0.67943548 0.41101669\n",
            "  0.85240046 0.60575059 0.74866372 0.04735063 0.50026062 0.74432141\n",
            "  0.         0.52354133 0.93952415 0.60016786 0.21168292 0.32798594\n",
            "  0.89629809 0.62983376 0.1029471  0.27265035 0.35473959 0.53682613\n",
            "  0.10843687 0.16035666 0.69626353 0.46487048 0.49701103 0.85374985\n",
            "  0.08708199 0.41584604 0.57452285 0.50206441 0.59996583 0.60182622\n",
            "  0.55303375 0.61071079 0.29997516 0.58080908 0.20082138 0.45954308\n",
            "  0.25975749 0.21726662 0.65139587 0.53694598 0.21617219 0.65429307\n",
            "  0.76847849 0.2016007  0.3059558  0.28518129 0.87940879 0.40107058\n",
            "  0.14159543 0.38694945 0.79315202 0.26288217]\n",
            " [0.04177102 0.54307267 0.47467734 0.37299224 0.36379052 0.29285787\n",
            "  0.58099053 0.86540442 0.60965306 0.81004546 0.64716232 0.77770068\n",
            "  0.65670257 0.35258126 0.49730327 0.32495331 0.3801244  0.75431319\n",
            "  0.90780771 0.8048034  0.09085985 0.78235529 0.24191351 0.36552555\n",
            "  0.47291238 0.12518745 0.63956938 0.79982237 0.08028095 0.09638094\n",
            "  0.32206995 0.27715447 0.89087312 0.34660772 0.50584029 0.88467077\n",
            "  0.1290969  0.73720884 0.15038052 0.25086284 0.71528327 0.72453871\n",
            "  0.2021548  0.2868749  0.58420067 0.40144567 0.58406539 0.84895611\n",
            "  0.96079383 0.50643757 0.49945939 0.52924934 0.50584578 0.4606071\n",
            "  0.52354133 0.         0.48046955 0.30494375 0.44660623 0.33429401\n",
            "  0.54590752 0.20774891 0.62222847 0.25101736 0.83280544 0.42755745\n",
            "  0.52077429 0.68285966 0.36518474 0.22327127 0.39979427 0.91917961\n",
            "  0.46190047 0.53045126 0.43691335 0.10387461 0.79425776 0.21010194\n",
            "  0.68016391 0.14084972 0.80609778 0.74517329 0.72381709 0.59477928\n",
            "  0.60109977 0.54444112 0.87884091 0.38789188 0.73969871 0.13621445\n",
            "  0.40159949 0.32931131 0.32719935 0.56777398 0.54301751 0.62232546\n",
            "  0.41798729 0.14036793 0.80153308 0.39613067]\n",
            " [0.50504533 0.49606667 0.45195721 0.11332486 0.56155424 0.23833925\n",
            "  0.64607766 0.86698503 0.86381506 1.08986584 0.61946496 0.87098054\n",
            "  1.09417443 0.44964313 0.91433669 0.55569928 0.10478495 0.71857351\n",
            "  0.91007222 1.17148217 0.49360453 0.95720401 0.69711465 0.12215277\n",
            "  0.55107954 0.52909891 0.74807564 1.17399783 0.54774922 0.569968\n",
            "  0.78835311 0.21711086 1.01196678 0.49304963 0.92681622 0.91516989\n",
            "  0.45432752 0.94862246 0.33412013 0.28437353 0.96131883 0.71822541\n",
            "  0.67857409 0.59207943 1.03172919 0.08143013 0.56482948 1.14952855\n",
            "  0.96920787 0.54256154 0.37237851 0.95983071 0.63786153 0.32694566\n",
            "  0.93952415 0.48046955 0.         0.36755907 0.91592688 0.636916\n",
            "  0.22951192 0.3106924  1.04243208 0.68650295 1.16903069 0.52780687\n",
            "  0.96848632 1.08463383 0.28974124 0.69335154 0.54079113 0.90070555\n",
            "  0.9008187  0.7292259  0.4997586  0.57193209 0.92546378 0.61266215\n",
            "  0.8041682  0.52124685 1.17311607 0.87072714 1.13486436 0.76889798\n",
            "  0.90505415 1.01239248 1.01042624 0.4932416  1.14613979 0.42795628\n",
            "  0.21980416 0.74011475 0.80557844 0.85341746 0.25156106 0.8427103\n",
            "  0.80484527 0.57636705 0.7703733  0.71717142]\n",
            " [0.34651025 0.24430184 0.17525491 0.31761083 0.1940404  0.14157947\n",
            "  0.32843591 0.60034524 0.49764729 0.72357949 0.36079805 0.55264905\n",
            "  0.76197523 0.0894351  0.57690937 0.19047282 0.3178821  0.47139272\n",
            "  0.64455778 0.80846072 0.24651637 0.60974361 0.41430973 0.25866441\n",
            "  0.21647802 0.25733557 0.41641301 0.81247467 0.38324782 0.34460237\n",
            "  0.60855408 0.30023329 0.68618702 0.12664479 0.59101419 0.632389\n",
            "  0.18981156 0.59102522 0.210198   0.11832929 0.59753195 0.45004972\n",
            "  0.48303713 0.24079806 0.71033693 0.29703672 0.29576592 0.78222891\n",
            "  0.70172874 0.23170549 0.19781775 0.62845195 0.28885684 0.16713189\n",
            "  0.60016786 0.30494375 0.36755907 0.         0.62911825 0.27856405\n",
            "  0.29916283 0.13864308 0.70104406 0.3862589  0.80219102 0.17943782\n",
            "  0.65043226 0.73323033 0.09619041 0.51212854 0.1798729  0.64855027\n",
            "  0.57920331 0.36751709 0.16622623 0.40466509 0.59259582 0.51304097\n",
            "  0.46902601 0.43166142 0.8101399  0.53801608 0.78612438 0.41470999\n",
            "  0.53778338 0.71729846 0.68021616 0.13758074 0.79514263 0.37318008\n",
            "  0.16921096 0.41361492 0.55218404 0.48586943 0.28540635 0.48064822\n",
            "  0.45952275 0.30650148 0.52217438 0.35687135]\n",
            " [0.43676309 0.78531652 0.73461113 0.81442334 0.52511338 0.69600952\n",
            "  0.71964625 0.9607354  0.53160676 0.62081686 0.8329963  0.81316716\n",
            "  0.24916354 0.61094968 0.20015451 0.49104986 0.8208208  0.91091478\n",
            "  0.99240047 0.49091689 0.42298687 0.73077798 0.22076184 0.79534817\n",
            "  0.65935612 0.39078134 0.71162203 0.47526142 0.40390746 0.35090341\n",
            "  0.28675074 0.72287802 0.86615216 0.57055492 0.19248635 0.94946169\n",
            "  0.46822966 0.65855174 0.5828586  0.64706908 0.60161662 0.86663306\n",
            "  0.29383537 0.41356164 0.16845437 0.8347329  0.78872066 0.62147893\n",
            "  1.02826936 0.70692822 0.80962109 0.17616699 0.62430973 0.79198994\n",
            "  0.21168292 0.44660623 0.91592688 0.62911825 0.         0.4072979\n",
            "  0.92540296 0.61132347 0.25757635 0.24290958 0.55866897 0.62573446\n",
            "  0.12258818 0.33796492 0.7216924  0.30711029 0.58368276 1.01927612\n",
            "  0.13015458 0.56462098 0.65857529 0.38634517 0.78615007 0.45228415\n",
            "  0.71988239 0.488568   0.49141856 0.75905362 0.35296178 0.62046755\n",
            "  0.45714316 0.09784485 0.84627229 0.61129196 0.37387577 0.55563503\n",
            "  0.7843599  0.23610932 0.13484867 0.46905652 0.9137258  0.58085343\n",
            "  0.2622153  0.34116274 0.9410887  0.37728926]\n",
            " [0.36485172 0.37987812 0.33473213 0.56602904 0.1199274  0.39903077\n",
            "  0.32129547 0.58843227 0.27628782 0.48687183 0.42822179 0.4690083\n",
            "  0.4916573  0.22521311 0.30677972 0.09447895 0.56885682 0.51413693\n",
            "  0.62621684 0.53475578 0.24475034 0.45096309 0.24246624 0.51912402\n",
            "  0.25205822 0.2098103  0.34069085 0.53709134 0.37451414 0.28973467\n",
            "  0.50541647 0.51172542 0.56694579 0.17789735 0.32178303 0.5924641\n",
            "  0.23276527 0.40302997 0.36721598 0.35586794 0.38251783 0.47285476\n",
            "  0.39773132 0.05109472 0.44918755 0.56015508 0.3816071  0.53468439\n",
            "  0.67198561 0.29964589 0.42178188 0.36169149 0.22676923 0.41635027\n",
            "  0.32798594 0.33429401 0.636916   0.27856405 0.4072979  0.\n",
            "  0.56979506 0.34175307 0.42612635 0.19759857 0.53840125 0.21974934\n",
            "  0.39463042 0.45478129 0.37324779 0.43267162 0.1778193  0.64638652\n",
            "  0.32388696 0.20727897 0.2546343  0.38216493 0.47182895 0.51156955\n",
            "  0.36879222 0.46897859 0.53637378 0.42744322 0.5080404  0.27334096\n",
            "  0.28231115 0.47970556 0.55287113 0.21176921 0.51668607 0.46515539\n",
            "  0.44768736 0.17118935 0.38078434 0.24015367 0.55214278 0.28870118\n",
            "  0.18652089 0.21692064 0.5503309  0.08040837]\n",
            " [0.58205859 0.30735697 0.28682603 0.28859617 0.46470013 0.25351716\n",
            "  0.47291232 0.6561173  0.73968374 0.96031344 0.41785649 0.68486479\n",
            "  1.0591213  0.34705818 0.87375095 0.47628094 0.2810644  0.50659292\n",
            "  0.69768589 1.08228194 0.51902931 0.79313789 0.70722772 0.23371015\n",
            "  0.40222673 0.54136506 0.57777902 1.08918757 0.62495034 0.61388374\n",
            "  0.86773775 0.3639708  0.82654626 0.3958266  0.88817259 0.70904539\n",
            "  0.46529263 0.79916768 0.40143723 0.29575031 0.82524172 0.51376324\n",
            "  0.74528699 0.53732074 1.00920799 0.23125104 0.37342771 1.02644577\n",
            "  0.75615674 0.37753133 0.18556373 0.92633202 0.49293011 0.1619965\n",
            "  0.89629809 0.54590752 0.22951192 0.29916283 0.92540296 0.56979506\n",
            "  0.         0.33846362 0.99576167 0.68273524 1.06289658 0.3956723\n",
            "  0.94955231 1.02225589 0.20410325 0.76886468 0.42368038 0.68442465\n",
            "  0.878272   0.59729594 0.3591188  0.64925467 0.74812861 0.72744051\n",
            "  0.63375431 0.63502235 1.08403896 0.69526911 1.0765217  0.62142171\n",
            "  0.80014231 1.01528827 0.82839216 0.37560971 1.08392018 0.54957981\n",
            "  0.14542991 0.71274009 0.83904113 0.7447674  0.02670379 0.70608923\n",
            "  0.75486121 0.59223943 0.55661163 0.64370219]\n",
            " [0.2452097  0.37861701 0.31042549 0.22586883 0.29758142 0.08742992\n",
            "  0.46504217 0.7389733  0.59801275 0.82026003 0.49846168 0.68643858\n",
            "  0.78351654 0.22094918 0.60442512 0.27668239 0.22954997 0.60918458\n",
            "  0.78317003 0.87342103 0.18946927 0.73164059 0.39076253 0.18855377\n",
            "  0.35209104 0.22091186 0.54838105 0.8739614  0.28741634 0.27858649\n",
            "  0.52929246 0.17541137 0.81680765 0.24380611 0.61664954 0.77039758\n",
            "  0.14440829 0.70489636 0.07597754 0.04320853 0.70241333 0.58863125\n",
            "  0.40703548 0.29286295 0.72131816 0.22969669 0.43344094 0.87298506\n",
            "  0.84024799 0.37016141 0.30749947 0.64923668 0.41643475 0.26287311\n",
            "  0.62983376 0.20774891 0.3106924  0.13864308 0.61132347 0.34175307\n",
            "  0.33846362 0.         0.73278036 0.37685864 0.88015429 0.31181101\n",
            "  0.6582337  0.77779806 0.16424986 0.43041996 0.30283309 0.78711438\n",
            "  0.59021258 0.48084695 0.30350988 0.31146664 0.72174045 0.40070244\n",
            "  0.5989478  0.31232008 0.87497858 0.66786381 0.82679472 0.53508454\n",
            "  0.62174601 0.70635733 0.809441   0.26836094 0.83887352 0.24205624\n",
            "  0.19385429 0.42966633 0.51058281 0.57492698 0.33527486 0.5906302\n",
            "  0.49754309 0.27017023 0.66029247 0.4214982 ]\n",
            " [0.62677553 0.78208839 0.74989675 0.95563583 0.53812283 0.80602643\n",
            "  0.66760049 0.85115727 0.39528934 0.40077869 0.78981121 0.68729261\n",
            "  0.07907721 0.6508752  0.12854315 0.52026023 0.96033346 0.84105945\n",
            "  0.87404036 0.23442613 0.56629597 0.5684016  0.38257768 0.92072691\n",
            "  0.64739151 0.52533194 0.62262024 0.217879   0.60501819 0.52950019\n",
            "  0.54126796 0.8791407  0.70196413 0.60281623 0.11747278 0.82432289\n",
            "  0.59280692 0.49241594 0.7290238  0.75848547 0.42575426 0.79375449\n",
            "  0.52288457 0.46025503 0.10853827 0.96209346 0.7629601  0.38429322\n",
            "  0.89773534 0.69295708 0.84397986 0.09549822 0.58179555 0.84195355\n",
            "  0.1029471  0.62222847 1.04243208 0.70104406 0.25757635 0.42612635\n",
            "  0.99576167 0.73278036 0.         0.37236869 0.30891451 0.62850218\n",
            "  0.1350027  0.08074332 0.79696737 0.54439295 0.58991959 0.90703821\n",
            "  0.16513701 0.48893532 0.66678254 0.59386913 0.63990846 0.6858087\n",
            "  0.61071334 0.70229464 0.23480808 0.62879084 0.10323009 0.52402316\n",
            "  0.30154535 0.22058704 0.68004238 0.63186893 0.12177148 0.75084375\n",
            "  0.86976096 0.30419477 0.37625284 0.34089805 0.9782691  0.45367485\n",
            "  0.24152146 0.48748988 0.85821486 0.35621724]\n",
            " [0.26055444 0.55631472 0.50054102 0.59171924 0.30195671 0.45863077\n",
            "  0.518019   0.78520862 0.42245176 0.5911782  0.6205296  0.65905128\n",
            "  0.41260781 0.37298531 0.24638532 0.26294822 0.59720069 0.71051098\n",
            "  0.82226064 0.55704255 0.19662264 0.61814202 0.04555697 0.5645283\n",
            "  0.43918365 0.1579132  0.53595756 0.55081255 0.24746421 0.162786\n",
            "  0.31231765 0.50941838 0.744201   0.33627179 0.25534637 0.78670245\n",
            "  0.23247431 0.55809915 0.36100824 0.40957501 0.51981548 0.66996627\n",
            "  0.21819275 0.18510682 0.34587914 0.60510898 0.56922768 0.61987933\n",
            "  0.86647707 0.48529669 0.56960544 0.28121962 0.42411688 0.54991487\n",
            "  0.27265035 0.25101736 0.68650295 0.3862589  0.24290958 0.19759857\n",
            "  0.68273524 0.37685864 0.37236869 0.         0.59208413 0.40048744\n",
            "  0.28232245 0.43185368 0.47887835 0.25188264 0.35936095 0.84335914\n",
            "  0.21681546 0.39572722 0.42946021 0.24332647 0.65247997 0.3613706\n",
            "  0.55935288 0.34942634 0.55825777 0.61302013 0.47322264 0.4603941\n",
            "  0.38615821 0.33327026 0.72781471 0.37942423 0.48881945 0.38337999\n",
            "  0.54257295 0.08414508 0.185157   0.36769184 0.67084089 0.45365012\n",
            "  0.17674642 0.11548299 0.74767583 0.2103082 ]\n",
            " [0.8496048  0.78734247 0.78153834 1.10392876 0.60948594 0.9337829\n",
            "  0.63185401 0.71111621 0.32735355 0.15644082 0.74496804 0.54619578\n",
            "  0.35927051 0.72642024 0.37494037 0.6134344  1.10647557 0.75520746\n",
            "  0.71966746 0.09201733 0.75598296 0.3930971  0.6201387  1.05449678\n",
            "  0.66509634 0.71433827 0.54704124 0.11580841 0.83951616 0.75343071\n",
            "  0.83071579 1.04870033 0.5009034  0.67956948 0.37595624 0.66574551\n",
            "  0.76191092 0.33102728 0.90112279 0.89281391 0.27118914 0.71004334\n",
            "  0.78742369 0.58776696 0.41666764 1.0949479  0.74375991 0.09793467\n",
            "  0.7245597  0.69959671 0.88502672 0.38285716 0.57728348 0.90090029\n",
            "  0.35473959 0.83280544 1.16903069 0.80219102 0.55866897 0.53840125\n",
            "  1.06289658 0.88015429 0.30891451 0.59208413 0.         0.66723098\n",
            "  0.43837061 0.23095062 0.88897169 0.81479307 0.64104094 0.75781697\n",
            "  0.44167583 0.46945301 0.70418649 0.83486058 0.47626215 0.94586512\n",
            "  0.50912353 0.94151044 0.09294999 0.49189641 0.24803063 0.46409681\n",
            "  0.26488363 0.52935196 0.4787196  0.68994433 0.22945323 0.96884489\n",
            "  0.96486466 0.50833578 0.66057257 0.31893577 1.04025607 0.37293709\n",
            "  0.41641865 0.69279037 0.75324098 0.45894624]\n",
            " [0.46805466 0.16012974 0.12184401 0.49294036 0.10062253 0.31886898\n",
            "  0.15642985 0.43922354 0.3452462  0.56886889 0.22667886 0.37466108\n",
            "  0.69964766 0.09112509 0.51830139 0.13753944 0.49230543 0.32895186\n",
            "  0.48234351 0.68904639 0.34512525 0.43304629 0.44112012 0.43019446\n",
            "  0.04537879 0.33337214 0.23725321 0.69722585 0.49531514 0.43062659\n",
            "  0.68409026 0.47943367 0.5068369  0.08097373 0.53376899 0.4636791\n",
            "  0.29846123 0.42081565 0.3750416  0.29739432 0.43642853 0.29712965\n",
            "  0.5634801  0.21567579 0.66440132 0.46552744 0.16992715 0.63295648\n",
            "  0.53710213 0.08582515 0.22140164 0.57482913 0.11117941 0.23368085\n",
            "  0.53682613 0.42755745 0.52780687 0.17943782 0.62573446 0.21974934\n",
            "  0.3956723  0.31181101 0.62850218 0.40048744 0.66723098 0.\n",
            "  0.61234979 0.64239002 0.23809829 0.59696834 0.0420588  0.49200391\n",
            "  0.54234824 0.20453354 0.03876229 0.51179712 0.41317548 0.63524447\n",
            "  0.28959042 0.56670902 0.6908262  0.35857827 0.69806883 0.24123873\n",
            "  0.405126   0.69944144 0.50078129 0.04357968 0.70282696 0.52615973\n",
            "  0.31017339 0.39008309 0.5850361  0.34947701 0.37313222 0.31689779\n",
            "  0.39887733 0.36900007 0.37459627 0.27394527]\n",
            " [0.51907271 0.77178715 0.72932302 0.87389429 0.51417201 0.73803585\n",
            "  0.68202656 0.89986746 0.45265483 0.5110653  0.80114086 0.74367288\n",
            "  0.13847795 0.61564699 0.10975347 0.48714944 0.8794511  0.86758136\n",
            "  0.92786686 0.36855148 0.47828564 0.6447834  0.27941324 0.84640515\n",
            "  0.63954288 0.44022802 0.65701445 0.35269213 0.49226534 0.42495574\n",
            "  0.40719563 0.78957182 0.78071559 0.57048208 0.09599153 0.88158953\n",
            "  0.51416613 0.57006385 0.64263929 0.68918555 0.50835016 0.82144374\n",
            "  0.39791317 0.41567111 0.06378168 0.88714597 0.76448084 0.50561227\n",
            "  0.9585915  0.68703439 0.81471876 0.06282873 0.58925886 0.80460571\n",
            "  0.10843687 0.52077429 0.96848632 0.65043226 0.12258818 0.39463042\n",
            "  0.94955231 0.6582337  0.1350027  0.28232245 0.43837061 0.61234979\n",
            "  0.         0.2153969  0.74615106 0.41652533 0.5710155  0.95767298\n",
            "  0.07151762 0.51280462 0.64851852 0.4782861  0.70757302 0.56022934\n",
            "  0.65645997 0.5851423  0.36902367 0.68700316 0.23226037 0.56079519\n",
            "  0.36807144 0.10887205 0.75981275 0.6063406  0.25276426 0.64219466\n",
            "  0.81473629 0.23681744 0.24524534 0.39135422 0.93487105 0.50699107\n",
            "  0.21600993 0.39580954 0.89209522 0.3427974 ]\n",
            " [0.69064822 0.78987018 0.76418356 1.0028242  0.55871526 0.84663544\n",
            "  0.66243835 0.82202871 0.37084917 0.33661725 0.78452451 0.65539013\n",
            "  0.13180815 0.67525514 0.18624113 0.54649844 1.00700293 0.82582741\n",
            "  0.84147205 0.15372309 0.62064574 0.52532831 0.44756533 0.96392881\n",
            "  0.65601689 0.57887465 0.60597398 0.13729674 0.67171783 0.59272226\n",
            "  0.62032481 0.93124734 0.65527612 0.62653606 0.17978321 0.79008977\n",
            "  0.64188156 0.45016829 0.78055305 0.8003228  0.3819172  0.77839959\n",
            "  0.59652182 0.49460824 0.18618052 1.00536512 0.76397854 0.31184308\n",
            "  0.86053555 0.6995664  0.86208369 0.16963712 0.58278517 0.86476561\n",
            "  0.16035666 0.68285966 1.08463383 0.73323033 0.33796492 0.45478129\n",
            "  1.02225589 0.77779806 0.08074332 0.43185368 0.23095062 0.64239002\n",
            "  0.2153969  0.         0.82800249 0.61951385 0.60627655 0.87615772\n",
            "  0.23758782 0.48264579 0.68112679 0.66213642 0.60140164 0.75915233\n",
            "  0.58707454 0.77079201 0.15408463 0.59669331 0.05608429 0.50837166\n",
            "  0.2764232  0.29910293 0.63295159 0.65109907 0.06191256 0.81437899\n",
            "  0.90241857 0.35669329 0.45374441 0.32448222 1.00327125 0.42949637\n",
            "  0.28025737 0.54499668 0.83824521 0.37860687]\n",
            " [0.40491905 0.23871684 0.17841461 0.26382041 0.27975398 0.10932279\n",
            "  0.36525071 0.61484052 0.57658372 0.80232373 0.36554165 0.59278465\n",
            "  0.85816092 0.1628925  0.67306973 0.2826761  0.26166651 0.4744725\n",
            "  0.65919706 0.89921021 0.32324649 0.66910646 0.50445569 0.19738991\n",
            "  0.26339983 0.34126493 0.46364835 0.9040625  0.44544584 0.42067178\n",
            "  0.68141189 0.2780547  0.73156138 0.20945849 0.6871946  0.65480337\n",
            "  0.26746525 0.65890115 0.23920006 0.12386312 0.67233961 0.46228415\n",
            "  0.55661172 0.33680803 0.80629602 0.2295531  0.30295058 0.86370415\n",
            "  0.71796523 0.2614523  0.14576744 0.72463414 0.34848881 0.09882233\n",
            "  0.69626353 0.36518474 0.28974124 0.09619041 0.7216924  0.37324779\n",
            "  0.20410325 0.16424986 0.79696737 0.47887835 0.88897169 0.23809829\n",
            "  0.74615106 0.82800249 0.         0.58319561 0.25235688 0.65744504\n",
            "  0.6750164  0.44002062 0.21134575 0.46863168 0.64182764 0.56440531\n",
            "  0.51902925 0.47656015 0.9009149  0.58684238 0.88124317 0.47928325\n",
            "  0.62408806 0.81121337 0.72821475 0.20411695 0.88989824 0.40413862\n",
            "  0.07597495 0.50936931 0.63892271 0.57066742 0.19222738 0.55337986\n",
            "  0.55546505 0.39180584 0.52699391 0.45044155]\n",
            " [0.19044604 0.73483479 0.66947662 0.58188993 0.51098703 0.51609118\n",
            "  0.73696843 1.01585873 0.67432612 0.83446602 0.82361243 0.90163679\n",
            "  0.55269258 0.53966403 0.44196562 0.46870069 0.58981117 0.92398506\n",
            "  1.05533411 0.76394546 0.26606167 0.86941364 0.20985501 0.5837068\n",
            "  0.6409845  0.26543825 0.77204775 0.75269415 0.14687341 0.16946516\n",
            "  0.09887323 0.47984625 0.99374296 0.519302   0.44379586 1.0239467\n",
            "  0.32247504 0.80998083 0.37224296 0.47330985 0.77081558 0.88802149\n",
            "  0.03494129 0.40227797 0.47239897 0.61715119 0.76469211 0.85587017\n",
            "  1.10310056 0.68190393 0.70990586 0.45018544 0.64876184 0.67529196\n",
            "  0.46487048 0.22327127 0.69335154 0.51212854 0.30711029 0.43267162\n",
            "  0.76886468 0.43041996 0.54439295 0.25188264 0.81479307 0.59696834\n",
            "  0.41652533 0.61951385 0.58319561 0.         0.56093422 1.07280983\n",
            "  0.38204217 0.63901674 0.61612342 0.12226007 0.90065889 0.14517975\n",
            "  0.80142171 0.19524746 0.76483293 0.85876045 0.64638892 0.70482588\n",
            "  0.63410368 0.39718619 0.97794775 0.56416696 0.66591876 0.27954436\n",
            "  0.62413216 0.32859356 0.17280987 0.61900919 0.7653016  0.70466316\n",
            "  0.41648319 0.22851645 0.96649423 0.4607088 ]\n",
            " [0.43944876 0.202095   0.16018511 0.49742003 0.0585823  0.32145229\n",
            "  0.18134593 0.46574857 0.32433701 0.54997067 0.26431001 0.38767693\n",
            "  0.66020289 0.0917509  0.47802046 0.09665981 0.49753847 0.36312939\n",
            "  0.50802026 0.65865046 0.31450943 0.43084448 0.40048885 0.43730588\n",
            "  0.08091218 0.29942834 0.24828831 0.66588072 0.46448425 0.39630068\n",
            "  0.6464818  0.47506709 0.51453517 0.05944097 0.49343376 0.48579002\n",
            "  0.27129369 0.41131353 0.36055611 0.29416235 0.42053843 0.32860137\n",
            "  0.52709053 0.17431746 0.62359872 0.47446892 0.21003854 0.61180888\n",
            "  0.5611962  0.12596638 0.25581273 0.53434482 0.11407999 0.26233616\n",
            "  0.49701103 0.39979427 0.54079113 0.1798729  0.58368276 0.1778193\n",
            "  0.42368038 0.30283309 0.58991959 0.35936095 0.64104094 0.0420588\n",
            "  0.5710155  0.60627655 0.25235688 0.56093422 0.         0.5201178\n",
            "  0.50082877 0.18875765 0.07769531 0.4798863  0.41906779 0.60518931\n",
            "  0.29678298 0.54009476 0.66041125 0.365489   0.66170485 0.23507672\n",
            "  0.37703502 0.65752416 0.50672613 0.04899482 0.66712966 0.50507481\n",
            "  0.32707871 0.34802768 0.54417592 0.32215037 0.40231566 0.30227318\n",
            "  0.35823383 0.33247321 0.40681695 0.23428939]\n",
            " [0.95927843 0.41882335 0.48146003 0.91374178 0.56368069 0.76448654\n",
            "  0.33891017 0.05863922 0.5120112  0.6023997  0.2920062  0.22076759\n",
            "  0.98596001 0.5742591  0.84798174 0.60573517 0.90979302 0.18384764\n",
            "  0.03927328 0.83009655 0.83462113 0.36501879 0.8885871  0.84563928\n",
            "  0.44683591 0.81778508 0.30943411 0.84981468 0.98449258 0.91346645\n",
            "  1.15097564 0.9345441  0.27512505 0.57275691 0.86225191 0.09282673\n",
            "  0.79016764 0.43322519 0.85774271 0.76126186 0.50056359 0.19850764\n",
            "  1.03814799 0.67088658 0.98783141 0.8682176  0.35582712 0.67096747\n",
            "  0.07742582 0.41874671 0.53230766 0.90086852 0.42405065 0.58211393\n",
            "  0.85374985 0.91917961 0.90070555 0.64855027 1.01927612 0.64638652\n",
            "  0.68442465 0.78711438 0.90703821 0.84335914 0.75781697 0.49200391\n",
            "  0.95767298 0.87615772 0.65744504 1.07280983 0.5201178  0.\n",
            "  0.90204025 0.45577019 0.48801996 0.99938129 0.28220768 1.12529469\n",
            "  0.30125557 1.05868904 0.83177006 0.27947133 0.92674842 0.39905537\n",
            "  0.60553004 1.06388985 0.29369697 0.53318299 0.91975296 1.01564829\n",
            "  0.69951271 0.79887241 1.02288401 0.56952437 0.65850336 0.45422718\n",
            "  0.75729308 0.84580126 0.13122308 0.64731709]\n",
            " [0.46386643 0.70209178 0.6586132  0.80806702 0.44364479 0.66888853\n",
            "  0.6171296  0.84381694 0.40516487 0.49263612 0.73501211 0.69151365\n",
            "  0.19589824 0.54421309 0.07090019 0.41596831 0.81339132 0.80481049\n",
            "  0.87354964 0.38333408 0.41343357 0.60266533 0.22026884 0.77866962\n",
            "  0.57056298 0.37423664 0.59777192 0.37108965 0.44060473 0.36749077\n",
            "  0.38919745 0.726121   0.73838311 0.49920427 0.06609882 0.82884277\n",
            "  0.44668651 0.52969872 0.57778903 0.62018285 0.47182957 0.75918698\n",
            "  0.35900326 0.34416794 0.13187425 0.81960608 0.69658694 0.49733654\n",
            "  0.90688303 0.61817669 0.74337552 0.0696408  0.52337435 0.73308885\n",
            "  0.08708199 0.46190047 0.9008187  0.57920331 0.13015458 0.32388696\n",
            "  0.878272   0.59021258 0.16513701 0.21681546 0.44167583 0.54234824\n",
            "  0.07151762 0.23758782 0.6750164  0.38204217 0.50082877 0.90204025\n",
            "  0.         0.45190485 0.57818338 0.42894538 0.66055601 0.52175717\n",
            "  0.60105285 0.53726983 0.38412442 0.63609837 0.26835994 0.50334041\n",
            "  0.32771523 0.16364569 0.71819096 0.53543615 0.28666429 0.58783718\n",
            "  0.74398949 0.16566166 0.21952103 0.34275164 0.8634692  0.45656958\n",
            "  0.14974198 0.33188476 0.83127837 0.27530355]\n",
            " [0.56467874 0.31952141 0.3127944  0.68494503 0.18361607 0.50876025\n",
            "  0.17985652 0.39713157 0.142825   0.36438396 0.30211661 0.26343002\n",
            "  0.56654476 0.28046718 0.40513507 0.21214478 0.68537083 0.35552348\n",
            "  0.43101892 0.50156559 0.43960164 0.25478545 0.44127131 0.62577973\n",
            "  0.19614639 0.41005717 0.14701406 0.5128632  0.57853405 0.49578969\n",
            "  0.70778382 0.65590003 0.36140967 0.2417581  0.4203248  0.39232368\n",
            "  0.41310573 0.2244607  0.52862936 0.47813128 0.23236423 0.30895303\n",
            "  0.60411218 0.24654252 0.55157702 0.66318313 0.28370111 0.42924775\n",
            "  0.47215139 0.2305283  0.41642907 0.46111091 0.10801608 0.43595416\n",
            "  0.41584604 0.53045126 0.7292259  0.36751709 0.56462098 0.20727897\n",
            "  0.59729594 0.48084695 0.48893532 0.39572722 0.46945301 0.20453354\n",
            "  0.51280462 0.48264579 0.44002062 0.63901674 0.18875765 0.45577019\n",
            "  0.45190485 0.         0.23877668 0.58774191 0.26543089 0.71731372\n",
            "  0.16362875 0.6692057  0.50338412 0.22016633 0.53845615 0.0660675\n",
            "  0.21703123 0.61540525 0.34859046 0.2360057  0.5388514  0.6536615\n",
            "  0.51367332 0.34402918 0.56974162 0.16206752 0.57370216 0.1135297\n",
            "  0.30390126 0.42329081 0.3794962  0.19205793]\n",
            " [0.47811994 0.12709627 0.08321595 0.47137915 0.13471184 0.30028266\n",
            "  0.16224666 0.43755246 0.38070055 0.60294268 0.21051259 0.3877745\n",
            "  0.73756631 0.08627835 0.55567094 0.16784552 0.47015377 0.31761217\n",
            "  0.48141823 0.72719406 0.35848136 0.45782211 0.46876222 0.40692525\n",
            "  0.05239899 0.35092943 0.25411548 0.73557024 0.50789026 0.44800259\n",
            "  0.70551025 0.4653141  0.52367164 0.09716483 0.57109568 0.46695824\n",
            "  0.30846709 0.4503118  0.37108847 0.28414405 0.46933662 0.29032273\n",
            "  0.58325592 0.24608928 0.70128677 0.44066216 0.14893456 0.6679688\n",
            "  0.53773581 0.06985163 0.18290649 0.61202987 0.13881729 0.19736161\n",
            "  0.57452285 0.43691335 0.4997586  0.16622623 0.65857529 0.2546343\n",
            "  0.3591188  0.30350988 0.66678254 0.42946021 0.70418649 0.03876229\n",
            "  0.64851852 0.68112679 0.21134575 0.61612342 0.07769531 0.48801996\n",
            "  0.57818338 0.23877668 0.         0.52563922 0.43205518 0.64633154\n",
            "  0.30868818 0.57399894 0.7289777  0.37709298 0.73678984 0.27021474\n",
            "  0.44286    0.73405921 0.51909139 0.05208184 0.7415837  0.52764522\n",
            "  0.28055795 0.42367829 0.61295957 0.38707952 0.33611329 0.3496913\n",
            "  0.43592745 0.38979681 0.36582951 0.31168819]\n",
            " [0.06826394 0.63773008 0.57027187 0.46111469 0.43665528 0.39588802\n",
            "  0.66054553 0.94406471 0.6475416  0.83154788 0.73594977 0.84433149\n",
            "  0.61672801 0.44405665 0.47668954 0.39527294 0.46888474 0.8406926\n",
            "  0.9853721  0.79596789 0.16716361 0.83238596 0.21627739 0.46148365\n",
            "  0.55698432 0.18215881 0.70905162 0.78801745 0.02465291 0.09259996\n",
            "  0.22011201 0.36007877 0.94875603 0.43138443 0.48235326 0.95859044\n",
            "  0.21940232 0.78031661 0.25050076 0.35462716 0.75022221 0.80818462\n",
            "  0.10763676 0.34156478 0.53951351 0.49518985 0.67431733 0.86271065\n",
            "  1.03630829 0.59404201 0.60094974 0.49849874 0.57879699 0.56332187\n",
            "  0.50206441 0.10387461 0.57193209 0.40466509 0.38634517 0.38216493\n",
            "  0.64925467 0.31146664 0.59386913 0.24332647 0.83486058 0.51179712\n",
            "  0.4782861  0.66213642 0.46863168 0.12226007 0.4798863  0.99938129\n",
            "  0.42894538 0.58774191 0.52563922 0.         0.85313699 0.12957227\n",
            "  0.74490641 0.10865579 0.7970856  0.8069484  0.69706432 0.65357729\n",
            "  0.62403952 0.48280818 0.93496915 0.4748379  0.71483052 0.17029831\n",
            "  0.50526336 0.32746835 0.25573682 0.598713   0.64672878 0.66861135\n",
            "  0.42006444 0.16544407 0.88611035 0.42939196]\n",
            " [0.82934907 0.44081935 0.47404344 0.90342762 0.43613594 0.73137838\n",
            "  0.27962294 0.23504737 0.25551366 0.32190067 0.34262497 0.07757796\n",
            "  0.71778491 0.50369671 0.59886969 0.47114041 0.90212986 0.30637281\n",
            "  0.24479947 0.54795738 0.70357544 0.08319179 0.69750843 0.83862843\n",
            "  0.379669   0.67517873 0.17818801 0.56784785 0.84393058 0.76108198\n",
            "  0.96415714 0.89224325 0.09676194 0.47840488 0.6117525  0.19144676\n",
            "  0.67347105 0.15244405 0.77851627 0.71028541 0.2207083  0.26961827\n",
            "  0.86591211 0.51194329 0.72923334 0.87128031 0.37538685 0.39209776\n",
            "  0.25913591 0.38290639 0.56499446 0.64720604 0.30531606 0.6026273\n",
            "  0.59996583 0.79425776 0.92546378 0.59259582 0.78615007 0.47182895\n",
            "  0.74812861 0.72174045 0.63990846 0.65247997 0.47626215 0.41317548\n",
            "  0.70757302 0.60140164 0.64182764 0.90065889 0.41906779 0.28220768\n",
            "  0.66055601 0.26543089 0.43205518 0.85313699 0.         0.98270462\n",
            "  0.12363707 0.93378065 0.54962429 0.05499404 0.64991143 0.19987731\n",
            "  0.34159089 0.81618351 0.08772473 0.45539998 0.64157913 0.91392312\n",
            "  0.7060654  0.59000015 0.81577978 0.31781049 0.72173018 0.20590371\n",
            "  0.52785918 0.68846522 0.28969774 0.44243466]\n",
            " [0.16847371 0.7530185  0.68447334 0.49936308 0.5641638  0.47688195\n",
            "  0.78641825 1.07055328 0.77465717 0.95254611 0.85677713 0.97352843\n",
            "  0.69713674 0.56250686 0.57778843 0.52322297 0.50799537 0.96326362\n",
            "  1.11227823 0.90019021 0.29068065 0.96134381 0.32710987 0.51658812\n",
            "  0.68060799 0.31047863 0.83775761 0.89018927 0.14112196 0.22183613\n",
            "  0.20367199 0.39574526 1.07829104 0.55434144 0.58111407 1.08655765\n",
            "  0.33786784 0.90822072 0.32877454 0.44300027 0.87624941 0.93233439\n",
            "  0.16292918 0.47110276 0.617064   0.54370862 0.79395271 0.97998869\n",
            "  1.16388871 0.71559932 0.70410887 0.59081881 0.70662053 0.66229404\n",
            "  0.60182622 0.21010194 0.61266215 0.51304097 0.45228415 0.51156955\n",
            "  0.72744051 0.40070244 0.6858087  0.3613706  0.94586512 0.63524447\n",
            "  0.56022934 0.75915233 0.56440531 0.14517975 0.60518931 1.12529469\n",
            "  0.52175717 0.71731372 0.64633154 0.12957227 0.98270462 0.\n",
            "  0.87423902 0.09317772 0.90117216 0.93648031 0.78844578 0.78314761\n",
            "  0.74677418 0.54185011 1.06442886 0.59664131 0.80756608 0.18511658\n",
            "  0.58877965 0.44452718 0.31782972 0.72423207 0.72887075 0.79726549\n",
            "  0.53645184 0.29468236 1.00980302 0.5565667 ]\n",
            " [0.71666193 0.32728805 0.35422883 0.78004732 0.31805462 0.60775427\n",
            "  0.16105012 0.24342917 0.21658468 0.36816666 0.24644362 0.10021693\n",
            "  0.68978854 0.3802424  0.546802   0.35530048 0.77884036 0.24683264\n",
            "  0.27266442 0.56566242 0.59010425 0.16019084 0.60489873 0.71550222\n",
            "  0.25628928 0.56436711 0.05639273 0.58227123 0.734045   0.65396555\n",
            "  0.87134689 0.76882419 0.21786252 0.35622069 0.56114588 0.23037611\n",
            "  0.55664576 0.18543591 0.657091   0.58682279 0.23800073 0.20103177\n",
            "  0.7664855  0.40381828 0.68768884 0.74857508 0.26587447 0.44057206\n",
            "  0.30994628 0.2621376  0.44887722 0.60002771 0.18271872 0.48383003\n",
            "  0.55303375 0.68016391 0.8041682  0.46902601 0.71988239 0.36879222\n",
            "  0.63375431 0.5989478  0.61071334 0.55935288 0.50912353 0.28959042\n",
            "  0.65645997 0.58707454 0.51902925 0.80142171 0.29678298 0.30125557\n",
            "  0.60105285 0.16362875 0.30868818 0.74490641 0.12363707 0.87423902\n",
            "  0.         0.8206001  0.56745121 0.0690223  0.64019292 0.10043796\n",
            "  0.31135038 0.76265428 0.2111909  0.33196773 0.63582357 0.79615019\n",
            "  0.58446093 0.50600265 0.73236171 0.27038936 0.60770315 0.15779376\n",
            "  0.45766866 0.58223333 0.25196273 0.35420615]\n",
            " [0.10454461 0.67459848 0.60559415 0.40793359 0.5046228  0.38567337\n",
            "  0.7210515  1.00535311 0.74125386 0.93286672 0.78329879 0.91838578\n",
            "  0.72361307 0.48852788 0.58530931 0.46558117 0.41647031 0.89158312\n",
            "  1.0479588  0.90412492 0.23051765 0.91938191 0.32456314 0.42352697\n",
            "  0.61195873 0.25972282 0.78038348 0.89641292 0.10211048 0.19001975\n",
            "  0.27733248 0.30413677 1.03025721 0.48594234 0.5910089  1.02535218\n",
            "  0.26883341 0.871498   0.2385898  0.35383101 0.84568237 0.8631272\n",
            "  0.19700069 0.42370762 0.64563655 0.45114299 0.71942636 0.96660018\n",
            "  1.10126282 0.64380148 0.61843744 0.60686986 0.64669085 0.57505716\n",
            "  0.61071079 0.14084972 0.52124685 0.43166142 0.488568   0.46897859\n",
            "  0.63502235 0.31232008 0.70229464 0.34942634 0.94151044 0.56670902\n",
            "  0.5851423  0.77079201 0.47656015 0.19524746 0.54009476 1.05868904\n",
            "  0.53726983 0.6692057  0.57399894 0.10865579 0.93378065 0.09317772\n",
            "  0.8206001  0.         0.90526007 0.8852158  0.80551138 0.73403572\n",
            "  0.72433222 0.58338408 1.01779508 0.52616583 0.82337171 0.09336421\n",
            "  0.49751477 0.43329391 0.3550283  0.69561702 0.63698832 0.75766868\n",
            "  0.52566292 0.25868996 0.93959565 0.52437082]\n",
            " [0.81871846 0.82268785 0.80940745 1.10064974 0.62206496 0.93540125\n",
            "  0.6755113  0.78253475 0.36732093 0.23949667 0.7931962  0.61547332\n",
            "  0.27456804 0.74060683 0.32343964 0.61966782 1.1039074  0.81414744\n",
            "  0.79439078 0.00182493 0.73535333 0.467319   0.58080831 1.05543558\n",
            "  0.69464026 0.69323775 0.59942291 0.02288599 0.80423973 0.72104375\n",
            "  0.77147063 1.03803746 0.58311402 0.69239032 0.32103903 0.74083193\n",
            "  0.74809631 0.39935998 0.88821893 0.89189945 0.33414219 0.7678087\n",
            "  0.73981676 0.58288718 0.33885297 1.0965124  0.78509548 0.18954204\n",
            "  0.80333711 0.73299557 0.91174462 0.31942288 0.61083051 0.92269618\n",
            "  0.29997516 0.80609778 1.17311607 0.8101399  0.49141856 0.53637378\n",
            "  1.08403896 0.87497858 0.23480808 0.55825777 0.09294999 0.6908262\n",
            "  0.36902367 0.15408463 0.9009149  0.76483293 0.66041125 0.83177006\n",
            "  0.38412442 0.50338412 0.7289777  0.7970856  0.54962429 0.90117216\n",
            "  0.56745121 0.90526007 0.         0.55897326 0.15958241 0.50944648\n",
            "  0.28739403 0.45164653 0.56068445 0.70846682 0.13965911 0.94075891\n",
            "  0.97678527 0.47696094 0.60313911 0.34336913 1.06268365 0.41996486\n",
            "  0.38906326 0.66589462 0.81687217 0.45601063]\n",
            " [0.78098002 0.3879277  0.41955112 0.84845615 0.38479509 0.67654912\n",
            "  0.22519053 0.22595388 0.23553574 0.34212399 0.29461175 0.0587217\n",
            "  0.70751721 0.44926318 0.57744095 0.42092738 0.84714528 0.27063929\n",
            "  0.24537727 0.55724168 0.65474219 0.11074927 0.65837729 0.78363479\n",
            "  0.32471356 0.62760609 0.12319696 0.57577796 0.79693806 0.715349\n",
            "  0.9253068  0.83784541 0.1490495  0.4249046  0.59102903 0.1957965\n",
            "  0.62295002 0.16089953 0.72553129 0.6558411  0.22490853 0.22983222\n",
            "  0.8238914  0.46538363 0.7129868  0.81630636 0.32348655 0.41415399\n",
            "  0.27161853 0.32817395 0.51150894 0.62815381 0.25149968 0.54843563\n",
            "  0.58080908 0.74517329 0.87072714 0.53801608 0.75905362 0.42744322\n",
            "  0.69526911 0.66786381 0.62879084 0.61302013 0.49189641 0.35857827\n",
            "  0.68700316 0.59669331 0.58684238 0.85876045 0.365489   0.27947133\n",
            "  0.63609837 0.22016633 0.37709298 0.8069484  0.05499404 0.93648031\n",
            "  0.0690223  0.8852158  0.55897326 0.         0.6474906  0.15411978\n",
            "  0.32738273 0.79485216 0.1422348  0.40098987 0.64088362 0.8629984\n",
            "  0.65124971 0.55444265 0.78103081 0.29572331 0.6689641  0.18003172\n",
            "  0.49810718 0.64306905 0.26210956 0.4043642 ]\n",
            " [0.72929992 0.84591695 0.81988922 1.05111497 0.61358351 0.89725814\n",
            "  0.71819317 0.87324635 0.42453062 0.37169956 0.84020723 0.70608509\n",
            "  0.11677166 0.72966841 0.22709753 0.60042499 1.05550949 0.88025567\n",
            "  0.89156096 0.15987    0.66525827 0.5722411  0.48517228 1.01374069\n",
            "  0.712012   0.62384708 0.66042783 0.13819528 0.70806284 0.63179847\n",
            "  0.63918793 0.97726923 0.69987934 0.68100927 0.21797776 0.83969528\n",
            "  0.6890588  0.49787488 0.82675019 0.85049463 0.42945528 0.83285152\n",
            "  0.62552343 0.54660143 0.18896403 1.05517583 0.82001179 0.33773923\n",
            "  0.90889674 0.75562743 0.91747538 0.19871914 0.63884928 0.91955846\n",
            "  0.20082138 0.72381709 1.13486436 0.78612438 0.35296178 0.5080404\n",
            "  1.0765217  0.82679472 0.10323009 0.47322264 0.24803063 0.69806883\n",
            "  0.23226037 0.05608429 0.88124317 0.64638892 0.66170485 0.92674842\n",
            "  0.26835994 0.53845615 0.73678984 0.69706432 0.64991143 0.78844578\n",
            "  0.64019292 0.80551138 0.15958241 0.6474906  0.         0.56315427\n",
            "  0.3305563  0.29921687 0.67743104 0.70623893 0.02157873 0.85334146\n",
            "  0.9553325  0.4016117  0.47681573 0.37966999 1.05778568 0.48297295\n",
            "  0.33005569 0.58775625 0.89176848 0.43284535]\n",
            " [0.62956593 0.32760416 0.33461727 0.73185254 0.24112386 0.55621578\n",
            "  0.16775782 0.34065681 0.14267705 0.34197975 0.28376867 0.19887971\n",
            "  0.60277557 0.32566876 0.4515755  0.2733935  0.73168787 0.31784573\n",
            "  0.37202997 0.50762352 0.50400727 0.19655791 0.50588418 0.67046338\n",
            "  0.22117771 0.47530194 0.09859721 0.52151451 0.6441189  0.56172173\n",
            "  0.77266258 0.70902938 0.29622337 0.29220892 0.46628599 0.33076624\n",
            "  0.47553238 0.18009707 0.58662375 0.52896492 0.20551186 0.27041386\n",
            "  0.66993677 0.31217053 0.59507768 0.7064443  0.27987625 0.41124964\n",
            "  0.41037826 0.24489451 0.43684862 0.50603062 0.13139968 0.46286653\n",
            "  0.45954308 0.59477928 0.76889798 0.41470999 0.62046755 0.27334096\n",
            "  0.62142171 0.53508454 0.52402316 0.4603941  0.46409681 0.24123873\n",
            "  0.56079519 0.50837166 0.47928325 0.70482588 0.23507672 0.39905537\n",
            "  0.50334041 0.0660675  0.27021474 0.65357729 0.19987731 0.78314761\n",
            "  0.10043796 0.73403572 0.50944648 0.15411978 0.56315427 0.\n",
            "  0.23312888 0.66584227 0.28414442 0.27857049 0.56112977 0.71623649\n",
            "  0.55046116 0.40563436 0.6320849  0.18439363 0.59666261 0.09116279\n",
            "  0.35833107 0.48928063 0.33459449 0.2539551 ]\n",
            " [0.62472321 0.53560436 0.52247687 0.84318567 0.34466668 0.67110785\n",
            "  0.39335343 0.54986702 0.09476572 0.20900368 0.51393217 0.38580024\n",
            "  0.38043101 0.46157276 0.26145458 0.35024754 0.84532666 0.54970757\n",
            "  0.57252331 0.28558693 0.51675341 0.27673227 0.42483633 0.79178968\n",
            "  0.40732382 0.47709096 0.3299049  0.29603626 0.62336459 0.53471699\n",
            "  0.67637838 0.79359669 0.41268879 0.41469415 0.27316412 0.52308377\n",
            "  0.51335609 0.20245076 0.64945917 0.63155321 0.14497156 0.50231155\n",
            "  0.60189259 0.33319382 0.38764723 0.83190307 0.5003941  0.25239653\n",
            "  0.59737754 0.44571609 0.62522694 0.30666559 0.32378506 0.63826943\n",
            "  0.25975749 0.60109977 0.90505415 0.53778338 0.45714316 0.28231115\n",
            "  0.80014231 0.62174601 0.30154535 0.38615821 0.26488363 0.405126\n",
            "  0.36807144 0.2764232  0.62408806 0.63410368 0.37703502 0.60553004\n",
            "  0.32771523 0.21703123 0.44286    0.62403952 0.34159089 0.74677418\n",
            "  0.31135038 0.72433222 0.28739403 0.32738273 0.3305563  0.23312888\n",
            "  0.         0.47694348 0.39191745 0.42578077 0.32803707 0.73641953\n",
            "  0.69998376 0.30561408 0.51249113 0.05600707 0.7780728  0.15355688\n",
            "  0.21989491 0.46622766 0.56193405 0.20739662]\n",
            " [0.53437594 0.85956981 0.812631   0.91165579 0.59943222 0.79021581\n",
            "  0.78030294 1.005857   0.56104076 0.614386   0.89745562 0.85118819\n",
            "  0.18433953 0.69281041 0.21751395 0.56842715 0.91797141 0.96842254\n",
            "  1.03467022 0.45148576 0.51894832 0.75365357 0.31570912 0.89145946\n",
            "  0.72993419 0.48546427 0.76095963 0.43268917 0.50093088 0.44867223\n",
            "  0.36251555 0.82059419 0.88958209 0.6501729  0.20443283 0.98897077\n",
            "  0.56256807 0.67889696 0.67987668 0.74117757 0.61690542 0.92283055\n",
            "  0.387159   0.49288995 0.1129421  0.93109974 0.85738699 0.60363201\n",
            "  1.06632638 0.77765687 0.89237414 0.17095332 0.68615922 0.87762975\n",
            "  0.21726662 0.54444112 1.01239248 0.71729846 0.09784485 0.47970556\n",
            "  1.01528827 0.70635733 0.22058704 0.33327026 0.52935196 0.69944144\n",
            "  0.10887205 0.29910293 0.81121337 0.39718619 0.65752416 1.06388985\n",
            "  0.16364569 0.61540525 0.73405921 0.48280818 0.81618351 0.54185011\n",
            "  0.76265428 0.58338408 0.45164653 0.79485216 0.29921687 0.66584227\n",
            "  0.47694348 0.         0.86866242 0.68894783 0.32079544 0.6525655\n",
            "  0.87581577 0.31136364 0.22835581 0.4994524  1.00262991 0.61482692\n",
            "  0.31316379 0.43656726 0.99484762 0.43754896]\n",
            " [0.9132692  0.52187043 0.55853079 0.99035278 0.52275716 0.81875124\n",
            "  0.36440178 0.2600355  0.31604156 0.32256887 0.41638407 0.14414958\n",
            "  0.75588081 0.59137729 0.65324072 0.55697615 0.98894086 0.36370707\n",
            "  0.25442933 0.55915432 0.78802972 0.11552894 0.77231011 0.92526612\n",
            "  0.46674852 0.75856348 0.26498269 0.58081658 0.92655413 0.84260047\n",
            "  1.03789561 0.97993995 0.02252399 0.56603461 0.66508114 0.20200758\n",
            "  0.75931612 0.18981323 0.86590584 0.79796676 0.25443368 0.33365393\n",
            "  0.94340102 0.59477773 0.77551462 0.95748642 0.45496589 0.38616095\n",
            "  0.24816733 0.46823367 0.64692082 0.69799539 0.39302899 0.68614854\n",
            "  0.65139587 0.87884091 1.01042624 0.68021616 0.84627229 0.55287113\n",
            "  0.82839216 0.809441   0.68004238 0.72781471 0.4787196  0.50078129\n",
            "  0.75981275 0.63295159 0.72821475 0.97794775 0.50672613 0.29369697\n",
            "  0.71819096 0.34859046 0.51909139 0.93496915 0.08772473 1.06442886\n",
            "  0.2111909  1.01779508 0.56068445 0.1422348  0.67743104 0.28414442\n",
            "  0.39191745 0.86866242 0.         0.54308592 0.6666422  0.99994899\n",
            "  0.79142531 0.6613805  0.88514112 0.37819646 0.80183654 0.27482552\n",
            "  0.59314075 0.76979059 0.33659009 0.51759216]\n",
            " [0.42879407 0.17712372 0.12368596 0.45344776 0.09383786 0.27831254\n",
            "  0.19947947 0.48111406 0.37303325 0.59845167 0.26115631 0.41807778\n",
            "  0.70060094 0.04830532 0.51694439 0.1205691  0.45316762 0.36662345\n",
            "  0.52447844 0.7067129  0.30770785 0.47259724 0.41799639 0.39194621\n",
            "  0.08681964 0.29909995 0.28028741 0.71360153 0.45752595 0.39625739\n",
            "  0.65342856 0.43685993 0.54953707 0.04508952 0.53218467 0.50673485\n",
            "  0.2589624  0.45675232 0.33152781 0.2548859  0.46825442 0.33696138\n",
            "  0.53123623 0.19778956 0.6607824  0.42833564 0.20061369 0.66063602\n",
            "  0.57966343 0.11921066 0.21211196 0.57261628 0.15128759 0.21487577\n",
            "  0.53694598 0.38789188 0.4932416  0.13758074 0.61129196 0.21176921\n",
            "  0.37560971 0.26836094 0.63186893 0.37942423 0.68994433 0.04357968\n",
            "  0.6063406  0.65109907 0.20411695 0.56416696 0.04899482 0.53318299\n",
            "  0.53543615 0.2360057  0.05208184 0.4748379  0.45539998 0.59664131\n",
            "  0.33196773 0.52616583 0.70846682 0.40098987 0.70623893 0.27857049\n",
            "  0.42578077 0.68894783 0.54308592 0.         0.71226228 0.48359311\n",
            "  0.27843232 0.37774412 0.56219492 0.37102496 0.35468518 0.34946956\n",
            "  0.39660345 0.33771509 0.41366237 0.27566317]\n",
            " [0.74597841 0.84892472 0.82453386 1.06365242 0.62011546 0.90823266\n",
            "  0.7182529  0.86681407 0.42115732 0.35745908 0.83997071 0.69933305\n",
            "  0.13817934 0.73688515 0.2424343  0.60830281 1.06791712 0.87742051\n",
            "  0.88418243 0.14004759 0.67963172 0.56298012 0.50204488 1.02530225\n",
            "  0.71547021 0.63804076 0.65777555 0.11784893 0.72543889 0.64829749\n",
            "  0.65987777 0.99104006 0.68913259 0.68814563 0.23414399 0.83197888\n",
            "  0.70217257 0.48924504 0.84040759 0.86179195 0.42088167 0.8300773\n",
            "  0.64463886 0.55645036 0.21043177 1.0667411  0.82138813 0.32078577\n",
            "  0.90024792 0.75850457 0.92293305 0.21710157 0.64063992 0.92617074\n",
            "  0.21617219 0.73969871 1.14613979 0.79514263 0.37387577 0.51668607\n",
            "  1.08392018 0.83887352 0.12177148 0.48881945 0.22945323 0.70282696\n",
            "  0.25276426 0.06191256 0.88989824 0.66591876 0.66712966 0.91975296\n",
            "  0.28666429 0.5388514  0.7415837  0.71483052 0.64157913 0.80756608\n",
            "  0.63582357 0.82337171 0.13965911 0.64088362 0.02157873 0.56112977\n",
            "  0.32803707 0.32079544 0.6666422  0.71226228 0.         0.86995608\n",
            "  0.96432994 0.41569353 0.49687027 0.3786975  1.06482618 0.47923286\n",
            "  0.34145768 0.60288879 0.88769203 0.44035363]\n",
            " [0.12406962 0.61730265 0.54835822 0.3146332  0.4782234  0.3057367\n",
            "  0.68253348 0.96450383 0.74142396 0.94521338 0.73256718 0.89109913\n",
            "  0.77999239 0.44138996 0.62821711 0.44297717 0.32319684 0.8425947\n",
            "  1.00801129 0.93949506 0.22086109 0.90779429 0.36826767 0.33235945\n",
            "  0.5704127  0.25937839 0.75170414 0.9339221  0.15173856 0.2216972\n",
            "  0.36755012 0.21086702 1.01067074 0.44749478 0.63582459 0.98959312\n",
            "  0.24070567 0.86632124 0.16608614 0.28030378 0.84754459 0.81784615\n",
            "  0.27435862 0.41592916 0.70459329 0.35864486 0.66774478 0.98495748\n",
            "  1.06321791 0.59713941 0.54900139 0.65651388 0.61660752 0.50287988\n",
            "  0.65429307 0.13621445 0.42795628 0.37318008 0.55563503 0.46515539\n",
            "  0.54957981 0.24205624 0.75084375 0.38337999 0.96884489 0.52615973\n",
            "  0.64219466 0.81437899 0.40413862 0.27954436 0.50507481 1.01564829\n",
            "  0.58783718 0.6536615  0.52764522 0.17029831 0.91392312 0.18511658\n",
            "  0.79615019 0.09336421 0.94075891 0.8629984  0.85334146 0.71623649\n",
            "  0.73641953 0.6525655  0.99994899 0.48359311 0.86995608 0.\n",
            "  0.41634862 0.46381699 0.42600599 0.70170549 0.55331855 0.75068044\n",
            "  0.55350477 0.27609012 0.8923567  0.53048252]\n",
            " [0.43862065 0.28404773 0.23380112 0.21446552 0.35572452 0.11190031\n",
            "  0.42704168 0.66088483 0.65140992 0.87687536 0.4106971  0.65310182\n",
            "  0.92954327 0.2385715  0.7448819  0.35808123 0.21030224 0.51567869\n",
            "  0.70483321 0.97508336 0.37392419 0.73751694 0.56490116 0.14649191\n",
            "  0.33150374 0.3974621  0.52843891 0.97981462 0.48113082 0.46846661\n",
            "  0.72299065 0.25509037 0.79350554 0.28541137 0.75876436 0.70510781\n",
            "  0.32079315 0.73048053 0.26032456 0.15082951 0.74601999 0.50935914\n",
            "  0.60012207 0.40958695 0.87566949 0.17002278 0.35193873 0.93882593\n",
            "  0.76401469 0.32322918 0.16842271 0.79553775 0.41913964 0.11757602\n",
            "  0.76847849 0.40159949 0.21980416 0.16921096 0.7843599  0.44768736\n",
            "  0.14542991 0.19385429 0.86976096 0.54257295 0.96486466 0.31017339\n",
            "  0.81473629 0.90241857 0.07597495 0.62413216 0.32707871 0.69951271\n",
            "  0.74398949 0.51367332 0.28055795 0.50526336 0.7060654  0.58877965\n",
            "  0.58446093 0.49751477 0.97678527 0.65124971 0.9553325  0.55046116\n",
            "  0.69998376 0.87581577 0.79142531 0.27843232 0.96432994 0.41634862\n",
            "  0.         0.57844694 0.69464865 0.64644588 0.14149909 0.62673199\n",
            "  0.62828028 0.44836045 0.5682908  0.52552301]\n",
            " [0.34233232 0.5499879  0.50142308 0.65153548 0.28954205 0.50572951\n",
            "  0.48684388 0.7402779  0.34985732 0.50853287 0.59788957 0.60395722\n",
            "  0.35441292 0.38204395 0.17567804 0.25717841 0.65631948 0.67930063\n",
            "  0.7749707  0.47568974 0.26399216 0.54919523 0.11929378 0.61809127\n",
            "  0.42324734 0.22234724 0.48944291 0.47051263 0.33123509 0.24533313\n",
            "  0.37741947 0.57567498 0.6788723  0.33884318 0.18724751 0.73598731\n",
            "  0.28864745 0.48551685 0.42523298 0.45741167 0.44298207 0.63619125\n",
            "  0.29628157 0.1817142  0.29722298 0.65933133 0.55267392 0.53594091\n",
            "  0.81574644 0.47082847 0.58167928 0.21986174 0.3913396  0.56910125\n",
            "  0.2016007  0.32931131 0.74011475 0.41361492 0.23610932 0.17118935\n",
            "  0.71274009 0.42966633 0.30419477 0.08414508 0.50833578 0.39008309\n",
            "  0.23681744 0.35669329 0.50936931 0.32859356 0.34802768 0.79887241\n",
            "  0.16566166 0.34402918 0.42367829 0.32746835 0.59000015 0.44452718\n",
            "  0.50600265 0.43329391 0.47696094 0.55444265 0.4016117  0.40563436\n",
            "  0.30561408 0.31136364 0.6613805  0.37774412 0.41569353 0.46381699\n",
            "  0.57844694 0.         0.22666314 0.29206081 0.69819091 0.3866463\n",
            "  0.09260194 0.18952594 0.7122032  0.15199419]\n",
            " [0.31140198 0.73931837 0.68136455 0.69985995 0.4870249  0.59757949\n",
            "  0.70204011 0.96442356 0.57049459 0.69941428 0.80567759 0.83057278\n",
            "  0.38019027 0.55169486 0.28597706 0.44759107 0.70681644 0.89480395\n",
            "  1.00006512 0.60239879 0.32184413 0.77157218 0.14420734 0.68753764\n",
            "  0.62422842 0.29785768 0.7138507  0.58935472 0.27515032 0.23568932\n",
            "  0.17038909 0.6040609  0.90324201 0.51820447 0.28469325 0.96203439\n",
            "  0.37386294 0.70469586 0.47166607 0.54971464 0.65602521 0.85361643\n",
            "  0.15918637 0.37011551 0.29973409 0.7253477  0.75416528 0.71154438\n",
            "  1.04184538 0.67014229 0.74374161 0.28433151 0.60749244 0.71903501\n",
            "  0.3059558  0.32719935 0.80557844 0.55218404 0.13484867 0.38078434\n",
            "  0.83904113 0.51058281 0.37625284 0.185157   0.66057257 0.5850361\n",
            "  0.24524534 0.45374441 0.63892271 0.17280987 0.54417592 1.02288401\n",
            "  0.21952103 0.56974162 0.61295957 0.25573682 0.81577978 0.31782972\n",
            "  0.73236171 0.3550283  0.60313911 0.78103081 0.47681573 0.6320849\n",
            "  0.51249113 0.22835581 0.88514112 0.56219492 0.49687027 0.42600599\n",
            "  0.69464865 0.22666314 0.         0.50995978 0.83031435 0.61120846\n",
            "  0.29448818 0.24714051 0.93094229 0.37815589]\n",
            " [0.59397787 0.47987665 0.46650558 0.79432565 0.2920496  0.62099635\n",
            "  0.34002968 0.51262307 0.06255128 0.24687878 0.46139142 0.35280473\n",
            "  0.41990686 0.40787976 0.28194192 0.30056336 0.79617856 0.50223838\n",
            "  0.53823796 0.34156358 0.48095303 0.26315159 0.40925235 0.74148957\n",
            "  0.35131816 0.44275039 0.28269331 0.35176062 0.59604615 0.5075947\n",
            "  0.66867616 0.74823613 0.39758173 0.36159677 0.2953642  0.49081834\n",
            "  0.47288891 0.19474827 0.60645039 0.58269185 0.15226559 0.45480476\n",
            "  0.58573051 0.29121001 0.41837306 0.78126267 0.44575409 0.29835053\n",
            "  0.5673418  0.38988026 0.56932128 0.33250722 0.26814789 0.58283064\n",
            "  0.28518129 0.56777398 0.85341746 0.48586943 0.46905652 0.24015367\n",
            "  0.7447674  0.57492698 0.34089805 0.36769184 0.31893577 0.34947701\n",
            "  0.39135422 0.32448222 0.57066742 0.61900919 0.32215037 0.56952437\n",
            "  0.34275164 0.16206752 0.38707952 0.598713   0.31781049 0.72423207\n",
            "  0.27038936 0.69561702 0.34336913 0.29572331 0.37966999 0.18439363\n",
            "  0.05600707 0.4994524  0.37819646 0.37102496 0.3786975  0.70170549\n",
            "  0.64644588 0.29206081 0.50995978 0.         0.72254399 0.1158932\n",
            "  0.21590757 0.43696623 0.51751708 0.17174113]\n",
            " [0.58011732 0.28103668 0.26226738 0.30365438 0.44494573 0.25256638\n",
            "  0.44696492 0.62977472 0.71628004 0.93616686 0.39115574 0.6582635\n",
            "  1.04257156 0.32813982 0.85718885 0.45817709 0.29650342 0.48024329\n",
            "  0.67145291 1.06091946 0.51187704 0.76722258 0.69666828 0.24548411\n",
            "  0.37817703 0.53245778 0.55180046 1.0681685  0.62261847 0.60780497\n",
            "  0.86412845 0.37374148 0.79992328 0.37677674 0.87175007 0.68250741\n",
            "  0.45725578 0.77399543 0.40116184 0.29216427 0.80085062 0.48712218\n",
            "  0.74083668 0.52118836 0.9939972  0.24698379 0.34688452 1.00265071\n",
            "  0.72999053 0.35237579 0.1601505  0.9102867  0.46873753 0.13998804\n",
            "  0.87940879 0.54301751 0.25156106 0.28540635 0.9137258  0.55214278\n",
            "  0.02670379 0.33527486 0.9782691  0.67084089 1.04025607 0.37313222\n",
            "  0.93487105 1.00327125 0.19222738 0.7653016  0.40231566 0.65850336\n",
            "  0.8634692  0.57370216 0.33611329 0.64672878 0.72173018 0.72887075\n",
            "  0.60770315 0.63698832 1.06268365 0.6689641  1.05778568 0.59666261\n",
            "  0.7780728  1.00262991 0.80183654 0.35468518 1.06482618 0.55331855\n",
            "  0.14149909 0.69819091 0.83031435 0.72254399 0.         0.68187151\n",
            "  0.73784756 0.58320712 0.53041126 0.62497257]\n",
            " [0.65354238 0.41725922 0.41968935 0.79780449 0.29322583 0.62163936\n",
            "  0.25891733 0.39774884 0.05879125 0.254317   0.37370292 0.23691249\n",
            "  0.53273617 0.39395559 0.39740999 0.31674273 0.79837062 0.39874436\n",
            "  0.42251267 0.4181464  0.53202352 0.16486727 0.49785533 0.73910125\n",
            "  0.30389308 0.49839947 0.18032983 0.43282126 0.66233923 0.57602988\n",
            "  0.76309615 0.76601345 0.29224907 0.35446437 0.41102863 0.37492563\n",
            "  0.51219974 0.11599831 0.6346136  0.58989844 0.11964959 0.35157958\n",
            "  0.67033367 0.33554029 0.53406153 0.77664233 0.37097823 0.32200829\n",
            "  0.45160056 0.33233181 0.52290058 0.44839113 0.2131606  0.5457772\n",
            "  0.40107058 0.62232546 0.8427103  0.48064822 0.58085343 0.28870118\n",
            "  0.70608923 0.5906302  0.45367485 0.45365012 0.37293709 0.31689779\n",
            "  0.50699107 0.42949637 0.55337986 0.70466316 0.30227318 0.45422718\n",
            "  0.45656958 0.1135297  0.3496913  0.66861135 0.20590371 0.79726549\n",
            "  0.15779376 0.75766868 0.41996486 0.18003172 0.48297295 0.09116279\n",
            "  0.15355688 0.61482692 0.27482552 0.34946956 0.47923286 0.75068044\n",
            "  0.62673199 0.3866463  0.61120846 0.1158932  0.68187151 0.\n",
            "  0.32195841 0.5032961  0.40881264 0.2439827 ]\n",
            " [0.43329859 0.55733264 0.51795993 0.72269214 0.30305239 0.56721175\n",
            "  0.46739711 0.69880437 0.27727312 0.4181557  0.58559072 0.55144771\n",
            "  0.30515464 0.41169298 0.12040044 0.28099432 0.72680524 0.65533104\n",
            "  0.73019602 0.38770668 0.34652201 0.47863154 0.20978099 0.68386725\n",
            "  0.42423246 0.30439114 0.45057851 0.38424271 0.42356496 0.33703467\n",
            "  0.45654939 0.65312002 0.61195789 0.36437446 0.1355841  0.68736807\n",
            "  0.36292431 0.41046266 0.50251026 0.52047184 0.36194281 0.60990254\n",
            "  0.38529584 0.21873548 0.26556451 0.72530636 0.5484959  0.44361448\n",
            "  0.76631969 0.47156098 0.60783732 0.17616649 0.37381617 0.60278174\n",
            "  0.14159543 0.41798729 0.80484527 0.45952275 0.2622153  0.18652089\n",
            "  0.75486121 0.49754309 0.24152146 0.17674642 0.41641865 0.39887733\n",
            "  0.21600993 0.28025737 0.55546505 0.41648319 0.35823383 0.75729308\n",
            "  0.14974198 0.30390126 0.43592745 0.42006444 0.52785918 0.53645184\n",
            "  0.45766866 0.52566292 0.38906326 0.49810718 0.33005569 0.35833107\n",
            "  0.21989491 0.31316379 0.59314075 0.39660345 0.34145768 0.55350477\n",
            "  0.62828028 0.09260194 0.29448818 0.21590757 0.73784756 0.32195841\n",
            "  0.         0.27762021 0.68262175 0.12687075]\n",
            " [0.15876907 0.51150266 0.44848127 0.47858965 0.28280487 0.35533659\n",
            "  0.50887943 0.7893003  0.48363191 0.67507775 0.59566681 0.68211801\n",
            "  0.52777806 0.31744162 0.36066657 0.24053082 0.48438088 0.69547496\n",
            "  0.82946951 0.66458856 0.08294172 0.66694995 0.12087723 0.45505415\n",
            "  0.41270583 0.05090124 0.54886346 0.65988867 0.15967484 0.07287001\n",
            "  0.31571348 0.39426317 0.78380704 0.29264255 0.37021878 0.80002965\n",
            "  0.1281343  0.61550286 0.24689818 0.30659003 0.58741122 0.65962298\n",
            "  0.19462573 0.17852466 0.45956804 0.49497212 0.53763756 0.71128854\n",
            "  0.87860932 0.45432107 0.50118524 0.39670234 0.42214001 0.47363331\n",
            "  0.38694945 0.14036793 0.57636705 0.30650148 0.34116274 0.21692064\n",
            "  0.59223943 0.27017023 0.48748988 0.11548299 0.69279037 0.36900007\n",
            "  0.39580954 0.54499668 0.39180584 0.22851645 0.33247321 0.84580126\n",
            "  0.33188476 0.42329081 0.38979681 0.16544407 0.68846522 0.29468236\n",
            "  0.58223333 0.25868996 0.66589462 0.64306905 0.58775625 0.48928063\n",
            "  0.46622766 0.43656726 0.76979059 0.33771509 0.60288879 0.27609012\n",
            "  0.44836045 0.18952594 0.24714051 0.43696623 0.58320712 0.5032961\n",
            "  0.27762021 0.         0.73808242 0.26599993]\n",
            " [0.84232507 0.28827763 0.35223738 0.78253927 0.45561022 0.63456729\n",
            "  0.2304458  0.10098464 0.46739704 0.60421547 0.16240158 0.21270543\n",
            "  0.93710035 0.45188125 0.78383559 0.49787041 0.77857437 0.05267104\n",
            "  0.14111357 0.81510476 0.71968313 0.36887349 0.79203558 0.71443927\n",
            "  0.32926916 0.70623995 0.23625812 0.83250114 0.86988822 0.80308502\n",
            "  1.04900127 0.80453994 0.32451328 0.45546212 0.79884698 0.16058175\n",
            "  0.67252564 0.42240005 0.73217093 0.63296511 0.48360306 0.07848121\n",
            "  0.93227559 0.56827349 0.92891223 0.73703655 0.22710842 0.67615098\n",
            "  0.19960675 0.2959794  0.40115952 0.83918574 0.32358046 0.45089424\n",
            "  0.79315202 0.80153308 0.7703733  0.52217438 0.9410887  0.5503309\n",
            "  0.55661163 0.66029247 0.85821486 0.74767583 0.75324098 0.37459627\n",
            "  0.89209522 0.83824521 0.52699391 0.96649423 0.40681695 0.13122308\n",
            "  0.83127837 0.3794962  0.36582951 0.88611035 0.28969774 1.00980302\n",
            "  0.25196273 0.93959565 0.81687217 0.26210956 0.89176848 0.33459449\n",
            "  0.56193405 0.99484762 0.33659009 0.41366237 0.88769203 0.8923567\n",
            "  0.5682908  0.7122032  0.93094229 0.51751708 0.53041126 0.40881264\n",
            "  0.68262175 0.73808242 0.         0.56401431]\n",
            " [0.4223303  0.43121375 0.39447421 0.64620122 0.18198682 0.47939506\n",
            "  0.34340284 0.58869283 0.21817358 0.41520714 0.45992215 0.45262804\n",
            "  0.42591523 0.29683637 0.24467603 0.16806067 0.64910712 0.5337609\n",
            "  0.62305491 0.45438816 0.31005363 0.40880719 0.25512619 0.59952944\n",
            "  0.29761794 0.27124451 0.33792409 0.45693852 0.42553419 0.33748056\n",
            "  0.52173548 0.59002946 0.53389418 0.2482229  0.26021261 0.58403404\n",
            "  0.30633668 0.35194542 0.44371522 0.43625474 0.32141181 0.4893444\n",
            "  0.42635254 0.12882279 0.39179449 0.64054944 0.42168843 0.45919987\n",
            "  0.66381171 0.34482534 0.48777449 0.30150358 0.24873043 0.48712701\n",
            "  0.26288217 0.39613067 0.71717142 0.35687135 0.37728926 0.08040837\n",
            "  0.64370219 0.4214982  0.35621724 0.2103082  0.45894624 0.27394527\n",
            "  0.3427974  0.37860687 0.45044155 0.4607088  0.23428939 0.64731709\n",
            "  0.27530355 0.19205793 0.31168819 0.42939196 0.44243466 0.5565667\n",
            "  0.35420615 0.52437082 0.45601063 0.4043642  0.43284535 0.2539551\n",
            "  0.20739662 0.43754896 0.51759216 0.27566317 0.44035363 0.53048252\n",
            "  0.52552301 0.15199419 0.37815589 0.17174113 0.62497257 0.2439827\n",
            "  0.12687075 0.26599993 0.56401431 0.        ]]\n"
          ]
        }
      ]
    },
    {
      "cell_type": "markdown",
      "metadata": {
        "id": "aYz9KIB3oC8n"
      },
      "source": [
        "#### 53. How to convert a float (32 bits) array into an integer (32 bits) in place? \n",
        "(**hint**: astype(copy=False))"
      ]
    },
    {
      "cell_type": "code",
      "metadata": {
        "id": "Eh7E_AeMoC8n",
        "colab": {
          "base_uri": "https://localhost:8080/"
        },
        "outputId": "0e36ab50-32f7-4e1a-a89e-c81a6a91c18e"
      },
      "source": [
        "Z = (np.random.rand(10)*100).astype(np.float32)\n",
        "Y = Z.view(np.int32)\n",
        "Y[:] = Z\n",
        "print(Y)"
      ],
      "execution_count": null,
      "outputs": [
        {
          "output_type": "stream",
          "name": "stdout",
          "text": [
            "[99 35 28 67 23 99 42  6 45 14]\n"
          ]
        }
      ]
    },
    {
      "cell_type": "markdown",
      "metadata": {
        "id": "r3QGIJZWoC8n"
      },
      "source": [
        "#### 54. How to read the following file? (★★☆) \n",
        "(**hint**: np.genfromtxt)"
      ]
    },
    {
      "cell_type": "markdown",
      "metadata": {
        "id": "k3EYetOtoC8n"
      },
      "source": [
        "```\n",
        "1, 2, 3, 4, 5\n",
        "6,  ,  , 7, 8\n",
        " ,  , 9,10,11\n",
        "```"
      ]
    },
    {
      "cell_type": "code",
      "metadata": {
        "id": "Gq3YTSxWoC8o",
        "colab": {
          "base_uri": "https://localhost:8080/"
        },
        "outputId": "92dd72ff-8028-4c34-9a24-1b52d9e2ae7a"
      },
      "source": [
        "from io import StringIO\n",
        "\n",
        "s = StringIO('''1, 2, 3, 4, 5\n",
        "\n",
        "                6,  ,  , 7, 8\n",
        "\n",
        "                 ,  , 9,10,11\n",
        "''')\n",
        "Z = np.genfromtxt(s, delimiter=\",\", dtype=np.int)\n",
        "print(Z)"
      ],
      "execution_count": null,
      "outputs": [
        {
          "output_type": "stream",
          "name": "stdout",
          "text": [
            "[[ 1  2  3  4  5]\n",
            " [ 6 -1 -1  7  8]\n",
            " [-1 -1  9 10 11]]\n"
          ]
        }
      ]
    },
    {
      "cell_type": "markdown",
      "metadata": {
        "id": "gBzEhc0woC8o"
      },
      "source": [
        "#### 55. What is the equivalent of enumerate for numpy arrays? (★★☆) \n",
        "(**hint**: np.ndenumerate, np.ndindex)"
      ]
    },
    {
      "cell_type": "code",
      "metadata": {
        "id": "Qna1kjYLoC8o",
        "colab": {
          "base_uri": "https://localhost:8080/"
        },
        "outputId": "89aa754b-9c8b-432a-8e5e-616a1f17dcca"
      },
      "source": [
        "Z = np.arange(9).reshape(3,3)\n",
        "for index, value in np.ndenumerate(Z):\n",
        "    print(index, value)\n",
        "for index in np.ndindex(Z.shape):\n",
        "    print(index, Z[index])"
      ],
      "execution_count": null,
      "outputs": [
        {
          "output_type": "stream",
          "name": "stdout",
          "text": [
            "(0, 0) 0\n",
            "(0, 1) 1\n",
            "(0, 2) 2\n",
            "(1, 0) 3\n",
            "(1, 1) 4\n",
            "(1, 2) 5\n",
            "(2, 0) 6\n",
            "(2, 1) 7\n",
            "(2, 2) 8\n",
            "(0, 0) 0\n",
            "(0, 1) 1\n",
            "(0, 2) 2\n",
            "(1, 0) 3\n",
            "(1, 1) 4\n",
            "(1, 2) 5\n",
            "(2, 0) 6\n",
            "(2, 1) 7\n",
            "(2, 2) 8\n"
          ]
        }
      ]
    },
    {
      "cell_type": "markdown",
      "metadata": {
        "id": "cBaA5wLpoC8o"
      },
      "source": [
        "#### 56. Generate a generic 2D Gaussian-like array (★★☆) \n",
        "(**hint**: np.meshgrid, np.exp)"
      ]
    },
    {
      "cell_type": "code",
      "metadata": {
        "id": "4TuRfRK8oC8p",
        "colab": {
          "base_uri": "https://localhost:8080/"
        },
        "outputId": "619b4805-0540-403a-c0cc-6b9e14784c1b"
      },
      "source": [
        "X, Y = np.meshgrid(np.linspace(-1,1,10), np.linspace(-1,1,10))\n",
        "D = np.sqrt(X*X+Y*Y)\n",
        "sigma, mu = 1.0, 0.0\n",
        "G = np.exp(-( (D-mu)**2 / ( 2.0 * sigma**2 ) ) )\n",
        "print(G)"
      ],
      "execution_count": null,
      "outputs": [
        {
          "output_type": "stream",
          "name": "stdout",
          "text": [
            "[[0.36787944 0.44822088 0.51979489 0.57375342 0.60279818 0.60279818\n",
            "  0.57375342 0.51979489 0.44822088 0.36787944]\n",
            " [0.44822088 0.54610814 0.63331324 0.69905581 0.73444367 0.73444367\n",
            "  0.69905581 0.63331324 0.54610814 0.44822088]\n",
            " [0.51979489 0.63331324 0.73444367 0.81068432 0.85172308 0.85172308\n",
            "  0.81068432 0.73444367 0.63331324 0.51979489]\n",
            " [0.57375342 0.69905581 0.81068432 0.89483932 0.9401382  0.9401382\n",
            "  0.89483932 0.81068432 0.69905581 0.57375342]\n",
            " [0.60279818 0.73444367 0.85172308 0.9401382  0.98773022 0.98773022\n",
            "  0.9401382  0.85172308 0.73444367 0.60279818]\n",
            " [0.60279818 0.73444367 0.85172308 0.9401382  0.98773022 0.98773022\n",
            "  0.9401382  0.85172308 0.73444367 0.60279818]\n",
            " [0.57375342 0.69905581 0.81068432 0.89483932 0.9401382  0.9401382\n",
            "  0.89483932 0.81068432 0.69905581 0.57375342]\n",
            " [0.51979489 0.63331324 0.73444367 0.81068432 0.85172308 0.85172308\n",
            "  0.81068432 0.73444367 0.63331324 0.51979489]\n",
            " [0.44822088 0.54610814 0.63331324 0.69905581 0.73444367 0.73444367\n",
            "  0.69905581 0.63331324 0.54610814 0.44822088]\n",
            " [0.36787944 0.44822088 0.51979489 0.57375342 0.60279818 0.60279818\n",
            "  0.57375342 0.51979489 0.44822088 0.36787944]]\n"
          ]
        }
      ]
    },
    {
      "cell_type": "markdown",
      "metadata": {
        "id": "eFQxMSo-oC8p"
      },
      "source": [
        "#### 57. How to randomly place p elements in a 2D array? (★★☆) \n",
        "(**hint**: np.put, np.random.choice)"
      ]
    },
    {
      "cell_type": "code",
      "metadata": {
        "id": "0FuNFsKLoC8p",
        "colab": {
          "base_uri": "https://localhost:8080/"
        },
        "outputId": "f67422c0-4594-47b6-d16d-1b27c55f05f6"
      },
      "source": [
        "n = 10\n",
        "p = 5\n",
        "Z = np.zeros((n,n))\n",
        "np.put(Z, np.random.choice(range(n*n), p, replace=False),1)\n",
        "print(Z)"
      ],
      "execution_count": null,
      "outputs": [
        {
          "output_type": "stream",
          "name": "stdout",
          "text": [
            "[[0. 0. 0. 0. 0. 0. 0. 0. 0. 0.]\n",
            " [0. 1. 0. 0. 0. 0. 1. 0. 0. 0.]\n",
            " [0. 0. 0. 0. 0. 0. 0. 0. 0. 0.]\n",
            " [0. 0. 0. 0. 0. 0. 0. 0. 0. 0.]\n",
            " [0. 0. 0. 0. 0. 0. 0. 0. 0. 0.]\n",
            " [0. 0. 0. 0. 0. 0. 0. 0. 0. 0.]\n",
            " [0. 0. 0. 0. 0. 0. 1. 0. 0. 0.]\n",
            " [0. 0. 0. 1. 0. 0. 1. 0. 0. 0.]\n",
            " [0. 0. 0. 0. 0. 0. 0. 0. 0. 0.]\n",
            " [0. 0. 0. 0. 0. 0. 0. 0. 0. 0.]]\n"
          ]
        }
      ]
    },
    {
      "cell_type": "markdown",
      "metadata": {
        "id": "DnWyqiR0oC8p"
      },
      "source": [
        "#### 58. Subtract the mean of each row of a matrix (★★☆) \n",
        "(**hint**: mean(axis=,keepdims=))"
      ]
    },
    {
      "cell_type": "code",
      "metadata": {
        "id": "4zx_JWouoC8p"
      },
      "source": [
        "X = np.random.rand(10, 20)\n",
        "Y = X - X.mean(axis=1, keepdims=True)"
      ],
      "execution_count": null,
      "outputs": []
    },
    {
      "cell_type": "markdown",
      "metadata": {
        "id": "X1rnVOevoC8p"
      },
      "source": [
        "#### 59. How to sort an array by the nth column? (★★☆) \n",
        "(**hint**: argsort)"
      ]
    },
    {
      "cell_type": "code",
      "metadata": {
        "id": "NVSWKcWRoC8p",
        "colab": {
          "base_uri": "https://localhost:8080/"
        },
        "outputId": "51cdf3d5-16fa-4d06-911d-c264cf913316"
      },
      "source": [
        "Z = np.random.randint(0,5,(5,5))\n",
        "print(Z)\n",
        "print(Z[Z[:,1].argsort()])"
      ],
      "execution_count": null,
      "outputs": [
        {
          "output_type": "stream",
          "name": "stdout",
          "text": [
            "[[4 3 0 1 2]\n",
            " [3 3 4 1 1]\n",
            " [0 3 3 3 3]\n",
            " [1 4 4 2 1]\n",
            " [2 4 1 2 1]]\n",
            "[[4 3 0 1 2]\n",
            " [3 3 4 1 1]\n",
            " [0 3 3 3 3]\n",
            " [1 4 4 2 1]\n",
            " [2 4 1 2 1]]\n"
          ]
        }
      ]
    },
    {
      "cell_type": "markdown",
      "metadata": {
        "id": "H2wRa8E8oC8q"
      },
      "source": [
        "#### 60. How to tell if a given 2D array has null columns? (★★☆) \n",
        "(**hint**: any, ~)"
      ]
    },
    {
      "cell_type": "code",
      "metadata": {
        "id": "8l0BMMDvoC8q",
        "colab": {
          "base_uri": "https://localhost:8080/"
        },
        "outputId": "62c5ce2f-e425-47b2-84ea-8a5a4aa3effe"
      },
      "source": [
        "Z = np.random.randint(0,3,(3,10))\n",
        "print((~Z.any(axis=0)).any())"
      ],
      "execution_count": null,
      "outputs": [
        {
          "output_type": "stream",
          "name": "stdout",
          "text": [
            "False\n"
          ]
        }
      ]
    },
    {
      "cell_type": "markdown",
      "metadata": {
        "id": "sttPWzPfoC8q"
      },
      "source": [
        "#### 61. Find the nearest value from a given value in an array (★★☆) \n",
        "(**hint**: np.abs, argmin, flat)"
      ]
    },
    {
      "cell_type": "code",
      "metadata": {
        "id": "ZdgrofapoC8q",
        "colab": {
          "base_uri": "https://localhost:8080/"
        },
        "outputId": "0a4c80eb-9393-4d4c-f46c-8f28b8efced1"
      },
      "source": [
        "Z = np.random.uniform(0,5,10)\n",
        "z = 0.5\n",
        "m = Z.flat[np.abs(Z - z).argmin()]\n",
        "print(m)"
      ],
      "execution_count": null,
      "outputs": [
        {
          "output_type": "stream",
          "name": "stdout",
          "text": [
            "0.9082786822713007\n"
          ]
        }
      ]
    },
    {
      "cell_type": "markdown",
      "metadata": {
        "id": "nw10yQWIoC8v"
      },
      "source": [
        "#### 62. Considering two arrays with shape (1,3) and (3,1), how to compute their sum using an iterator? (★★☆) \n",
        "(**hint**: np.nditer)"
      ]
    },
    {
      "cell_type": "code",
      "metadata": {
        "id": "asjgrqP9oC8w",
        "colab": {
          "base_uri": "https://localhost:8080/"
        },
        "outputId": "304a6e16-ad22-47d8-a84f-8324b3af17c0"
      },
      "source": [
        "A = np.arange(3).reshape(3,1)\n",
        "B = np.arange(3).reshape(1,3)\n",
        "it = np.nditer([A,B,None])\n",
        "for x,y,z in it: z[...] = x + y\n",
        "print(it.operands[2])"
      ],
      "execution_count": null,
      "outputs": [
        {
          "output_type": "stream",
          "name": "stdout",
          "text": [
            "[[0 1 2]\n",
            " [1 2 3]\n",
            " [2 3 4]]\n"
          ]
        }
      ]
    },
    {
      "cell_type": "markdown",
      "metadata": {
        "id": "NDQ7CBQooC8w"
      },
      "source": [
        "#### 63. Create an array class that has a name attribute (★★☆) \n",
        "(**hint**: class method)"
      ]
    },
    {
      "cell_type": "code",
      "metadata": {
        "id": "Lfev1MPOoC8w",
        "colab": {
          "base_uri": "https://localhost:8080/"
        },
        "outputId": "c6761f60-cf18-441c-b8ff-920387d8920d"
      },
      "source": [
        "class NamedArray(np.ndarray):\n",
        "    def __new__(cls, array, name=\"no name\"):\n",
        "        obj = np.asarray(array).view(cls)\n",
        "        obj.name = name\n",
        "        return obj\n",
        "    def __array_finalize__(self, obj):\n",
        "        if obj is None: return\n",
        "        self.info = getattr(obj, 'name', \"no name\")\n",
        "\n",
        "Z = NamedArray(np.arange(10), \"range_10\")\n",
        "print (Z.name)"
      ],
      "execution_count": null,
      "outputs": [
        {
          "output_type": "stream",
          "name": "stdout",
          "text": [
            "range_10\n"
          ]
        }
      ]
    },
    {
      "cell_type": "markdown",
      "metadata": {
        "id": "9xOgkEMDoC8w"
      },
      "source": [
        "#### 64. Consider a given vector, how to add 1 to each element indexed by a second vector (be careful with repeated indices)? (★★★) \n",
        "(**hint**: np.bincount | np.add.at)"
      ]
    },
    {
      "cell_type": "code",
      "metadata": {
        "id": "lCPaf-zhoC8y",
        "colab": {
          "base_uri": "https://localhost:8080/"
        },
        "outputId": "563178ce-c6e0-4b90-dd2a-a4a23d3d3256"
      },
      "source": [
        "Z = np.ones(10)\n",
        "I = np.random.randint(0,len(Z),20)\n",
        "Z += np.bincount(I, minlength=len(Z))\n",
        "print(Z)\n",
        "\n",
        "# Another solution\n",
        "# Author: Bartosz Telenczuk\n",
        "np.add.at(Z, I, 1)\n",
        "print(Z)"
      ],
      "execution_count": null,
      "outputs": [
        {
          "output_type": "stream",
          "name": "stdout",
          "text": [
            "[4. 5. 3. 1. 6. 1. 3. 2. 2. 3.]\n",
            "[ 7.  9.  5.  1. 11.  1.  5.  3.  3.  5.]\n"
          ]
        }
      ]
    },
    {
      "cell_type": "markdown",
      "metadata": {
        "id": "7Bou1fJ0oC8z"
      },
      "source": [
        "#### 65. How to accumulate elements of a vector (X) to an array (F) based on an index list (I)? (★★★) \n",
        "(**hint**: np.bincount)"
      ]
    },
    {
      "cell_type": "code",
      "metadata": {
        "id": "zCfwx20LoC8z",
        "colab": {
          "base_uri": "https://localhost:8080/"
        },
        "outputId": "6c817094-3fdc-4dbe-e59d-8cc91b0b20c7"
      },
      "source": [
        "X = [1,2,3,4,5,6]\n",
        "I = [1,3,9,3,4,1]\n",
        "F = np.bincount(I,X)\n",
        "print(F)"
      ],
      "execution_count": null,
      "outputs": [
        {
          "output_type": "stream",
          "name": "stdout",
          "text": [
            "[0. 7. 0. 6. 5. 0. 0. 0. 0. 3.]\n"
          ]
        }
      ]
    },
    {
      "cell_type": "markdown",
      "metadata": {
        "id": "oKWtPAA9oC8z"
      },
      "source": [
        "#### 66. Considering a (w,h,3) image of (dtype=ubyte), compute the number of unique colors (★★★) \n",
        "(**hint**: np.unique)"
      ]
    },
    {
      "cell_type": "code",
      "metadata": {
        "id": "aYkhzGFtoC8z",
        "colab": {
          "base_uri": "https://localhost:8080/"
        },
        "outputId": "37504390-7ac6-4fa5-f088-2a8ef5091fce"
      },
      "source": [
        "w, h = 36, 36\n",
        "I = np.random.randint(0, 4, (h, w, 3)).astype(np.ubyte)\n",
        "colors = np.unique(I.reshape(-1, 3), axis=0)\n",
        "n = len(colors)\n",
        "print(n)\n"
      ],
      "execution_count": null,
      "outputs": [
        {
          "output_type": "stream",
          "name": "stdout",
          "text": [
            "64\n"
          ]
        }
      ]
    },
    {
      "cell_type": "markdown",
      "metadata": {
        "id": "AAKQshbGoC8z"
      },
      "source": [
        "#### 67. Considering a four dimensions array, how to get sum over the last two axis at once? (★★★) \n",
        "(**hint**: sum(axis=(-2,-1)))"
      ]
    },
    {
      "cell_type": "code",
      "metadata": {
        "id": "bEZVSViJoC80",
        "colab": {
          "base_uri": "https://localhost:8080/"
        },
        "outputId": "b920d821-b28e-4c37-e449-ba4dd23e76c0"
      },
      "source": [
        "A = np.random.randint(0,10,(3,4,3,4))\n",
        "sum = A.sum(axis=(-2,-1))\n",
        "print(sum)\n"
      ],
      "execution_count": null,
      "outputs": [
        {
          "output_type": "stream",
          "name": "stdout",
          "text": [
            "[[52 65 56 34]\n",
            " [57 64 61 63]\n",
            " [53 69 70 48]]\n"
          ]
        }
      ]
    },
    {
      "cell_type": "markdown",
      "metadata": {
        "id": "1wqqC3Z_oC80"
      },
      "source": [
        "#### 68. Considering a one-dimensional vector D, how to compute means of subsets of D using a vector S of same size describing subset  indices? (★★★) \n",
        "(**hint**: np.bincount)"
      ]
    },
    {
      "cell_type": "code",
      "metadata": {
        "id": "6EX4AeEvoC80",
        "colab": {
          "base_uri": "https://localhost:8080/"
        },
        "outputId": "5650735b-5dc7-4c33-fee0-923365866c55"
      },
      "source": [
        "D = np.random.uniform(0,1,100)\n",
        "S = np.random.randint(0,10,100)\n",
        "D_sums = np.bincount(S, weights=D)\n",
        "D_counts = np.bincount(S)\n",
        "D_means = D_sums / D_counts\n",
        "print(D_means)"
      ],
      "execution_count": null,
      "outputs": [
        {
          "output_type": "stream",
          "name": "stdout",
          "text": [
            "[0.47237424 0.42770151 0.78594451 0.52495924 0.47262753 0.61302847\n",
            " 0.65377539 0.44384022 0.42508214 0.57629481]\n"
          ]
        }
      ]
    },
    {
      "cell_type": "markdown",
      "metadata": {
        "id": "6u3n92WooC80"
      },
      "source": [
        "#### 69. How to get the diagonal of a dot product? (★★★) \n",
        "(**hint**: np.diag)"
      ]
    },
    {
      "cell_type": "code",
      "metadata": {
        "id": "RblHILFioC80",
        "colab": {
          "base_uri": "https://localhost:8080/"
        },
        "outputId": "5540b867-bfec-49e4-a267-332e2d083c05"
      },
      "source": [
        "A = np.random.uniform(0,1,(5,5))\n",
        "B = np.random.uniform(0,1,(5,5))\n",
        "np.diag(np.dot(A, B))"
      ],
      "execution_count": null,
      "outputs": [
        {
          "output_type": "execute_result",
          "data": {
            "text/plain": [
              "array([1.39119757, 0.81276583, 2.01495915, 1.27857079, 0.54153393])"
            ]
          },
          "metadata": {},
          "execution_count": 116
        }
      ]
    },
    {
      "cell_type": "markdown",
      "metadata": {
        "id": "wjMa3SMvoC80"
      },
      "source": [
        "#### 70. Consider the vector \\[1, 2, 3, 4, 5\\], how to build a new vector with 3 consecutive zeros interleaved between each value? (★★★) \n",
        "(**hint**: array\\[::4\\])"
      ]
    },
    {
      "cell_type": "code",
      "metadata": {
        "id": "1EoVGErIoC80",
        "colab": {
          "base_uri": "https://localhost:8080/"
        },
        "outputId": "b3999602-0728-4306-e90e-988e658b89ba"
      },
      "source": [
        "Z = np.array([1,2,3,4,5])\n",
        "nz = 3\n",
        "Z0 = np.zeros(len(Z) + (len(Z)-1)*(nz))\n",
        "Z0[::nz+1] = Z\n",
        "print(Z0)"
      ],
      "execution_count": null,
      "outputs": [
        {
          "output_type": "stream",
          "name": "stdout",
          "text": [
            "[1. 0. 0. 0. 2. 0. 0. 0. 3. 0. 0. 0. 4. 0. 0. 0. 5.]\n"
          ]
        }
      ]
    },
    {
      "cell_type": "markdown",
      "metadata": {
        "id": "TmxMMSEYoC81"
      },
      "source": [
        "#### 71. Consider an array of dimension (5,5,3), how to mulitply it by an array with dimensions (5,5)? (★★★) \n",
        "(**hint**: array\\[:, :, None\\])"
      ]
    },
    {
      "cell_type": "code",
      "metadata": {
        "collapsed": true,
        "id": "8qblateHoC81",
        "colab": {
          "base_uri": "https://localhost:8080/"
        },
        "outputId": "62f0e661-9e05-4d08-eb24-8e274757c67b"
      },
      "source": [
        "A = np.ones((5,5,3))\n",
        "B = 2*np.ones((5,5))\n",
        "print(A * B[:,:,None])\n"
      ],
      "execution_count": null,
      "outputs": [
        {
          "output_type": "stream",
          "name": "stdout",
          "text": [
            "[[[2. 2. 2.]\n",
            "  [2. 2. 2.]\n",
            "  [2. 2. 2.]\n",
            "  [2. 2. 2.]\n",
            "  [2. 2. 2.]]\n",
            "\n",
            " [[2. 2. 2.]\n",
            "  [2. 2. 2.]\n",
            "  [2. 2. 2.]\n",
            "  [2. 2. 2.]\n",
            "  [2. 2. 2.]]\n",
            "\n",
            " [[2. 2. 2.]\n",
            "  [2. 2. 2.]\n",
            "  [2. 2. 2.]\n",
            "  [2. 2. 2.]\n",
            "  [2. 2. 2.]]\n",
            "\n",
            " [[2. 2. 2.]\n",
            "  [2. 2. 2.]\n",
            "  [2. 2. 2.]\n",
            "  [2. 2. 2.]\n",
            "  [2. 2. 2.]]\n",
            "\n",
            " [[2. 2. 2.]\n",
            "  [2. 2. 2.]\n",
            "  [2. 2. 2.]\n",
            "  [2. 2. 2.]\n",
            "  [2. 2. 2.]]]\n"
          ]
        }
      ]
    },
    {
      "cell_type": "markdown",
      "metadata": {
        "id": "sOxQ9G7joC81"
      },
      "source": [
        "#### 72. How to swap two rows of an array? (★★★) \n",
        "(**hint**: array\\[\\[\\]\\] = array\\[\\[\\]\\])"
      ]
    },
    {
      "cell_type": "code",
      "metadata": {
        "id": "0pCqiJB7oC81",
        "colab": {
          "base_uri": "https://localhost:8080/"
        },
        "outputId": "57311bb5-25f8-4f2e-daa2-3965f8ddfb9b"
      },
      "source": [
        "A = np.arange(25).reshape(5,5)\n",
        "A[[0,1]] = A[[1,0]]\n",
        "print(A)"
      ],
      "execution_count": null,
      "outputs": [
        {
          "output_type": "stream",
          "name": "stdout",
          "text": [
            "[[ 5  6  7  8  9]\n",
            " [ 0  1  2  3  4]\n",
            " [10 11 12 13 14]\n",
            " [15 16 17 18 19]\n",
            " [20 21 22 23 24]]\n"
          ]
        }
      ]
    },
    {
      "cell_type": "markdown",
      "metadata": {
        "id": "X0eofe0QoC81"
      },
      "source": [
        "#### 73. Consider a set of 10 triplets describing 10 triangles (with shared vertices), find the set of unique line segments composing all the  triangles (★★★) \n",
        "(**hint**: repeat, np.roll, np.sort, view, np.unique)"
      ]
    },
    {
      "cell_type": "code",
      "metadata": {
        "id": "jBu4RRinoC81",
        "colab": {
          "base_uri": "https://localhost:8080/"
        },
        "outputId": "01bb6d7f-25ce-4911-d02d-2a19e63c025d"
      },
      "source": [
        "faces = np.random.randint(0,100,(10,3))\n",
        "F = np.roll(faces.repeat(2,axis=1),-1,axis=1)\n",
        "F = F.reshape(len(F)*3,2)\n",
        "F = np.sort(F,axis=1)\n",
        "G = F.view( dtype=[('p0',F.dtype),('p1',F.dtype)] )\n",
        "G = np.unique(G)\n",
        "print(G)"
      ],
      "execution_count": null,
      "outputs": [
        {
          "output_type": "stream",
          "name": "stdout",
          "text": [
            "[( 4, 30) ( 4, 32) ( 4, 51) ( 4, 66) (14, 60) (14, 65) (23, 42) (23, 95)\n",
            " (30, 35) (30, 66) (30, 90) (32, 51) (33, 49) (33, 76) (35, 90) (40, 57)\n",
            " (40, 78) (42, 95) (43, 74) (43, 98) (48, 48) (48, 78) (49, 76) (57, 78)\n",
            " (58, 81) (58, 88) (60, 65) (74, 98) (81, 88)]\n"
          ]
        }
      ]
    },
    {
      "cell_type": "markdown",
      "metadata": {
        "id": "iDZOxj7uoC81"
      },
      "source": [
        "#### 74. Given an array C that is a bincount, how to produce an array A such that np.bincount(A) == C? (★★★) \n",
        "(**hint**: np.repeat)"
      ]
    },
    {
      "cell_type": "code",
      "metadata": {
        "id": "dvuQk890oC82",
        "colab": {
          "base_uri": "https://localhost:8080/"
        },
        "outputId": "45908dba-0582-41b3-87be-3ae1f13ba66c"
      },
      "source": [
        "C = np.bincount([1,1,2,3,4,4,6])\n",
        "A = np.repeat(np.arange(len(C)), C)\n",
        "print(A)"
      ],
      "execution_count": null,
      "outputs": [
        {
          "output_type": "stream",
          "name": "stdout",
          "text": [
            "[1 1 2 3 4 4 6]\n"
          ]
        }
      ]
    },
    {
      "cell_type": "markdown",
      "metadata": {
        "id": "id5GTFQUoC82"
      },
      "source": [
        "#### 75. How to compute averages using a sliding window over an array? (★★★) \n",
        "(**hint**: np.cumsum)"
      ]
    },
    {
      "cell_type": "code",
      "metadata": {
        "id": "5KcflxZvoC82",
        "colab": {
          "base_uri": "https://localhost:8080/"
        },
        "outputId": "c8dc500f-73c7-470f-ac52-760cf0f44c74"
      },
      "source": [
        "def moving_average(a, n=3) :\n",
        "    ret = np.cumsum(a, dtype=float)\n",
        "    ret[n:] = ret[n:] - ret[:-n]\n",
        "    return ret[n - 1:] / n\n",
        "Z = np.arange(20)\n",
        "print(moving_average(Z, n=3))"
      ],
      "execution_count": null,
      "outputs": [
        {
          "output_type": "stream",
          "name": "stdout",
          "text": [
            "[ 1.  2.  3.  4.  5.  6.  7.  8.  9. 10. 11. 12. 13. 14. 15. 16. 17. 18.]\n"
          ]
        }
      ]
    },
    {
      "cell_type": "markdown",
      "metadata": {
        "id": "AWqroZo1oC82"
      },
      "source": [
        "#### 76. Consider a one-dimensional array Z, build a two-dimensional array whose first row is (Z\\[0\\],Z\\[1\\],Z\\[2\\]) and each subsequent row is  shifted by 1 (last row should be (Z\\[-3\\],Z\\[-2\\],Z\\[-1\\]) (★★★) \n",
        "(**hint**: from numpy.lib import stride_tricks)"
      ]
    },
    {
      "cell_type": "code",
      "metadata": {
        "id": "c9ARZIWOoC82",
        "colab": {
          "base_uri": "https://localhost:8080/"
        },
        "outputId": "76b377fc-4a40-44d5-bf1e-c7f17c4d8968"
      },
      "source": [
        "from numpy.lib import stride_tricks\n",
        "\n",
        "def rolling(a, window):\n",
        "    shape = (a.size - window + 1, window)\n",
        "    strides = (a.strides[0], a.strides[0])\n",
        "    return stride_tricks.as_strided(a, shape=shape, strides=strides)\n",
        "Z = rolling(np.arange(10), 3)\n",
        "print(Z)"
      ],
      "execution_count": null,
      "outputs": [
        {
          "output_type": "stream",
          "name": "stdout",
          "text": [
            "[[0 1 2]\n",
            " [1 2 3]\n",
            " [2 3 4]\n",
            " [3 4 5]\n",
            " [4 5 6]\n",
            " [5 6 7]\n",
            " [6 7 8]\n",
            " [7 8 9]]\n"
          ]
        }
      ]
    },
    {
      "cell_type": "markdown",
      "metadata": {
        "id": "Hrq7oX5uoC82"
      },
      "source": [
        "#### 77. How to negate a boolean, or to change the sign of a float inplace? (★★★) \n",
        "(**hint**: np.logical_not, np.negative)"
      ]
    },
    {
      "cell_type": "code",
      "metadata": {
        "id": "-0qT2bTuoC82",
        "colab": {
          "base_uri": "https://localhost:8080/"
        },
        "outputId": "fc214960-92f4-498e-b629-1191cde371fe"
      },
      "source": [
        "Z = np.random.randint(0,2,100)\n",
        "np.logical_not(Z, out=Z)\n",
        "\n",
        "Z = np.random.uniform(-1.0,1.0,100)\n",
        "np.negative(Z, out=Z)"
      ],
      "execution_count": null,
      "outputs": [
        {
          "output_type": "execute_result",
          "data": {
            "text/plain": [
              "array([ 0.34132826,  0.64964461,  0.92532866,  0.24672665, -0.70458192,\n",
              "       -0.68504018, -0.00358053,  0.12621669,  0.36664582,  0.04264182,\n",
              "        0.57038605, -0.19975779,  0.05331088,  0.38458351, -0.91590768,\n",
              "       -0.1848658 ,  0.42544428,  0.21936564,  0.46390476,  0.40174784,\n",
              "       -0.7565579 ,  0.31788256, -0.99515825,  0.55503905, -0.71437793,\n",
              "       -0.64344982,  0.61874188,  0.3450934 ,  0.05611283,  0.32035229,\n",
              "       -0.35499755, -0.50943317,  0.03184991, -0.68159155, -0.11539361,\n",
              "        0.39796962,  0.75932049, -0.97024345,  0.37969884, -0.12627703,\n",
              "       -0.21320716, -0.09358252,  0.62816932, -0.54458533, -0.85015325,\n",
              "       -0.67626489, -0.96610692,  0.8036899 ,  0.78407933,  0.25410875,\n",
              "        0.5667737 , -0.79592724,  0.21906163, -0.91996253,  0.18842429,\n",
              "        0.84447979, -0.04091814,  0.60458501, -0.31401665, -0.03164698,\n",
              "        0.15580367,  0.07948831, -0.75853097, -0.86950195, -0.99963177,\n",
              "       -0.33831309, -0.9427952 , -0.3977309 ,  0.32974177, -0.27025052,\n",
              "        0.6547408 ,  0.37374976,  0.76301227, -0.14765054, -0.68373911,\n",
              "        0.58454049,  0.04804725, -0.94377815,  0.35250604,  0.31146516,\n",
              "        0.2569316 ,  0.64984272, -0.80503929,  0.42268952,  0.41409127,\n",
              "        0.03767504, -0.46412503, -0.11314119, -0.29166673,  0.46057384,\n",
              "       -0.63173674, -0.24178906, -0.18208695, -0.98243442,  0.82670556,\n",
              "       -0.46605282, -0.84844648, -0.73828753, -0.03087594, -0.52772019])"
            ]
          },
          "metadata": {},
          "execution_count": 124
        }
      ]
    },
    {
      "cell_type": "markdown",
      "metadata": {
        "id": "T0YvUm7RoC83"
      },
      "source": [
        "#### 78. Consider 2 sets of points P0,P1 describing lines (2d) and a point p, how to compute distance from p to each line i  (P0\\[i\\],P1\\[i\\])? (★★★)"
      ]
    },
    {
      "cell_type": "code",
      "metadata": {
        "id": "_rAt7jiYoC83",
        "colab": {
          "base_uri": "https://localhost:8080/"
        },
        "outputId": "c23209ac-fed8-4a75-8d1f-3e303b2c469a"
      },
      "source": [
        "def distance(P0, P1, p):\n",
        "    T = P1 - P0\n",
        "    L = (T**2).sum(axis=1)\n",
        "    U = -((P0[:,0]-p[...,0])*T[:,0] + (P0[:,1]-p[...,1])*T[:,1]) / L\n",
        "    U = U.reshape(len(U),1)\n",
        "    D = P0 + U*T - p\n",
        "    return np.sqrt((D**2).sum(axis=1))\n",
        "\n",
        "P0 = np.random.uniform(-10,10,(10,2))\n",
        "P1 = np.random.uniform(-10,10,(10,2))\n",
        "p  = np.random.uniform(-10,10,( 1,2))\n",
        "print(distance(P0, P1, p))"
      ],
      "execution_count": null,
      "outputs": [
        {
          "output_type": "stream",
          "name": "stdout",
          "text": [
            "[5.98325452 3.50212337 6.78137153 1.20364629 5.90744372 0.65172996\n",
            " 0.54378539 2.47939312 0.61782086 9.51677247]\n"
          ]
        }
      ]
    },
    {
      "cell_type": "markdown",
      "metadata": {
        "id": "RepZUnZUoC83"
      },
      "source": [
        "#### 79. Consider 2 sets of points P0,P1 describing lines (2d) and a set of points P, how to compute distance from each point j (P\\[j\\]) to each line i (P0\\[i\\],P1\\[i\\])? (★★★)"
      ]
    },
    {
      "cell_type": "code",
      "metadata": {
        "id": "syl6UThUoC83",
        "colab": {
          "base_uri": "https://localhost:8080/"
        },
        "outputId": "f1adf490-4ca0-4b9d-b197-1acdda42c10b"
      },
      "source": [
        "P0 = np.random.uniform(-10, 10, (10,2))\n",
        "P1 = np.random.uniform(-10,10,(10,2))\n",
        "p = np.random.uniform(-10, 10, (10,2))\n",
        "print(np.array([distance(P0,P1,p_i) for p_i in p]))"
      ],
      "execution_count": null,
      "outputs": [
        {
          "output_type": "stream",
          "name": "stdout",
          "text": [
            "[[ 0.6649867   1.76217051  8.25816529  4.43167864  9.13346329  3.31292175\n",
            "   7.67540561  9.61614503  8.6987107   9.8720366 ]\n",
            " [14.01541854  0.23089651  1.05616619 11.83448266  9.98614366 14.56144447\n",
            "   2.28862717  1.20920185  9.20262064  8.66117884]\n",
            " [ 7.3554764   6.74673333 10.59087986  3.53306682  1.76856169  0.97174209\n",
            "   9.73000123  1.83381595 14.41276243  2.29246186]\n",
            " [ 9.05523595  5.65931575  5.36522894  7.26489362  6.62131641 15.9810527\n",
            "   6.45536691  4.32520234  3.56819883  4.9569389 ]\n",
            " [ 1.14696625  0.38218474  5.72284545  2.25183812  6.19835894  0.27945301\n",
            "   5.04554881  8.62879333  7.74542554  7.10920735]\n",
            " [ 5.45991051 13.56314044  8.22189638  7.31900981  7.27406608 10.37856305\n",
            "   8.79457233 18.0658052   5.77256662  9.22854399]\n",
            " [13.37054735  0.23513588  0.18452383 11.06249193  8.95427829 13.31360942\n",
            "   1.38365684  0.85008414  9.51941428  7.6884145 ]\n",
            " [ 0.42745527  4.6440722   0.08187162  2.27114872  4.53623265  5.66697224\n",
            "   0.79215026 10.73534832  3.13226372  5.86973493]\n",
            " [ 5.31487511  5.99477173 10.62819383  1.42826658  3.90424035  2.19844479\n",
            "   9.8446065   3.6550508  13.4212523   4.43728105]\n",
            " [ 3.86397008 15.54903732 11.39639432  5.28207284  4.29805853 14.48445118\n",
            "  12.06208395 17.4331235   7.3021189   6.4721445 ]]\n"
          ]
        }
      ]
    },
    {
      "cell_type": "markdown",
      "metadata": {
        "id": "FteofOs1oC83"
      },
      "source": [
        "#### 80. Consider an arbitrary array, write a function that extract a subpart with a fixed shape and centered on a given element (pad with a `fill` value when necessary) (★★★) \n",
        "(**hint**: minimum, maximum)"
      ]
    },
    {
      "cell_type": "code",
      "metadata": {
        "id": "5HaC1pwYoC84",
        "colab": {
          "base_uri": "https://localhost:8080/"
        },
        "outputId": "665459e5-b36e-4fe7-980a-0484069dca7e"
      },
      "source": [
        "Z = np.random.randint(0,10,(10,10))\n",
        "shape = (5,5)\n",
        "fill  = 0\n",
        "position = (1,1)\n",
        "\n",
        "R = np.ones(shape, dtype=Z.dtype)*fill\n",
        "P  = np.array(list(position)).astype(int)\n",
        "Rs = np.array(list(R.shape)).astype(int)\n",
        "Zs = np.array(list(Z.shape)).astype(int)\n",
        "\n",
        "R_start = np.zeros((len(shape),)).astype(int)\n",
        "R_stop  = np.array(list(shape)).astype(int)\n",
        "Z_start = (P-Rs//2)\n",
        "Z_stop  = (P+Rs//2)+Rs%2\n",
        "\n",
        "R_start = (R_start - np.minimum(Z_start,0)).tolist()\n",
        "Z_start = (np.maximum(Z_start,0)).tolist()\n",
        "R_stop = np.maximum(R_start, (R_stop - np.maximum(Z_stop-Zs,0))).tolist()\n",
        "Z_stop = (np.minimum(Z_stop,Zs)).tolist()\n",
        "\n",
        "r = [slice(start,stop) for start,stop in zip(R_start,R_stop)]\n",
        "z = [slice(start,stop) for start,stop in zip(Z_start,Z_stop)]\n",
        "R[r] = Z[z]\n",
        "print(Z)\n",
        "print(R)"
      ],
      "execution_count": null,
      "outputs": [
        {
          "output_type": "stream",
          "name": "stdout",
          "text": [
            "[[5 6 9 1 1 2 9 7 7 6]\n",
            " [1 2 0 3 0 6 5 5 8 8]\n",
            " [8 8 2 3 3 9 4 0 6 4]\n",
            " [6 6 6 9 3 6 7 4 3 0]\n",
            " [2 0 4 4 8 6 0 6 3 6]\n",
            " [7 6 9 3 3 0 9 5 1 7]\n",
            " [6 4 1 9 9 0 8 1 7 3]\n",
            " [5 0 1 1 0 0 1 0 7 7]\n",
            " [5 0 2 7 6 5 5 6 5 8]\n",
            " [1 1 4 6 6 7 8 1 8 7]]\n",
            "[[0 0 0 0 0]\n",
            " [0 5 6 9 1]\n",
            " [0 1 2 0 3]\n",
            " [0 8 8 2 3]\n",
            " [0 6 6 6 9]]\n"
          ]
        },
        {
          "output_type": "stream",
          "name": "stderr",
          "text": [
            "/usr/local/lib/python3.7/dist-packages/ipykernel_launcher.py:23: FutureWarning: Using a non-tuple sequence for multidimensional indexing is deprecated; use `arr[tuple(seq)]` instead of `arr[seq]`. In the future this will be interpreted as an array index, `arr[np.array(seq)]`, which will result either in an error or a different result.\n"
          ]
        }
      ]
    },
    {
      "cell_type": "markdown",
      "metadata": {
        "id": "2I-d18bhoC84"
      },
      "source": [
        "#### 81. Consider an array Z = \\[1,2,3,4,5,6,7,8,9,10,11,12,13,14\\], how to generate an array R = \\[\\[1,2,3,4\\], \\[2,3,4,5\\], \\[3,4,5,6\\], ..., \\[11,12,13,14\\]\\]? (★★★) \n",
        "(**hint**: stride\\_tricks.as\\_strided)"
      ]
    },
    {
      "cell_type": "code",
      "metadata": {
        "id": "Rqd-rtxyoC84",
        "colab": {
          "base_uri": "https://localhost:8080/"
        },
        "outputId": "2e4d86c7-be08-4399-e0db-8685e4e0067a"
      },
      "source": [
        "Z = np.arange(1,15,dtype=np.uint32)\n",
        "R = stride_tricks.as_strided(Z,(11,4),(4,4))\n",
        "print(R)"
      ],
      "execution_count": null,
      "outputs": [
        {
          "output_type": "stream",
          "name": "stdout",
          "text": [
            "[[ 1  2  3  4]\n",
            " [ 2  3  4  5]\n",
            " [ 3  4  5  6]\n",
            " [ 4  5  6  7]\n",
            " [ 5  6  7  8]\n",
            " [ 6  7  8  9]\n",
            " [ 7  8  9 10]\n",
            " [ 8  9 10 11]\n",
            " [ 9 10 11 12]\n",
            " [10 11 12 13]\n",
            " [11 12 13 14]]\n"
          ]
        }
      ]
    },
    {
      "cell_type": "markdown",
      "metadata": {
        "id": "4phkjq8moC85"
      },
      "source": [
        "#### 82. Compute a matrix rank (★★★) \n",
        "(**hint**: np.linalg.svd) (suggestion: np.linalg.svd)"
      ]
    },
    {
      "cell_type": "code",
      "metadata": {
        "id": "qeSkjnBBoC86",
        "colab": {
          "base_uri": "https://localhost:8080/"
        },
        "outputId": "731aebb6-8e6b-4255-bb2c-afef6c21b031"
      },
      "source": [
        "Z = np.random.uniform(0,1,(10,10))\n",
        "U, S, V = np.linalg.svd(Z) # Singular Value Decomposition\n",
        "rank = np.sum(S > 1e-10)\n",
        "print(rank)"
      ],
      "execution_count": null,
      "outputs": [
        {
          "output_type": "stream",
          "name": "stdout",
          "text": [
            "10\n"
          ]
        }
      ]
    },
    {
      "cell_type": "markdown",
      "metadata": {
        "id": "FUBUmn0PoC86"
      },
      "source": [
        "#### 83. How to find the most frequent value in an array? \n",
        "(**hint**: np.bincount, argmax)"
      ]
    },
    {
      "cell_type": "code",
      "metadata": {
        "id": "mepkN-85oC86",
        "colab": {
          "base_uri": "https://localhost:8080/"
        },
        "outputId": "c23a8612-ab5c-4521-a0e8-2e3aea9c963a"
      },
      "source": [
        "Z = np.random.randint(0,10,50)\n",
        "print(np.bincount(Z).argmax())"
      ],
      "execution_count": null,
      "outputs": [
        {
          "output_type": "stream",
          "name": "stdout",
          "text": [
            "5\n"
          ]
        }
      ]
    },
    {
      "cell_type": "markdown",
      "metadata": {
        "id": "qWvI4RNzoC86"
      },
      "source": [
        "#### 84. Extract all the contiguous 3x3 blocks from a random 10x10 matrix (★★★) \n",
        "(**hint**: stride\\_tricks.as\\_strided)"
      ]
    },
    {
      "cell_type": "code",
      "metadata": {
        "id": "Yo6soFoJoC86",
        "colab": {
          "base_uri": "https://localhost:8080/"
        },
        "outputId": "6bbb3d07-185a-4d03-b5f9-0154ef49b5a3"
      },
      "source": [
        "Z = np.random.randint(0,5,(10,10))\n",
        "n = 3\n",
        "i = 1 + (Z.shape[0]-3)\n",
        "j = 1 + (Z.shape[1]-3)\n",
        "C = stride_tricks.as_strided(Z, shape=(i, j, n, n), strides=Z.strides + Z.strides)\n",
        "print(C)"
      ],
      "execution_count": null,
      "outputs": [
        {
          "output_type": "stream",
          "name": "stdout",
          "text": [
            "[[[[4 4 3]\n",
            "   [0 3 4]\n",
            "   [3 4 4]]\n",
            "\n",
            "  [[4 3 2]\n",
            "   [3 4 4]\n",
            "   [4 4 1]]\n",
            "\n",
            "  [[3 2 3]\n",
            "   [4 4 3]\n",
            "   [4 1 2]]\n",
            "\n",
            "  [[2 3 3]\n",
            "   [4 3 1]\n",
            "   [1 2 3]]\n",
            "\n",
            "  [[3 3 0]\n",
            "   [3 1 3]\n",
            "   [2 3 1]]\n",
            "\n",
            "  [[3 0 0]\n",
            "   [1 3 0]\n",
            "   [3 1 2]]\n",
            "\n",
            "  [[0 0 3]\n",
            "   [3 0 1]\n",
            "   [1 2 3]]\n",
            "\n",
            "  [[0 3 0]\n",
            "   [0 1 3]\n",
            "   [2 3 2]]]\n",
            "\n",
            "\n",
            " [[[0 3 4]\n",
            "   [3 4 4]\n",
            "   [3 3 1]]\n",
            "\n",
            "  [[3 4 4]\n",
            "   [4 4 1]\n",
            "   [3 1 2]]\n",
            "\n",
            "  [[4 4 3]\n",
            "   [4 1 2]\n",
            "   [1 2 4]]\n",
            "\n",
            "  [[4 3 1]\n",
            "   [1 2 3]\n",
            "   [2 4 3]]\n",
            "\n",
            "  [[3 1 3]\n",
            "   [2 3 1]\n",
            "   [4 3 3]]\n",
            "\n",
            "  [[1 3 0]\n",
            "   [3 1 2]\n",
            "   [3 3 4]]\n",
            "\n",
            "  [[3 0 1]\n",
            "   [1 2 3]\n",
            "   [3 4 3]]\n",
            "\n",
            "  [[0 1 3]\n",
            "   [2 3 2]\n",
            "   [4 3 4]]]\n",
            "\n",
            "\n",
            " [[[3 4 4]\n",
            "   [3 3 1]\n",
            "   [4 3 1]]\n",
            "\n",
            "  [[4 4 1]\n",
            "   [3 1 2]\n",
            "   [3 1 2]]\n",
            "\n",
            "  [[4 1 2]\n",
            "   [1 2 4]\n",
            "   [1 2 2]]\n",
            "\n",
            "  [[1 2 3]\n",
            "   [2 4 3]\n",
            "   [2 2 0]]\n",
            "\n",
            "  [[2 3 1]\n",
            "   [4 3 3]\n",
            "   [2 0 3]]\n",
            "\n",
            "  [[3 1 2]\n",
            "   [3 3 4]\n",
            "   [0 3 1]]\n",
            "\n",
            "  [[1 2 3]\n",
            "   [3 4 3]\n",
            "   [3 1 1]]\n",
            "\n",
            "  [[2 3 2]\n",
            "   [4 3 4]\n",
            "   [1 1 2]]]\n",
            "\n",
            "\n",
            " [[[3 3 1]\n",
            "   [4 3 1]\n",
            "   [4 1 1]]\n",
            "\n",
            "  [[3 1 2]\n",
            "   [3 1 2]\n",
            "   [1 1 2]]\n",
            "\n",
            "  [[1 2 4]\n",
            "   [1 2 2]\n",
            "   [1 2 4]]\n",
            "\n",
            "  [[2 4 3]\n",
            "   [2 2 0]\n",
            "   [2 4 4]]\n",
            "\n",
            "  [[4 3 3]\n",
            "   [2 0 3]\n",
            "   [4 4 3]]\n",
            "\n",
            "  [[3 3 4]\n",
            "   [0 3 1]\n",
            "   [4 3 2]]\n",
            "\n",
            "  [[3 4 3]\n",
            "   [3 1 1]\n",
            "   [3 2 3]]\n",
            "\n",
            "  [[4 3 4]\n",
            "   [1 1 2]\n",
            "   [2 3 3]]]\n",
            "\n",
            "\n",
            " [[[4 3 1]\n",
            "   [4 1 1]\n",
            "   [4 1 0]]\n",
            "\n",
            "  [[3 1 2]\n",
            "   [1 1 2]\n",
            "   [1 0 2]]\n",
            "\n",
            "  [[1 2 2]\n",
            "   [1 2 4]\n",
            "   [0 2 0]]\n",
            "\n",
            "  [[2 2 0]\n",
            "   [2 4 4]\n",
            "   [2 0 3]]\n",
            "\n",
            "  [[2 0 3]\n",
            "   [4 4 3]\n",
            "   [0 3 0]]\n",
            "\n",
            "  [[0 3 1]\n",
            "   [4 3 2]\n",
            "   [3 0 3]]\n",
            "\n",
            "  [[3 1 1]\n",
            "   [3 2 3]\n",
            "   [0 3 2]]\n",
            "\n",
            "  [[1 1 2]\n",
            "   [2 3 3]\n",
            "   [3 2 2]]]\n",
            "\n",
            "\n",
            " [[[4 1 1]\n",
            "   [4 1 0]\n",
            "   [1 1 3]]\n",
            "\n",
            "  [[1 1 2]\n",
            "   [1 0 2]\n",
            "   [1 3 4]]\n",
            "\n",
            "  [[1 2 4]\n",
            "   [0 2 0]\n",
            "   [3 4 3]]\n",
            "\n",
            "  [[2 4 4]\n",
            "   [2 0 3]\n",
            "   [4 3 4]]\n",
            "\n",
            "  [[4 4 3]\n",
            "   [0 3 0]\n",
            "   [3 4 2]]\n",
            "\n",
            "  [[4 3 2]\n",
            "   [3 0 3]\n",
            "   [4 2 3]]\n",
            "\n",
            "  [[3 2 3]\n",
            "   [0 3 2]\n",
            "   [2 3 2]]\n",
            "\n",
            "  [[2 3 3]\n",
            "   [3 2 2]\n",
            "   [3 2 2]]]\n",
            "\n",
            "\n",
            " [[[4 1 0]\n",
            "   [1 1 3]\n",
            "   [1 3 4]]\n",
            "\n",
            "  [[1 0 2]\n",
            "   [1 3 4]\n",
            "   [3 4 4]]\n",
            "\n",
            "  [[0 2 0]\n",
            "   [3 4 3]\n",
            "   [4 4 1]]\n",
            "\n",
            "  [[2 0 3]\n",
            "   [4 3 4]\n",
            "   [4 1 2]]\n",
            "\n",
            "  [[0 3 0]\n",
            "   [3 4 2]\n",
            "   [1 2 3]]\n",
            "\n",
            "  [[3 0 3]\n",
            "   [4 2 3]\n",
            "   [2 3 0]]\n",
            "\n",
            "  [[0 3 2]\n",
            "   [2 3 2]\n",
            "   [3 0 4]]\n",
            "\n",
            "  [[3 2 2]\n",
            "   [3 2 2]\n",
            "   [0 4 4]]]\n",
            "\n",
            "\n",
            " [[[1 1 3]\n",
            "   [1 3 4]\n",
            "   [1 2 4]]\n",
            "\n",
            "  [[1 3 4]\n",
            "   [3 4 4]\n",
            "   [2 4 4]]\n",
            "\n",
            "  [[3 4 3]\n",
            "   [4 4 1]\n",
            "   [4 4 2]]\n",
            "\n",
            "  [[4 3 4]\n",
            "   [4 1 2]\n",
            "   [4 2 1]]\n",
            "\n",
            "  [[3 4 2]\n",
            "   [1 2 3]\n",
            "   [2 1 2]]\n",
            "\n",
            "  [[4 2 3]\n",
            "   [2 3 0]\n",
            "   [1 2 3]]\n",
            "\n",
            "  [[2 3 2]\n",
            "   [3 0 4]\n",
            "   [2 3 0]]\n",
            "\n",
            "  [[3 2 2]\n",
            "   [0 4 4]\n",
            "   [3 0 1]]]]\n"
          ]
        }
      ]
    },
    {
      "cell_type": "markdown",
      "metadata": {
        "id": "lKsYqk5koC86"
      },
      "source": [
        "#### 85. Create a 2D array subclass such that Z\\[i,j\\] == Z\\[j,i\\] (★★★) \n",
        "(**hint**: class method)"
      ]
    },
    {
      "cell_type": "code",
      "metadata": {
        "id": "3nuiNCcJoC87",
        "colab": {
          "base_uri": "https://localhost:8080/"
        },
        "outputId": "8a3a1f5f-a48d-4fbb-f059-0200dc53522e"
      },
      "source": [
        "class Symetric(np.ndarray):\n",
        "    def __setitem__(self, index, value):\n",
        "        i,j = index\n",
        "        super(Symetric, self).__setitem__((i,j), value)\n",
        "        super(Symetric, self).__setitem__((j,i), value)\n",
        "\n",
        "def symetric(Z):\n",
        "    return np.asarray(Z + Z.T - np.diag(Z.diagonal())).view(Symetric)\n",
        "\n",
        "S = symetric(np.random.randint(0,10,(5,5)))\n",
        "S[2,3] = 42\n",
        "print(S)"
      ],
      "execution_count": null,
      "outputs": [
        {
          "output_type": "stream",
          "name": "stdout",
          "text": [
            "[[ 6 13  6  9  8]\n",
            " [13  4 15  7  9]\n",
            " [ 6 15  5 42  2]\n",
            " [ 9  7 42  0  2]\n",
            " [ 8  9  2  2  9]]\n"
          ]
        }
      ]
    },
    {
      "cell_type": "markdown",
      "metadata": {
        "id": "elWEeQ04oC87"
      },
      "source": [
        "#### 86. Consider a set of p matrices wich shape (n,n) and a set of p vectors with shape (n,1). How to compute the sum of of the p matrix products at once? (result has shape (n,1)) (★★★) \n",
        "(**hint**: np.tensordot)"
      ]
    },
    {
      "cell_type": "markdown",
      "metadata": {
        "id": "8dRZ-Sao-3H-"
      },
      "source": [
        ""
      ]
    },
    {
      "cell_type": "code",
      "metadata": {
        "id": "epzye0WLoC87",
        "colab": {
          "base_uri": "https://localhost:8080/"
        },
        "outputId": "5dfe6d6d-928e-4113-c182-d8194c23ca2b"
      },
      "source": [
        "p, n = 10, 20\n",
        "M = np.ones((p,n,n))\n",
        "V = np.ones((p,n,1))\n",
        "S = np.tensordot(M, V, axes=[[0, 2], [0, 1]])\n",
        "print(S)"
      ],
      "execution_count": null,
      "outputs": [
        {
          "output_type": "stream",
          "name": "stdout",
          "text": [
            "[[200.]\n",
            " [200.]\n",
            " [200.]\n",
            " [200.]\n",
            " [200.]\n",
            " [200.]\n",
            " [200.]\n",
            " [200.]\n",
            " [200.]\n",
            " [200.]\n",
            " [200.]\n",
            " [200.]\n",
            " [200.]\n",
            " [200.]\n",
            " [200.]\n",
            " [200.]\n",
            " [200.]\n",
            " [200.]\n",
            " [200.]\n",
            " [200.]]\n"
          ]
        }
      ]
    },
    {
      "cell_type": "markdown",
      "metadata": {
        "id": "cLf4SXLjoC87"
      },
      "source": [
        "#### 87. Consider a 16x16 array, how to get the block-sum (block size is 4x4)? (★★★) \n",
        "(**hint**: np.add.reduceat)"
      ]
    },
    {
      "cell_type": "code",
      "metadata": {
        "id": "RARwOtl_oC89",
        "colab": {
          "base_uri": "https://localhost:8080/"
        },
        "outputId": "26157ec4-5049-443c-8f53-92ffb6e9d214"
      },
      "source": [
        "Z = np.ones((16,16))\n",
        "k = 4\n",
        "S = np.add.reduceat(np.add.reduceat(Z, np.arange(0, Z.shape[0], k), axis=0),\n",
        "                                       np.arange(0, Z.shape[1], k), axis=1)\n",
        "print(S)"
      ],
      "execution_count": null,
      "outputs": [
        {
          "output_type": "stream",
          "name": "stdout",
          "text": [
            "[[16. 16. 16. 16.]\n",
            " [16. 16. 16. 16.]\n",
            " [16. 16. 16. 16.]\n",
            " [16. 16. 16. 16.]]\n"
          ]
        }
      ]
    },
    {
      "cell_type": "markdown",
      "metadata": {
        "id": "QMwJDiTzoC89"
      },
      "source": [
        "#### 88. How to implement the Game of Life using numpy arrays? (★★★)"
      ]
    },
    {
      "cell_type": "code",
      "metadata": {
        "id": "hmI5o431oC89",
        "colab": {
          "base_uri": "https://localhost:8080/"
        },
        "outputId": "93d1fee5-9e28-45ee-b8a8-f1edb957694b"
      },
      "source": [
        "def iterate(Z):\n",
        "    # Count neighbours\n",
        "    N = (Z[0:-2,0:-2] + Z[0:-2,1:-1] + Z[0:-2,2:] +\n",
        "         Z[1:-1,0:-2]                + Z[1:-1,2:] +\n",
        "         Z[2:  ,0:-2] + Z[2:  ,1:-1] + Z[2:  ,2:])\n",
        "\n",
        "    birth = (N==3) & (Z[1:-1,1:-1]==0)\n",
        "    survive = ((N==2) | (N==3)) & (Z[1:-1,1:-1]==1)\n",
        "    Z[...] = 0\n",
        "    Z[1:-1,1:-1][birth | survive] = 1\n",
        "    return Z\n",
        "\n",
        "Z = np.random.randint(0,2,(50,50))\n",
        "for i in range(100): Z = iterate(Z)\n",
        "print(Z)\n"
      ],
      "execution_count": null,
      "outputs": [
        {
          "output_type": "stream",
          "name": "stdout",
          "text": [
            "[[0 0 0 0 0 0 0 0 0 0 0 0 0 0 0 0 0 0 0 0 0 0 0 0 0 0 0 0 0 0 0 0 0 0 0 0\n",
            "  0 0 0 0 0 0 0 0 0 0 0 0 0 0]\n",
            " [0 0 0 0 0 0 0 0 0 1 0 0 0 0 0 0 0 0 0 0 0 0 0 0 0 0 0 0 0 0 0 0 0 0 0 0\n",
            "  0 0 0 0 0 0 0 0 0 0 0 0 0 0]\n",
            " [0 0 0 0 0 0 0 0 1 0 1 0 0 0 0 0 0 0 0 0 0 0 0 0 0 0 0 0 0 0 0 0 0 0 0 0\n",
            "  0 0 0 0 0 0 0 0 0 0 0 0 0 0]\n",
            " [0 0 0 0 0 0 0 0 0 0 1 0 0 0 0 0 0 0 0 0 0 0 0 0 0 0 0 0 0 0 0 0 0 0 0 0\n",
            "  0 0 0 0 0 0 0 0 0 0 0 0 0 0]\n",
            " [0 0 0 0 0 0 0 0 0 0 1 1 1 0 0 0 0 0 0 0 0 1 0 0 0 0 0 0 0 0 0 0 0 0 0 0\n",
            "  0 1 0 0 0 0 0 0 0 0 0 0 0 0]\n",
            " [0 0 0 0 0 0 0 0 0 1 0 1 1 1 0 0 0 0 0 0 1 0 1 0 0 0 0 0 0 0 0 0 0 0 0 0\n",
            "  1 1 1 0 0 0 0 0 0 0 0 0 0 0]\n",
            " [0 0 0 0 0 0 0 0 0 0 1 1 0 1 0 0 0 0 0 0 0 1 0 0 0 0 0 0 0 0 0 0 0 0 0 1\n",
            "  1 1 1 1 0 0 0 0 0 0 0 0 0 0]\n",
            " [0 0 1 1 0 0 0 0 0 0 0 0 1 0 0 0 0 0 0 0 0 0 0 0 0 0 0 0 0 0 0 0 0 0 1 1\n",
            "  0 0 0 0 0 0 0 0 0 0 0 0 0 0]\n",
            " [0 1 0 0 1 0 0 0 0 0 0 0 0 0 0 0 0 0 0 0 0 0 0 0 0 0 0 0 0 0 0 0 0 0 0 1\n",
            "  1 0 0 0 0 0 0 0 0 0 0 0 0 0]\n",
            " [0 1 1 0 0 0 0 0 0 0 0 0 0 0 0 0 0 0 0 0 0 0 0 0 0 0 0 0 0 0 0 0 0 0 0 0\n",
            "  0 0 0 0 0 0 0 0 0 0 0 0 0 0]\n",
            " [0 0 1 1 1 0 0 0 0 0 0 0 0 0 0 0 0 0 0 0 0 0 0 0 0 0 0 0 0 0 0 0 0 0 0 0\n",
            "  0 0 0 0 0 0 0 0 0 0 0 0 0 0]\n",
            " [0 0 0 0 0 0 0 0 1 1 1 0 0 0 0 0 0 0 0 0 0 0 0 0 0 0 0 0 0 0 0 0 0 0 0 0\n",
            "  0 0 0 1 0 0 0 0 0 0 0 0 0 0]\n",
            " [0 0 0 0 0 0 0 1 0 0 0 1 0 0 0 0 0 0 0 0 0 0 0 0 0 0 0 0 0 0 0 0 0 0 0 0\n",
            "  0 0 1 0 1 0 1 1 1 1 0 0 0 0]\n",
            " [0 0 0 0 0 0 1 0 0 0 1 1 0 0 0 0 0 0 0 0 0 0 0 0 0 0 0 0 0 0 0 0 0 0 0 0\n",
            "  0 0 1 0 0 0 0 0 0 0 1 0 0 0]\n",
            " [0 0 0 0 0 0 0 1 1 1 0 0 0 0 0 0 0 0 0 0 0 0 0 0 0 0 0 0 0 0 0 0 0 0 0 0\n",
            "  0 0 0 0 1 0 1 1 1 1 0 0 0 0]\n",
            " [0 0 0 0 0 0 0 0 0 0 0 0 0 0 0 0 0 0 0 0 0 0 0 0 0 0 0 0 0 0 0 0 0 0 0 0\n",
            "  0 0 0 0 0 0 0 0 1 0 1 0 0 0]\n",
            " [0 0 0 0 0 0 0 0 0 0 0 0 0 0 0 0 0 0 0 0 0 0 0 0 0 0 0 0 0 0 0 0 0 0 0 0\n",
            "  0 0 0 0 0 0 0 0 0 1 1 0 0 0]\n",
            " [0 0 0 0 0 0 0 0 0 0 0 0 0 0 0 0 0 0 0 0 0 0 0 0 0 0 0 0 0 0 0 0 0 0 0 0\n",
            "  0 0 0 0 0 0 0 0 1 0 0 0 0 0]\n",
            " [0 0 0 0 0 0 0 0 0 0 0 0 0 0 0 0 0 0 0 0 0 0 0 0 0 0 0 0 0 0 0 0 0 0 0 0\n",
            "  0 0 1 1 1 0 0 0 0 1 1 0 0 0]\n",
            " [0 0 0 0 0 0 0 0 0 0 0 0 0 0 0 0 0 0 0 0 0 0 0 0 0 0 0 0 0 0 0 0 0 0 0 0\n",
            "  0 1 0 0 0 1 0 0 0 0 0 0 0 0]\n",
            " [0 0 0 0 0 0 0 0 0 0 0 0 0 0 0 0 0 0 0 0 0 0 0 0 0 0 0 0 0 0 0 0 0 0 0 1\n",
            "  0 1 0 0 0 1 0 0 0 0 0 0 0 0]\n",
            " [0 0 0 0 0 0 0 0 0 0 0 0 0 0 0 0 0 0 0 0 0 0 0 0 0 0 0 0 0 0 0 0 0 0 0 1\n",
            "  0 0 0 0 0 0 0 0 0 0 0 0 0 0]\n",
            " [0 0 0 0 0 0 0 0 0 0 0 0 0 0 0 0 0 0 0 0 0 0 0 0 0 0 0 0 0 0 0 0 0 0 0 0\n",
            "  0 0 0 0 0 1 0 0 0 0 0 0 0 0]\n",
            " [0 0 0 0 0 0 0 0 0 0 0 0 0 0 0 0 0 0 0 0 0 0 0 0 0 1 0 0 0 0 0 0 0 0 0 0\n",
            "  0 0 0 0 0 0 0 0 0 0 0 0 0 0]\n",
            " [0 0 0 0 0 0 0 0 0 0 0 0 0 0 0 0 0 0 0 0 0 0 0 0 0 0 1 0 0 0 0 0 0 0 0 0\n",
            "  1 0 0 0 0 1 0 0 0 0 0 0 0 0]\n",
            " [0 0 0 0 0 0 0 0 0 0 0 0 0 0 0 0 0 0 0 0 0 0 0 0 0 1 0 1 0 0 0 0 0 0 0 0\n",
            "  0 1 1 0 1 1 0 0 0 0 0 0 0 0]\n",
            " [0 0 0 0 0 0 0 0 0 0 0 0 0 0 0 0 0 0 0 0 1 1 1 1 1 1 0 1 1 0 0 0 0 0 0 0\n",
            "  0 0 1 0 1 0 0 0 0 0 0 0 0 0]\n",
            " [0 0 0 0 0 0 0 0 0 0 0 0 0 0 0 0 0 0 0 0 1 0 0 1 0 1 1 1 0 0 0 0 0 0 0 0\n",
            "  0 0 1 0 1 0 0 0 0 0 0 0 0 0]\n",
            " [0 0 0 0 0 0 0 0 0 0 0 0 0 0 0 0 0 0 0 0 1 1 0 0 0 0 0 1 0 0 0 0 0 0 0 0\n",
            "  0 0 0 0 0 0 0 0 0 0 0 0 0 0]\n",
            " [0 0 0 0 0 0 0 0 0 0 0 0 0 0 0 0 0 0 0 0 0 0 1 1 0 1 0 1 0 0 0 0 0 0 0 0\n",
            "  0 0 0 1 1 1 0 0 0 0 0 0 0 0]\n",
            " [0 0 0 0 0 0 0 0 0 0 0 0 0 0 0 0 0 0 0 0 0 0 0 0 0 0 0 1 0 1 0 0 0 0 0 0\n",
            "  0 0 0 0 0 0 0 0 0 0 0 0 0 0]\n",
            " [0 0 0 0 0 0 0 0 0 0 0 0 0 0 0 1 0 0 0 0 0 0 0 0 0 1 1 0 0 1 0 0 0 0 0 0\n",
            "  0 0 0 0 0 0 0 0 0 0 0 0 0 0]\n",
            " [0 0 0 0 0 1 1 1 0 0 0 0 0 0 1 0 1 0 0 0 0 0 0 0 1 0 1 1 0 0 0 0 0 0 0 0\n",
            "  0 0 0 0 0 0 0 0 0 0 0 0 0 0]\n",
            " [0 0 0 0 1 0 0 0 1 1 0 0 0 1 1 0 1 1 0 0 0 0 0 1 1 1 0 1 1 1 0 0 0 0 0 0\n",
            "  0 0 0 0 0 0 0 0 1 0 0 0 0 0]\n",
            " [0 0 0 0 1 0 0 0 0 0 1 0 1 1 0 0 1 0 0 0 0 0 0 0 0 0 0 0 1 1 1 1 1 0 0 0\n",
            "  0 0 0 0 0 0 0 1 0 1 0 0 0 0]\n",
            " [0 0 0 0 0 0 0 0 0 0 1 0 0 1 0 1 0 0 0 0 0 0 0 0 0 0 1 0 0 1 1 1 1 0 0 0\n",
            "  0 0 0 0 0 0 1 0 0 1 0 0 0 0]\n",
            " [0 0 0 0 0 0 0 0 0 0 1 1 0 0 0 0 1 1 0 0 0 0 0 0 0 1 0 0 1 0 0 0 0 0 0 1\n",
            "  1 0 1 1 0 0 0 1 1 0 0 0 0 0]\n",
            " [0 0 0 0 0 0 1 1 0 0 1 0 0 1 1 0 0 1 0 0 0 0 0 0 1 1 0 1 0 0 0 0 0 0 0 1\n",
            "  1 0 1 1 0 0 0 0 0 0 0 0 0 0]\n",
            " [0 0 0 0 0 0 0 0 1 1 0 0 0 0 1 0 0 0 0 0 0 0 0 0 0 0 0 0 0 0 0 1 1 0 0 0\n",
            "  0 0 0 0 0 0 0 0 0 0 0 0 0 0]\n",
            " [0 0 0 0 0 0 0 0 0 0 0 0 0 0 1 0 0 1 0 0 0 0 0 0 1 1 1 0 1 1 0 0 1 0 0 0\n",
            "  0 0 0 0 0 0 0 0 0 0 0 0 0 0]\n",
            " [0 0 0 0 0 0 0 0 0 0 0 0 0 0 0 1 0 1 0 0 0 0 0 0 0 0 1 1 0 0 0 0 0 1 0 0\n",
            "  0 0 0 0 0 0 0 0 0 0 0 0 0 0]\n",
            " [0 0 0 0 0 0 0 0 0 0 0 0 0 0 0 0 0 0 0 0 0 0 0 0 0 0 1 0 0 0 0 0 1 1 0 0\n",
            "  0 0 0 0 0 0 0 0 0 0 0 0 0 0]\n",
            " [0 0 0 0 0 0 0 0 0 0 0 0 0 0 0 0 0 0 0 0 0 0 0 0 0 0 1 1 0 1 0 0 0 0 0 0\n",
            "  0 0 0 0 0 0 0 0 0 0 0 0 0 0]\n",
            " [0 0 0 0 0 0 0 0 0 0 0 0 0 0 0 0 0 0 0 0 0 1 1 1 1 1 1 1 0 1 1 1 1 1 0 0\n",
            "  0 0 0 0 0 0 0 0 0 0 0 0 0 0]\n",
            " [0 1 1 0 0 0 0 0 0 0 0 0 0 0 0 0 0 0 0 0 0 0 0 0 1 1 0 0 0 1 0 1 1 0 0 0\n",
            "  0 0 0 0 0 0 0 0 0 0 0 0 0 0]\n",
            " [0 1 0 1 0 0 0 0 0 0 0 0 0 0 0 0 0 0 0 0 0 0 0 0 0 0 0 0 0 1 0 0 0 0 0 1\n",
            "  0 0 0 0 0 0 0 0 0 0 0 0 0 0]\n",
            " [0 1 0 0 1 0 0 0 0 0 0 0 0 0 0 0 0 0 0 0 0 0 0 0 0 0 0 0 0 0 0 0 0 0 0 1\n",
            "  0 0 0 0 0 0 0 0 0 0 0 0 0 0]\n",
            " [0 0 1 1 0 0 0 0 0 0 0 0 0 0 0 0 0 0 0 0 0 0 0 0 0 0 0 0 0 0 0 0 0 0 0 0\n",
            "  0 0 0 0 0 0 0 0 0 0 0 0 0 0]\n",
            " [0 0 0 0 0 0 0 0 0 0 0 0 0 0 0 0 0 0 0 0 0 0 0 0 0 0 0 0 0 0 0 0 0 0 0 0\n",
            "  0 0 0 0 0 0 0 0 0 0 0 0 0 0]\n",
            " [0 0 0 0 0 0 0 0 0 0 0 0 0 0 0 0 0 0 0 0 0 0 0 0 0 0 0 0 0 0 0 0 0 0 0 0\n",
            "  0 0 0 0 0 0 0 0 0 0 0 0 0 0]]\n"
          ]
        }
      ]
    },
    {
      "cell_type": "markdown",
      "metadata": {
        "id": "mth6ppTSoC89"
      },
      "source": [
        "#### 89. How to get the n largest values of an array (★★★) \n",
        "(**hint**: np.argsort | np.argpartition)"
      ]
    },
    {
      "cell_type": "code",
      "metadata": {
        "id": "5EC1FsmnoC8-"
      },
      "source": [
        "Z = np.arange(10000)\n",
        "np.random.shuffle(Z)\n",
        "n = 5"
      ],
      "execution_count": null,
      "outputs": []
    },
    {
      "cell_type": "markdown",
      "metadata": {
        "id": "9B2Ph-oUoC8-"
      },
      "source": [
        "#### 90. Given an arbitrary number of vectors, build the cartesian product (every combinations of every item) (★★★) \n",
        "(**hint**: np.indices)"
      ]
    },
    {
      "cell_type": "code",
      "metadata": {
        "scrolled": true,
        "id": "HU33L17woC8-",
        "colab": {
          "base_uri": "https://localhost:8080/"
        },
        "outputId": "c1b44c46-9262-45db-b127-aa0d15f5c2ff"
      },
      "source": [
        "def cartesian(arrays):\n",
        "    arrays = [np.asarray(a) for a in arrays]\n",
        "    shape = (len(x) for x in arrays)\n",
        "\n",
        "    ix = np.indices(shape, dtype=int)\n",
        "    ix = ix.reshape(len(arrays), -1).T\n",
        "\n",
        "    for n, arr in enumerate(arrays):\n",
        "        ix[:, n] = arrays[n][ix[:, n]]\n",
        "\n",
        "    return ix\n",
        "\n",
        "print (cartesian(([1, 2, 3], [4, 5], [6, 7])))"
      ],
      "execution_count": null,
      "outputs": [
        {
          "output_type": "stream",
          "name": "stdout",
          "text": [
            "[[1 4 6]\n",
            " [1 4 7]\n",
            " [1 5 6]\n",
            " [1 5 7]\n",
            " [2 4 6]\n",
            " [2 4 7]\n",
            " [2 5 6]\n",
            " [2 5 7]\n",
            " [3 4 6]\n",
            " [3 4 7]\n",
            " [3 5 6]\n",
            " [3 5 7]]\n"
          ]
        }
      ]
    },
    {
      "cell_type": "markdown",
      "metadata": {
        "id": "Q2w27eowoC8-"
      },
      "source": [
        "#### 91. How to create a record array from a regular array? (★★★) \n",
        "(**hint**: np.core.records.fromarrays)"
      ]
    },
    {
      "cell_type": "code",
      "metadata": {
        "id": "SNHXpm3_oC8-",
        "colab": {
          "base_uri": "https://localhost:8080/"
        },
        "outputId": "801b9c37-a9ed-47ff-f021-a222827021d9"
      },
      "source": [
        "Z = np.array([(\"Hello\", 2.5, 3),\n",
        "              (\"World\", 3.6, 2)])\n",
        "R = np.core.records.fromarrays(Z.T,\n",
        "                               names='col1, col2, col3',\n",
        "                               formats = 'S8, f8, i8')\n",
        "print(R)"
      ],
      "execution_count": null,
      "outputs": [
        {
          "output_type": "stream",
          "name": "stdout",
          "text": [
            "[(b'Hello', 2.5, 3) (b'World', 3.6, 2)]\n"
          ]
        }
      ]
    },
    {
      "cell_type": "markdown",
      "metadata": {
        "id": "32ygesm9oC8-"
      },
      "source": [
        "#### 92. Consider a large vector Z, compute Z to the power of 3 using 3 different methods (★★★) \n",
        "(**hint**: np.power, \\*, np.einsum)"
      ]
    },
    {
      "cell_type": "code",
      "metadata": {
        "id": "XkoC0NK3oC8-",
        "colab": {
          "base_uri": "https://localhost:8080/"
        },
        "outputId": "a1cd6b36-4e51-4051-894f-d9ac43be2dd0"
      },
      "source": [
        "x = np.random.rand(int(5e7))\n",
        "\n",
        "%timeit np.power(x,3)\n",
        "%timeit x*x*x\n",
        "%timeit np.einsum('i,i,i->i',x,x,x)"
      ],
      "execution_count": null,
      "outputs": [
        {
          "output_type": "stream",
          "name": "stdout",
          "text": [
            "1 loop, best of 5: 3.69 s per loop\n",
            "10 loops, best of 5: 140 ms per loop\n",
            "10 loops, best of 5: 116 ms per loop\n"
          ]
        }
      ]
    },
    {
      "cell_type": "markdown",
      "metadata": {
        "id": "1EhCcgc6oC8_"
      },
      "source": [
        "#### 93. Consider two arrays A and B of shape (8,3) and (2,2). How to find rows of A that contain elements of each row of B regardless of the order of the elements in B? (★★★) \n",
        "(**hint**: np.where)"
      ]
    },
    {
      "cell_type": "code",
      "metadata": {
        "id": "y_n1McLXoC8_",
        "colab": {
          "base_uri": "https://localhost:8080/"
        },
        "outputId": "d0f23700-f45e-418b-fdfb-c925246c5ccf"
      },
      "source": [
        "A = np.random.randint(0,5,(8,3))\n",
        "B = np.random.randint(0,5,(2,2))\n",
        "\n",
        "C = (A[..., np.newaxis, np.newaxis] == B)\n",
        "rows = np.where(C.any((3,1)).all(1))[0]\n",
        "print(rows)"
      ],
      "execution_count": null,
      "outputs": [
        {
          "output_type": "stream",
          "name": "stdout",
          "text": [
            "[]\n"
          ]
        }
      ]
    },
    {
      "cell_type": "markdown",
      "metadata": {
        "id": "oBwOXSyRoC8_"
      },
      "source": [
        "#### 94. Considering a 10x3 matrix, extract rows with unequal values (e.g. \\[2,2,3\\]) (★★★)"
      ]
    },
    {
      "cell_type": "code",
      "metadata": {
        "id": "UCRkRAnGoC8_",
        "colab": {
          "base_uri": "https://localhost:8080/"
        },
        "outputId": "257f64fd-5f6e-4346-f00c-b8a60c2b3d76"
      },
      "source": [
        "Z = np.random.randint(0,5,(10,3))\n",
        "print(Z)\n",
        "# solution for arrays of all dtypes (including string arrays and record arrays)\n",
        "E = np.all(Z[:,1:] == Z[:,:-1], axis=1)\n",
        "U = Z[~E]\n",
        "print(U)\n",
        "# soluiton for numerical arrays only, will work for any number of columns in Z\n",
        "U = Z[Z.max(axis=1) != Z.min(axis=1),:]\n",
        "print(U)"
      ],
      "execution_count": null,
      "outputs": [
        {
          "output_type": "stream",
          "name": "stdout",
          "text": [
            "[[2 3 1]\n",
            " [4 1 0]\n",
            " [3 2 1]\n",
            " [1 1 2]\n",
            " [1 3 0]\n",
            " [4 2 4]\n",
            " [1 0 2]\n",
            " [2 0 0]\n",
            " [1 3 1]\n",
            " [3 1 0]]\n",
            "[[2 3 1]\n",
            " [4 1 0]\n",
            " [3 2 1]\n",
            " [1 1 2]\n",
            " [1 3 0]\n",
            " [4 2 4]\n",
            " [1 0 2]\n",
            " [2 0 0]\n",
            " [1 3 1]\n",
            " [3 1 0]]\n",
            "[[2 3 1]\n",
            " [4 1 0]\n",
            " [3 2 1]\n",
            " [1 1 2]\n",
            " [1 3 0]\n",
            " [4 2 4]\n",
            " [1 0 2]\n",
            " [2 0 0]\n",
            " [1 3 1]\n",
            " [3 1 0]]\n"
          ]
        }
      ]
    },
    {
      "cell_type": "markdown",
      "metadata": {
        "id": "2XImKBNhoC8_"
      },
      "source": [
        "#### 95. Convert a vector of ints into a matrix binary representation (★★★) \n",
        "(**hint**: np.unpackbits)"
      ]
    },
    {
      "cell_type": "code",
      "metadata": {
        "id": "szn6xAptoC8_",
        "colab": {
          "base_uri": "https://localhost:8080/"
        },
        "outputId": "7c64701c-06fd-44ed-b0bf-db3ce13a69ba"
      },
      "source": [
        "\n",
        "I = np.array([0, 1, 2, 3, 15, 16, 32, 64, 128], dtype=np.uint8)\n",
        "print(np.unpackbits(I[:, np.newaxis], axis=1))"
      ],
      "execution_count": null,
      "outputs": [
        {
          "output_type": "stream",
          "name": "stdout",
          "text": [
            "[[0 0 0 0 0 0 0 0]\n",
            " [0 0 0 0 0 0 0 1]\n",
            " [0 0 0 0 0 0 1 0]\n",
            " [0 0 0 0 0 0 1 1]\n",
            " [0 0 0 0 1 1 1 1]\n",
            " [0 0 0 1 0 0 0 0]\n",
            " [0 0 1 0 0 0 0 0]\n",
            " [0 1 0 0 0 0 0 0]\n",
            " [1 0 0 0 0 0 0 0]]\n"
          ]
        }
      ]
    },
    {
      "cell_type": "markdown",
      "metadata": {
        "id": "1nzcZgRnoC8_"
      },
      "source": [
        "#### 96. Given a two dimensional array, how to extract unique rows? (★★★) \n",
        "(**hint**: np.ascontiguousarray)"
      ]
    },
    {
      "cell_type": "code",
      "metadata": {
        "id": "xjiFjisNoC9A",
        "colab": {
          "base_uri": "https://localhost:8080/"
        },
        "outputId": "76879f75-bb34-430a-c680-955eca0eb10e"
      },
      "source": [
        "Z = np.random.randint(0,2,(6,3))\n",
        "T = np.ascontiguousarray(Z).view(np.dtype((np.void, Z.dtype.itemsize * Z.shape[1])))\n",
        "_, idx = np.unique(T, return_index=True)\n",
        "uZ = Z[idx]\n",
        "print(uZ)"
      ],
      "execution_count": null,
      "outputs": [
        {
          "output_type": "stream",
          "name": "stdout",
          "text": [
            "[[0 1 1]\n",
            " [1 0 0]\n",
            " [1 1 0]\n",
            " [1 1 1]]\n"
          ]
        }
      ]
    },
    {
      "cell_type": "markdown",
      "metadata": {
        "id": "q-WaqSudoC9A"
      },
      "source": [
        "#### 97. Considering 2 vectors A & B, write the einsum equivalent of inner, outer, sum, and mul function (★★★) \n",
        "(**hint**: np.einsum)"
      ]
    },
    {
      "cell_type": "code",
      "metadata": {
        "id": "YD-52cRcoC9A",
        "colab": {
          "base_uri": "https://localhost:8080/"
        },
        "outputId": "448309e9-5c8b-4e78-986d-91b10ecf1b17"
      },
      "source": [
        "A = np.random.uniform(0,1,10)\n",
        "B = np.random.uniform(0,1,10)\n",
        "\n",
        "np.einsum('i->', A)       # np.sum(A)\n",
        "np.einsum('i,i->i', A, B) # A * B\n",
        "np.einsum('i,i', A, B)    # np.inner(A, B)\n",
        "np.einsum('i,j->ij', A, B)    # np.outer(A, B)"
      ],
      "execution_count": null,
      "outputs": [
        {
          "output_type": "execute_result",
          "data": {
            "text/plain": [
              "array([[0.09244853, 0.04801874, 0.08452478, 0.04416799, 0.12098639,\n",
              "        0.08442052, 0.05706429, 0.01083311, 0.1435974 , 0.08701919],\n",
              "       [0.35133875, 0.18248907, 0.32122556, 0.16785479, 0.45979325,\n",
              "        0.32082936, 0.21686551, 0.04116984, 0.54572348, 0.33070526],\n",
              "       [0.44328583, 0.23024736, 0.40529187, 0.21178321, 0.58012341,\n",
              "        0.40479198, 0.27362028, 0.05194419, 0.68854201, 0.41725246],\n",
              "       [0.57915849, 0.30082106, 0.5295189 , 0.27669742, 0.7579385 ,\n",
              "        0.5288658 , 0.35748832, 0.06786574, 0.89958875, 0.54514556],\n",
              "       [0.04198362, 0.02180674, 0.03838521, 0.020058  , 0.05494352,\n",
              "        0.03833787, 0.02591459, 0.00491964, 0.06521185, 0.039518  ],\n",
              "       [0.13884066, 0.07211531, 0.12694064, 0.06633219, 0.18169928,\n",
              "        0.12678408, 0.08570005, 0.01626934, 0.21565684, 0.13068679],\n",
              "       [0.4221191 , 0.21925314, 0.38593934, 0.20167064, 0.55242274,\n",
              "        0.38546332, 0.26055502, 0.04946388, 0.65566439, 0.39732881],\n",
              "       [0.29925069, 0.15543398, 0.27360196, 0.14296931, 0.39162616,\n",
              "        0.2732645 , 0.1847139 , 0.03506617, 0.46481673, 0.28167624],\n",
              "       [0.33907648, 0.17611991, 0.31001428, 0.16199639, 0.44374575,\n",
              "        0.30963191, 0.20929656, 0.03973295, 0.52667688, 0.31916313],\n",
              "       [0.0256827 , 0.01333987, 0.02348144, 0.01227011, 0.03361067,\n",
              "        0.02345248, 0.01585277, 0.0030095 , 0.03989213, 0.0241744 ]])"
            ]
          },
          "metadata": {},
          "execution_count": 145
        }
      ]
    },
    {
      "cell_type": "markdown",
      "metadata": {
        "id": "xHQLvD6toC9A"
      },
      "source": [
        "#### 98. Considering a path described by two vectors (X,Y), how to sample it using equidistant samples (★★★)? \n",
        "(**hint**: np.cumsum, np.interp)"
      ]
    },
    {
      "cell_type": "code",
      "metadata": {
        "collapsed": true,
        "id": "hwJ-UoRioC9A"
      },
      "source": [
        "phi = np.arange(0, 10*np.pi, 0.1)\n",
        "a = 1\n",
        "x = a*phi*np.cos(phi)\n",
        "y = a*phi*np.sin(phi)\n",
        "\n",
        "dr = (np.diff(x)**2 + np.diff(y)**2)**.5 # segment lengths\n",
        "r = np.zeros_like(x)\n",
        "r[1:] = np.cumsum(dr)                # integrate path\n",
        "r_int = np.linspace(0, r.max(), 200) # regular spaced path\n",
        "x_int = np.interp(r_int, r, x)       # integrate path\n",
        "y_int = np.interp(r_int, r, y)"
      ],
      "execution_count": null,
      "outputs": []
    },
    {
      "cell_type": "markdown",
      "metadata": {
        "id": "yEfhICbnoC9A"
      },
      "source": [
        "#### 99. Given an integer n and a 2D array X, select from X the rows which can be interpreted as draws from a multinomial distribution with n degrees, i.e., the rows which only contain integers and which sum to n. (★★★) \n",
        "(**hint**: np.logical\\_and.reduce, np.mod)"
      ]
    },
    {
      "cell_type": "code",
      "metadata": {
        "id": "gtTNWpN1oC9A",
        "colab": {
          "base_uri": "https://localhost:8080/"
        },
        "outputId": "da1bf55c-566c-4470-f0d1-89c59a9b2dc7"
      },
      "source": [
        "X = np.asarray([[1.0, 0.0, 3.0, 8.0],\n",
        "                [2.0, 0.0, 1.0, 1.0],\n",
        "                [1.5, 2.5, 1.0, 0.0]])\n",
        "n = 4\n",
        "M = np.logical_and.reduce(np.mod(X, 1) == 0, axis=-1)\n",
        "M &= (X.sum(axis=-1) == n)\n",
        "print(X[M])"
      ],
      "execution_count": null,
      "outputs": [
        {
          "output_type": "stream",
          "name": "stdout",
          "text": [
            "[[2. 0. 1. 1.]]\n"
          ]
        }
      ]
    },
    {
      "cell_type": "markdown",
      "metadata": {
        "id": "HjJPwfUdoC9A"
      },
      "source": [
        "#### 100. Compute bootstrapped 95% confidence intervals for the mean of a 1D array X (i.e., resample the elements of an array with replacement N times, compute the mean of each sample, and then compute percentiles over the means). (★★★) \n",
        "(**hint**: np.percentile)"
      ]
    },
    {
      "cell_type": "code",
      "metadata": {
        "id": "69_GvaNDpExH"
      },
      "source": [
        ""
      ],
      "execution_count": null,
      "outputs": []
    },
    {
      "cell_type": "code",
      "metadata": {
        "id": "XuoQzEazoC9B",
        "colab": {
          "base_uri": "https://localhost:8080/"
        },
        "outputId": "1c809a0c-8e71-48d9-cf29-c35e530f353f"
      },
      "source": [
        "X = np.random.randn(100) # random 1D array\n",
        "N = 1000 # number of bootstrap samples\n",
        "idx = np.random.randint(0, X.size, (N, X.size))\n",
        "means = X[idx].mean(axis=1)\n",
        "confint = np.percentile(means, [2.5, 97.5])\n",
        "print(confint)"
      ],
      "execution_count": null,
      "outputs": [
        {
          "output_type": "stream",
          "name": "stdout",
          "text": [
            "[-0.29306096  0.08563099]\n"
          ]
        }
      ]
    }
  ]
}